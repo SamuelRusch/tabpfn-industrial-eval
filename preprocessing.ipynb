{
 "cells": [
  {
   "cell_type": "code",
   "execution_count": 50,
   "id": "24e5094d",
   "metadata": {},
   "outputs": [],
   "source": [
    "import pandas as pd\n",
    "import numpy as np\n",
    "import matplotlib.pyplot as plt\n",
    "from sklearn.metrics import mean_squared_error, r2_score\n",
    "from sklearn.tree import DecisionTreeRegressor\n",
    "from sklearn.ensemble import RandomForestRegressor\n",
    "from xgboost import XGBRegressor\n",
    "import torch\n",
    "import torch.nn as nn\n",
    "from tab_transformer_pytorch import TabTransformer \n",
    "from preprocessing import get_features_and_target"
   ]
  },
  {
   "cell_type": "code",
   "execution_count": null,
   "id": "493927ed",
   "metadata": {},
   "outputs": [
    {
     "ename": "AttributeError",
     "evalue": "'tuple' object has no attribute 'shape'",
     "output_type": "error",
     "traceback": [
      "\u001b[1;31m---------------------------------------------------------------------------\u001b[0m",
      "\u001b[1;31mAttributeError\u001b[0m                            Traceback (most recent call last)",
      "Cell \u001b[1;32mIn[39], line 20\u001b[0m\n\u001b[0;32m     17\u001b[0m x_categ \u001b[38;5;241m=\u001b[39m (\u001b[38;5;241m9\u001b[39m, \u001b[38;5;241m12\u001b[39m)     \u001b[38;5;66;03m# category values, from 0 - max number of categories, in the order as passed into the constructor above\u001b[39;00m\n\u001b[0;32m     18\u001b[0m x_cont \u001b[38;5;241m=\u001b[39m (\u001b[38;5;241m1\u001b[39m, \u001b[38;5;241m16\u001b[39m)               \u001b[38;5;66;03m# assume continuous values are already normalized individually\u001b[39;00m\n\u001b[1;32m---> 20\u001b[0m pred \u001b[38;5;241m=\u001b[39m \u001b[43mregressor\u001b[49m\u001b[43m(\u001b[49m\u001b[43mx_categ\u001b[49m\u001b[43m,\u001b[49m\u001b[43m \u001b[49m\u001b[43mx_cont\u001b[49m\u001b[43m)\u001b[49m \u001b[38;5;66;03m# (1, 1)\u001b[39;00m\n\u001b[0;32m     21\u001b[0m \u001b[38;5;28mprint\u001b[39m(pred)\n",
      "File \u001b[1;32mc:\\Users\\Marcus\\miniconda3\\envs\\MLDA\\lib\\site-packages\\torch\\nn\\modules\\module.py:1751\u001b[0m, in \u001b[0;36mModule._wrapped_call_impl\u001b[1;34m(self, *args, **kwargs)\u001b[0m\n\u001b[0;32m   1749\u001b[0m     \u001b[38;5;28;01mreturn\u001b[39;00m \u001b[38;5;28mself\u001b[39m\u001b[38;5;241m.\u001b[39m_compiled_call_impl(\u001b[38;5;241m*\u001b[39margs, \u001b[38;5;241m*\u001b[39m\u001b[38;5;241m*\u001b[39mkwargs)  \u001b[38;5;66;03m# type: ignore[misc]\u001b[39;00m\n\u001b[0;32m   1750\u001b[0m \u001b[38;5;28;01melse\u001b[39;00m:\n\u001b[1;32m-> 1751\u001b[0m     \u001b[38;5;28;01mreturn\u001b[39;00m \u001b[38;5;28mself\u001b[39m\u001b[38;5;241m.\u001b[39m_call_impl(\u001b[38;5;241m*\u001b[39margs, \u001b[38;5;241m*\u001b[39m\u001b[38;5;241m*\u001b[39mkwargs)\n",
      "File \u001b[1;32mc:\\Users\\Marcus\\miniconda3\\envs\\MLDA\\lib\\site-packages\\torch\\nn\\modules\\module.py:1762\u001b[0m, in \u001b[0;36mModule._call_impl\u001b[1;34m(self, *args, **kwargs)\u001b[0m\n\u001b[0;32m   1757\u001b[0m \u001b[38;5;66;03m# If we don't have any hooks, we want to skip the rest of the logic in\u001b[39;00m\n\u001b[0;32m   1758\u001b[0m \u001b[38;5;66;03m# this function, and just call forward.\u001b[39;00m\n\u001b[0;32m   1759\u001b[0m \u001b[38;5;28;01mif\u001b[39;00m \u001b[38;5;129;01mnot\u001b[39;00m (\u001b[38;5;28mself\u001b[39m\u001b[38;5;241m.\u001b[39m_backward_hooks \u001b[38;5;129;01mor\u001b[39;00m \u001b[38;5;28mself\u001b[39m\u001b[38;5;241m.\u001b[39m_backward_pre_hooks \u001b[38;5;129;01mor\u001b[39;00m \u001b[38;5;28mself\u001b[39m\u001b[38;5;241m.\u001b[39m_forward_hooks \u001b[38;5;129;01mor\u001b[39;00m \u001b[38;5;28mself\u001b[39m\u001b[38;5;241m.\u001b[39m_forward_pre_hooks\n\u001b[0;32m   1760\u001b[0m         \u001b[38;5;129;01mor\u001b[39;00m _global_backward_pre_hooks \u001b[38;5;129;01mor\u001b[39;00m _global_backward_hooks\n\u001b[0;32m   1761\u001b[0m         \u001b[38;5;129;01mor\u001b[39;00m _global_forward_hooks \u001b[38;5;129;01mor\u001b[39;00m _global_forward_pre_hooks):\n\u001b[1;32m-> 1762\u001b[0m     \u001b[38;5;28;01mreturn\u001b[39;00m forward_call(\u001b[38;5;241m*\u001b[39margs, \u001b[38;5;241m*\u001b[39m\u001b[38;5;241m*\u001b[39mkwargs)\n\u001b[0;32m   1764\u001b[0m result \u001b[38;5;241m=\u001b[39m \u001b[38;5;28;01mNone\u001b[39;00m\n\u001b[0;32m   1765\u001b[0m called_always_called_hooks \u001b[38;5;241m=\u001b[39m \u001b[38;5;28mset\u001b[39m()\n",
      "File \u001b[1;32mc:\\Users\\Marcus\\miniconda3\\envs\\MLDA\\lib\\site-packages\\tab_transformer_pytorch\\tab_transformer_pytorch.py:235\u001b[0m, in \u001b[0;36mTabTransformer.forward\u001b[1;34m(self, x_categ, x_cont, return_attn)\u001b[0m\n\u001b[0;32m    232\u001b[0m \u001b[38;5;28;01mdef\u001b[39;00m \u001b[38;5;21mforward\u001b[39m(\u001b[38;5;28mself\u001b[39m, x_categ, x_cont, return_attn \u001b[38;5;241m=\u001b[39m \u001b[38;5;28;01mFalse\u001b[39;00m):\n\u001b[0;32m    233\u001b[0m     xs \u001b[38;5;241m=\u001b[39m []\n\u001b[1;32m--> 235\u001b[0m     \u001b[38;5;28;01massert\u001b[39;00m \u001b[43mx_categ\u001b[49m\u001b[38;5;241;43m.\u001b[39;49m\u001b[43mshape\u001b[49m[\u001b[38;5;241m-\u001b[39m\u001b[38;5;241m1\u001b[39m] \u001b[38;5;241m==\u001b[39m \u001b[38;5;28mself\u001b[39m\u001b[38;5;241m.\u001b[39mnum_categories, \u001b[38;5;124mf\u001b[39m\u001b[38;5;124m'\u001b[39m\u001b[38;5;124myou must pass in \u001b[39m\u001b[38;5;132;01m{\u001b[39;00m\u001b[38;5;28mself\u001b[39m\u001b[38;5;241m.\u001b[39mnum_categories\u001b[38;5;132;01m}\u001b[39;00m\u001b[38;5;124m values for your categories input\u001b[39m\u001b[38;5;124m'\u001b[39m\n\u001b[0;32m    237\u001b[0m     \u001b[38;5;28;01mif\u001b[39;00m \u001b[38;5;28mself\u001b[39m\u001b[38;5;241m.\u001b[39mnum_unique_categories \u001b[38;5;241m>\u001b[39m \u001b[38;5;241m0\u001b[39m:\n\u001b[0;32m    238\u001b[0m         x_categ \u001b[38;5;241m=\u001b[39m x_categ \u001b[38;5;241m+\u001b[39m \u001b[38;5;28mself\u001b[39m\u001b[38;5;241m.\u001b[39mcategories_offset\n",
      "\u001b[1;31mAttributeError\u001b[0m: 'tuple' object has no attribute 'shape'"
     ]
    }
   ],
   "source": [
    "cont_mean_std = torch.randn(16, 2)\n",
    "\n",
    "model = TabTransformer(\n",
    "    categories = (9,16, ),      # tuple containing the number of unique values within each category\n",
    "    num_continuous = 16,                # number of continuous values\n",
    "    dim = 32,                           # dimension, paper set at 32\n",
    "    dim_out = 1,                        # binary prediction, but could be anything\n",
    "    depth = 6,                          # depth, paper recommended 6\n",
    "    heads = 8,                          # heads, paper recommends 8\n",
    "    attn_dropout = 0.1,                 # post-attention dropout\n",
    "    ff_dropout = 0.1,                   # feed forward dropout\n",
    "    mlp_hidden_mults = (4, 2),          # relative multiples of each hidden dimension of the last mlp to logits\n",
    "    mlp_act = nn.ReLU(),                # activation for final mlp, defaults to relu, but could be anything else (selu etc)\n",
    "    continuous_mean_std = cont_mean_std # (optional) - normalize the continuous values before layer norm\n",
    ")\n",
    "\n",
    "x_categ = (9, 12)     # category values, from 0 - max number of categories, in the order as passed into the constructor above\n",
    "x_cont = (1, 16)               # assume continuous values are already normalized individually\n",
    "\n",
    "pred = model(x_categ, x_cont) # (1, 1)\n",
    "print(pred)"
   ]
  },
  {
   "cell_type": "code",
   "execution_count": 40,
   "id": "76250c95",
   "metadata": {},
   "outputs": [
    {
     "name": "stdout",
     "output_type": "stream",
     "text": [
      "Epoch [1/2], Loss: 0.6238, Accuracy: 0.7109\n",
      "Epoch [2/2], Loss: 0.4544, Accuracy: 0.7875\n"
     ]
    }
   ],
   "source": [
    "import torch\n",
    "import torch.nn as nn\n",
    "from torch.utils.data import DataLoader, TensorDataset\n",
    "from tab_transformer_pytorch import TabTransformer\n",
    "import numpy as np\n",
    "from sklearn.metrics import accuracy_score, classification_report\n",
    "\n",
    "# Generate fake data\n",
    "def generate_data(num_samples):\n",
    "    x_categ = torch.randint(0, 10, (num_samples, 5))\n",
    "    \n",
    "    x_cont = torch.randn(num_samples, 15)\n",
    "    \n",
    "    y = torch.zeros(num_samples)\n",
    "    for i in range(num_samples):\n",
    "        if x_categ[i, 0] > 5 and x_cont[i, 0] > 0:\n",
    "            y[i] = 2  \n",
    "        elif x_categ[i, 1] < 3 or x_cont[i, 1] < -1:\n",
    "            y[i] = 1 \n",
    "        else:\n",
    "            y[i] = 0  \n",
    "    \n",
    "    return x_categ, x_cont, y.long()\n",
    "\n",
    "num_samples = 10000\n",
    "x_categ, x_cont, y = generate_data(num_samples)\n",
    "\n",
    "cont_mean = x_cont.mean(dim=0)\n",
    "cont_std = x_cont.std(dim=0)\n",
    "x_cont = (x_cont - cont_mean) / cont_std \n",
    "cont_mean_std = torch.stack([cont_mean, cont_std], dim=1)\n",
    "\n",
    "# Model\n",
    "model = TabTransformer(\n",
    "    categories = (10, 10, 10, 10, 10), \n",
    "    num_continuous = 15,                \n",
    "    dim = 64,                            \n",
    "    dim_out = 3,                        \n",
    "    depth = 6,                           \n",
    "    heads = 8,                          \n",
    "    attn_dropout = 0.1,                  \n",
    "    ff_dropout = 0.1,                    \n",
    "    mlp_hidden_mults = (4, 2),           \n",
    "    mlp_act = nn.ReLU(),                 \n",
    "    continuous_mean_std = cont_mean_std  \n",
    ")\n",
    "\n",
    "dataset = TensorDataset(x_categ, x_cont, y)\n",
    "train_size = int(0.8 * len(dataset))  \n",
    "test_size = len(dataset) - train_size \n",
    "train_dataset, test_dataset = torch.utils.data.random_split(dataset, [train_size, test_size])\n",
    "\n",
    "train_loader = DataLoader(train_dataset, batch_size=64, shuffle=True)  \n",
    "test_loader = DataLoader(test_dataset, batch_size=64, shuffle=False)  \n",
    "\n",
    "criterion = nn.CrossEntropyLoss() \n",
    "optimizer = torch.optim.Adam(model.parameters(), lr=0.001) \n",
    "\n",
    "num_epochs = 2\n",
    "\n",
    "# Train\n",
    "for epoch in range(num_epochs):\n",
    "    model.train()  \n",
    "    total_loss = 0\n",
    "    all_preds = []  \n",
    "    all_labels = []  \n",
    "\n",
    "    for batch_categ, batch_cont, batch_y in train_loader:\n",
    "        \n",
    "        optimizer.zero_grad()  \n",
    "        \n",
    "        outputs = model(batch_categ, batch_cont)\n",
    "        loss = criterion(outputs, batch_y)  \n",
    "        \n",
    "        loss.backward() \n",
    "        optimizer.step()  \n",
    "        \n",
    "        total_loss += loss.item()  \n",
    "        \n",
    "        _, predicted = torch.max(outputs.data, 1) \n",
    "        all_preds.extend(predicted.numpy())  \n",
    "        all_labels.extend(batch_y.numpy())  \n",
    "    \n",
    "    avg_loss = total_loss / len(train_loader)\n",
    "    \n",
    "    accuracy = accuracy_score(all_labels, all_preds)\n",
    "    \n",
    "    print(f\"Epoch [{epoch+1}/{num_epochs}], Loss: {avg_loss:.4f}, Accuracy: {accuracy:.4f}\")\n"
   ]
  },
  {
   "cell_type": "code",
   "execution_count": null,
   "id": "8148a3ab",
   "metadata": {},
   "outputs": [
    {
     "ename": "TypeError",
     "evalue": "TabTransformer.__init__() got an unexpected keyword argument 'random_state'",
     "output_type": "error",
     "traceback": [
      "\u001b[1;31m---------------------------------------------------------------------------\u001b[0m",
      "\u001b[1;31mTypeError\u001b[0m                                 Traceback (most recent call last)",
      "Cell \u001b[1;32mIn[11], line 2\u001b[0m\n\u001b[0;32m      1\u001b[0m models \u001b[38;5;241m=\u001b[39m {\n\u001b[1;32m----> 2\u001b[0m     \u001b[38;5;124m\"\u001b[39m\u001b[38;5;124mTabTransformer\u001b[39m\u001b[38;5;124m\"\u001b[39m: \u001b[43mTabTransformer\u001b[49m\u001b[43m(\u001b[49m\u001b[43mrandom_state\u001b[49m\u001b[38;5;241;43m=\u001b[39;49m\u001b[38;5;241;43m42\u001b[39;49m\u001b[43m)\u001b[49m,\n\u001b[0;32m      3\u001b[0m     \u001b[38;5;124m\"\u001b[39m\u001b[38;5;124mDecision Tree\u001b[39m\u001b[38;5;124m\"\u001b[39m: DecisionTreeRegressor(random_state\u001b[38;5;241m=\u001b[39m\u001b[38;5;241m42\u001b[39m),\n\u001b[0;32m      4\u001b[0m     \u001b[38;5;124m\"\u001b[39m\u001b[38;5;124mRandom Forest\u001b[39m\u001b[38;5;124m\"\u001b[39m: RandomForestRegressor(n_estimators\u001b[38;5;241m=\u001b[39m\u001b[38;5;241m100\u001b[39m, random_state\u001b[38;5;241m=\u001b[39m\u001b[38;5;241m42\u001b[39m),\n\u001b[0;32m      5\u001b[0m     \u001b[38;5;124m\"\u001b[39m\u001b[38;5;124mXGBoost\u001b[39m\u001b[38;5;124m\"\u001b[39m: XGBRegressor(n_estimators\u001b[38;5;241m=\u001b[39m\u001b[38;5;241m100\u001b[39m, random_state\u001b[38;5;241m=\u001b[39m\u001b[38;5;241m42\u001b[39m),\n\u001b[0;32m      6\u001b[0m }\n",
      "\u001b[1;31mTypeError\u001b[0m: TabTransformer.__init__() got an unexpected keyword argument 'random_state'"
     ]
    }
   ],
   "source": [
    "models = {\n",
    "    \"TabTransformer\": TabTransformer(random_state=42),\n",
    "    \"Decision Tree\": DecisionTreeRegressor(random_state=42),\n",
    "    \"Random Forest\": RandomForestRegressor(n_estimators=100, random_state=42),\n",
    "    \"XGBoost\": XGBRegressor(n_estimators=100, random_state=42),\n",
    "}"
   ]
  },
  {
   "cell_type": "code",
   "execution_count": 52,
   "id": "963edeb3",
   "metadata": {},
   "outputs": [],
   "source": [
    "train_df = pd.read_csv(\"data/train_data.csv\")\n",
    "dev_df = pd.read_csv(\"data/development_data.csv\")\n",
    "\n",
    "x_train, y_train = get_features_and_target(train_df)\n",
    "x_dev, y_dev = get_features_and_target(dev_df)\n",
    "\n",
    "target_column = \"PullTest (N)\"  \n"
   ]
  },
  {
   "cell_type": "code",
   "execution_count": 58,
   "id": "c2ae24c0",
   "metadata": {},
   "outputs": [
    {
     "ename": "AssertionError",
     "evalue": "continuous_mean_std must have a shape of (8, 2) where the last dimension contains the mean and variance respectively",
     "output_type": "error",
     "traceback": [
      "\u001b[1;31m---------------------------------------------------------------------------\u001b[0m",
      "\u001b[1;31mAssertionError\u001b[0m                            Traceback (most recent call last)",
      "Cell \u001b[1;32mIn[58], line 7\u001b[0m\n\u001b[0;32m      2\u001b[0m \u001b[38;5;28;01mimport\u001b[39;00m \u001b[38;5;21;01mtorch\u001b[39;00m\u001b[38;5;21;01m.\u001b[39;00m\u001b[38;5;21;01mnn\u001b[39;00m \u001b[38;5;28;01mas\u001b[39;00m \u001b[38;5;21;01mnn\u001b[39;00m\n\u001b[0;32m      3\u001b[0m \u001b[38;5;28;01mfrom\u001b[39;00m \u001b[38;5;21;01mtab_transformer_pytorch\u001b[39;00m \u001b[38;5;28;01mimport\u001b[39;00m TabTransformer\n\u001b[1;32m----> 7\u001b[0m model \u001b[38;5;241m=\u001b[39m \u001b[43mTabTransformer\u001b[49m\u001b[43m(\u001b[49m\n\u001b[0;32m      8\u001b[0m \u001b[43m    \u001b[49m\u001b[43mcategories\u001b[49m\u001b[43m \u001b[49m\u001b[38;5;241;43m=\u001b[39;49m\u001b[43m \u001b[49m\u001b[43m(\u001b[49m\u001b[43m)\u001b[49m\u001b[43m,\u001b[49m\u001b[43m      \u001b[49m\u001b[38;5;66;43;03m# tuple containing the number of unique values within each category\u001b[39;49;00m\n\u001b[0;32m      9\u001b[0m \u001b[43m    \u001b[49m\u001b[43mnum_continuous\u001b[49m\u001b[43m \u001b[49m\u001b[38;5;241;43m=\u001b[39;49m\u001b[43m \u001b[49m\u001b[38;5;241;43m8\u001b[39;49m\u001b[43m,\u001b[49m\u001b[43m                \u001b[49m\u001b[38;5;66;43;03m# number of continuous values\u001b[39;49;00m\n\u001b[0;32m     10\u001b[0m \u001b[43m    \u001b[49m\u001b[43mdim\u001b[49m\u001b[43m \u001b[49m\u001b[38;5;241;43m=\u001b[39;49m\u001b[43m \u001b[49m\u001b[38;5;241;43m32\u001b[39;49m\u001b[43m,\u001b[49m\u001b[43m                           \u001b[49m\u001b[38;5;66;43;03m# dimension, paper set at 32\u001b[39;49;00m\n\u001b[0;32m     11\u001b[0m \u001b[43m    \u001b[49m\u001b[43mdim_out\u001b[49m\u001b[43m \u001b[49m\u001b[38;5;241;43m=\u001b[39;49m\u001b[43m \u001b[49m\u001b[38;5;241;43m1\u001b[39;49m\u001b[43m,\u001b[49m\u001b[43m                        \u001b[49m\u001b[38;5;66;43;03m# binary prediction, but could be anything\u001b[39;49;00m\n\u001b[0;32m     12\u001b[0m \u001b[43m    \u001b[49m\u001b[43mdepth\u001b[49m\u001b[43m \u001b[49m\u001b[38;5;241;43m=\u001b[39;49m\u001b[43m \u001b[49m\u001b[38;5;241;43m6\u001b[39;49m\u001b[43m,\u001b[49m\u001b[43m                          \u001b[49m\u001b[38;5;66;43;03m# depth, paper recommended 6\u001b[39;49;00m\n\u001b[0;32m     13\u001b[0m \u001b[43m    \u001b[49m\u001b[43mheads\u001b[49m\u001b[43m \u001b[49m\u001b[38;5;241;43m=\u001b[39;49m\u001b[43m \u001b[49m\u001b[38;5;241;43m8\u001b[39;49m\u001b[43m,\u001b[49m\u001b[43m                          \u001b[49m\u001b[38;5;66;43;03m# heads, paper recommends 8\u001b[39;49;00m\n\u001b[0;32m     14\u001b[0m \u001b[43m    \u001b[49m\u001b[43mattn_dropout\u001b[49m\u001b[43m \u001b[49m\u001b[38;5;241;43m=\u001b[39;49m\u001b[43m \u001b[49m\u001b[38;5;241;43m0.1\u001b[39;49m\u001b[43m,\u001b[49m\u001b[43m                 \u001b[49m\u001b[38;5;66;43;03m# post-attention dropout\u001b[39;49;00m\n\u001b[0;32m     15\u001b[0m \u001b[43m    \u001b[49m\u001b[43mff_dropout\u001b[49m\u001b[43m \u001b[49m\u001b[38;5;241;43m=\u001b[39;49m\u001b[43m \u001b[49m\u001b[38;5;241;43m0.1\u001b[39;49m\u001b[43m,\u001b[49m\u001b[43m                   \u001b[49m\u001b[38;5;66;43;03m# feed forward dropout\u001b[39;49;00m\n\u001b[0;32m     16\u001b[0m \u001b[43m    \u001b[49m\u001b[43mmlp_hidden_mults\u001b[49m\u001b[43m \u001b[49m\u001b[38;5;241;43m=\u001b[39;49m\u001b[43m \u001b[49m\u001b[43m(\u001b[49m\u001b[38;5;241;43m4\u001b[39;49m\u001b[43m,\u001b[49m\u001b[43m \u001b[49m\u001b[38;5;241;43m2\u001b[39;49m\u001b[43m)\u001b[49m\u001b[43m,\u001b[49m\u001b[43m          \u001b[49m\u001b[38;5;66;43;03m# relative multiples of each hidden dimension of the last mlp to logits\u001b[39;49;00m\n\u001b[0;32m     17\u001b[0m \u001b[43m    \u001b[49m\u001b[43mmlp_act\u001b[49m\u001b[43m \u001b[49m\u001b[38;5;241;43m=\u001b[39;49m\u001b[43m \u001b[49m\u001b[43mnn\u001b[49m\u001b[38;5;241;43m.\u001b[39;49m\u001b[43mReLU\u001b[49m\u001b[43m(\u001b[49m\u001b[43m)\u001b[49m\u001b[43m,\u001b[49m\u001b[43m                \u001b[49m\u001b[38;5;66;43;03m# activation for final mlp, defaults to relu, but could be anything else (selu etc)\u001b[39;49;00m\n\u001b[0;32m     18\u001b[0m \u001b[43m    \u001b[49m\u001b[43mcontinuous_mean_std\u001b[49m\u001b[43m \u001b[49m\u001b[38;5;241;43m=\u001b[39;49m\u001b[43m \u001b[49m\u001b[43mcont_mean_std\u001b[49m\u001b[43m \u001b[49m\u001b[38;5;66;43;03m# (optional) - normalize the continuous values before layer norm\u001b[39;49;00m\n\u001b[0;32m     19\u001b[0m \u001b[43m)\u001b[49m\n\u001b[0;32m     21\u001b[0m x_categ \u001b[38;5;241m=\u001b[39m ()     \u001b[38;5;66;03m# category values, from 0 - max number of categories, in the order as passed into the constructor above\u001b[39;00m\n\u001b[0;32m     22\u001b[0m x_cont \u001b[38;5;241m=\u001b[39m (\u001b[38;5;241m2\u001b[39m, \u001b[38;5;241m8\u001b[39m)               \u001b[38;5;66;03m# assume continuous values are already normalized individually\u001b[39;00m\n",
      "File \u001b[1;32mc:\\Users\\Marcus\\miniconda3\\envs\\MLDA\\lib\\site-packages\\tab_transformer_pytorch\\tab_transformer_pytorch.py:206\u001b[0m, in \u001b[0;36mTabTransformer.__init__\u001b[1;34m(self, categories, num_continuous, dim, depth, heads, dim_head, dim_out, mlp_hidden_mults, mlp_act, num_special_tokens, continuous_mean_std, attn_dropout, ff_dropout, use_shared_categ_embed, shared_categ_dim_divisor, num_residual_streams)\u001b[0m\n\u001b[0;32m    204\u001b[0m \u001b[38;5;28;01mif\u001b[39;00m \u001b[38;5;28mself\u001b[39m\u001b[38;5;241m.\u001b[39mnum_continuous \u001b[38;5;241m>\u001b[39m \u001b[38;5;241m0\u001b[39m:\n\u001b[0;32m    205\u001b[0m     \u001b[38;5;28;01mif\u001b[39;00m exists(continuous_mean_std):\n\u001b[1;32m--> 206\u001b[0m         \u001b[38;5;28;01massert\u001b[39;00m continuous_mean_std\u001b[38;5;241m.\u001b[39mshape \u001b[38;5;241m==\u001b[39m (num_continuous, \u001b[38;5;241m2\u001b[39m), \u001b[38;5;124mf\u001b[39m\u001b[38;5;124m'\u001b[39m\u001b[38;5;124mcontinuous_mean_std must have a shape of (\u001b[39m\u001b[38;5;132;01m{\u001b[39;00mnum_continuous\u001b[38;5;132;01m}\u001b[39;00m\u001b[38;5;124m, 2) where the last dimension contains the mean and variance respectively\u001b[39m\u001b[38;5;124m'\u001b[39m\n\u001b[0;32m    207\u001b[0m     \u001b[38;5;28mself\u001b[39m\u001b[38;5;241m.\u001b[39mregister_buffer(\u001b[38;5;124m'\u001b[39m\u001b[38;5;124mcontinuous_mean_std\u001b[39m\u001b[38;5;124m'\u001b[39m, continuous_mean_std)\n\u001b[0;32m    209\u001b[0m     \u001b[38;5;28mself\u001b[39m\u001b[38;5;241m.\u001b[39mnorm \u001b[38;5;241m=\u001b[39m nn\u001b[38;5;241m.\u001b[39mLayerNorm(num_continuous)\n",
      "\u001b[1;31mAssertionError\u001b[0m: continuous_mean_std must have a shape of (8, 2) where the last dimension contains the mean and variance respectively"
     ]
    }
   ],
   "source": [
    "import torch\n",
    "import torch.nn as nn\n",
    "from tab_transformer_pytorch import TabTransformer\n",
    "\n",
    "\n",
    "\n",
    "model = TabTransformer(\n",
    "    categories = (),      # tuple containing the number of unique values within each category\n",
    "    num_continuous = 8,                # number of continuous values\n",
    "    dim = 32,                           # dimension, paper set at 32\n",
    "    dim_out = 1,                        # binary prediction, but could be anything\n",
    "    depth = 6,                          # depth, paper recommended 6\n",
    "    heads = 8,                          # heads, paper recommends 8\n",
    "    attn_dropout = 0.1,                 # post-attention dropout\n",
    "    ff_dropout = 0.1,                   # feed forward dropout\n",
    "    mlp_hidden_mults = (4, 2),          # relative multiples of each hidden dimension of the last mlp to logits\n",
    "    mlp_act = nn.ReLU(),                # activation for final mlp, defaults to relu, but could be anything else (selu etc)\n",
    "    continuous_mean_std = cont_mean_std # (optional) - normalize the continuous values before layer norm\n",
    ")\n",
    "\n",
    "x_categ = ()     # category values, from 0 - max number of categories, in the order as passed into the constructor above\n",
    "x_cont = (2, 8)               # assume continuous values are already normalized individually\n",
    "\n",
    "cont_mean = x_cont.mean(dim=0)\n",
    "cont_std = x_cont.std(dim=0)\n",
    "#x_cont = (x_cont - cont_mean) / cont_std \n",
    "#cont_mean_std = torch.stack([cont_mean, cont_std], dim=1)\n",
    "\n",
    "\n",
    "pred = model(x_categ, x_cont) # (1, 1)\n",
    "print(pred)"
   ]
  },
  {
   "cell_type": "code",
   "execution_count": null,
   "id": "d46ef4cc",
   "metadata": {},
   "outputs": [
    {
     "ename": "NameError",
     "evalue": "name 'predictions' is not defined",
     "output_type": "error",
     "traceback": [
      "\u001b[1;31m---------------------------------------------------------------------------\u001b[0m",
      "\u001b[1;31mNameError\u001b[0m                                 Traceback (most recent call last)",
      "Cell \u001b[1;32mIn[19], line 5\u001b[0m\n\u001b[0;32m      1\u001b[0m \u001b[38;5;66;03m#regressor.fit(X_train, y_train)\u001b[39;00m\n\u001b[0;32m      2\u001b[0m \n\u001b[0;32m      3\u001b[0m \u001b[38;5;66;03m#predictions = regressor.predict(X_dev)\u001b[39;00m\n\u001b[1;32m----> 5\u001b[0m mse \u001b[38;5;241m=\u001b[39m mean_squared_error(y_dev, \u001b[43mpredictions\u001b[49m)\n\u001b[0;32m      6\u001b[0m rmse \u001b[38;5;241m=\u001b[39m np\u001b[38;5;241m.\u001b[39msqrt(mse)\n\u001b[0;32m      7\u001b[0m r2 \u001b[38;5;241m=\u001b[39m r2_score(y_dev, predictions)\n",
      "\u001b[1;31mNameError\u001b[0m: name 'predictions' is not defined"
     ]
    }
   ],
   "source": [
    "\n",
    "regressor.fit(X_train, y_train)\n",
    "\n",
    "predictions = regressor.predict(X_dev)\n",
    "\n",
    "mse = mean_squared_error(y_dev, predictions)\n",
    "rmse = np.sqrt(mse)\n",
    "r2 = r2_score(y_dev, predictions)\n",
    "\n",
    "print(\"Mean Squared Error (MSE):\", mse)\n",
    "print(\"Root Mean Squared Error (RMSE):\", rmse)\n",
    "print(\"R² Score:\", r2)\n",
    "\n",
    "abs_errors = np.abs(predictions - y_dev)\n",
    "sorted_errors = np.sort(abs_errors)\n",
    "cdf = np.arange(1, len(sorted_errors)+1) / len(sorted_errors)\n",
    "\n",
    "plt.figure(figsize=(8, 5))\n",
    "plt.plot(sorted_errors, cdf, marker='.', linestyle='none')\n",
    "plt.xlabel('Absolute Error |y_pred - y_true|')\n",
    "plt.ylabel('Cumulative Probability')\n",
    "plt.title('Cumulative Distribution Function (CDF) of Absolute Errors')\n",
    "plt.grid(True)\n",
    "plt.show()"
   ]
  },
  {
   "cell_type": "markdown",
   "id": "f60cbd7c",
   "metadata": {},
   "source": [
    "## Coefficient of Determination (R²)\n",
    "\n",
    "The coefficient of determination, denoted as $( R^2 )$, is a commonly used metric to evaluate the performance of a regression model. It indicates how well the model explains the variance in the target variable \\( y \\).\n",
    "\n",
    "### Definition\n",
    "\n",
    "The formula for $( R^2 )$ is:\n",
    "\n",
    "$$\n",
    "R^2 = 1 - \\frac{SS_{\\text{res}}}{SS_{\\text{tot}}}\n",
    "$$\n",
    "\n",
    "Where:\n",
    "\n",
    "- $( SS_{\\text{res}} = \\sum_{i=1}^{n} (y_i - \\hat{y}_i)^2)$: Residual Sum of Squares (model error)\n",
    "-  $(SS_{\\text{tot}} = \\sum_{i=1}^{n} (y_i - \\bar{y})^2)$: Total Sum of Squares (total variance in the data)\n",
    "\n",
    "### Interpretation\n",
    "\n",
    "- $( R^2 = 1)$: Perfect prediction – the model explains 100% of the variance in $( y)$\n",
    "- $( R^2 = 0)$: The model does no better than simply predicting the mean of $( y )$\n",
    "- $( R^2 < 0 )$: The model performs worse than a constant mean prediction\n",
    "\n",
    "### Example\n",
    "\n",
    "In this case, the model achieved an $( R^2 )$ score of **0.61**, which means it explains **61% of the total variance** in the target variable.\n",
    "\n",
    "This is a moderate-to-good result, indicating that the model captures significant patterns in the data, but there is still room for improvement."
   ]
  },
  {
   "cell_type": "markdown",
   "id": "4a1324ff",
   "metadata": {},
   "source": [
    "## Mean Squared Error (MSE)\n",
    "\n",
    "The **Mean Squared Error (MSE)** is a standard regression metric that measures the average of the squared differences between the predicted values and the actual target values.\n",
    "\n",
    "### Definition\n",
    "\n",
    "$MSE = \\frac{1}{n} \\sum_{i=1}^{n} (y_i - \\hat{y}_i)^2$\n",
    "\n",
    "Where:\n",
    "\n",
    "- $y_i$: true value  \n",
    "- $\\hat{y}_i$: predicted value  \n",
    "- $n$: number of samples\n",
    "\n",
    "### Interpretation\n",
    "\n",
    "- MSE penalizes larger errors more strongly due to squaring.\n",
    "- The result is in the **squared unit** of the target variable (e.g., mm², N², €²).\n",
    "- A **lower MSE** indicates better prediction accuracy.\n",
    "- Because of squaring, the MSE is sensitive to **outliers**.\n",
    "\n",
    "### Example\n",
    "\n",
    "In this case, the model yielded an MSE of **88,837**, which may seem large, but this must be interpreted in the context of the unit and range of the target variable."
   ]
  },
  {
   "cell_type": "markdown",
   "id": "5ea33823",
   "metadata": {},
   "source": [
    "## Root Mean Squared Error (RMSE)\n",
    "\n",
    "The **Root Mean Squared Error (RMSE)** is the square root of the MSE and represents the average prediction error in the same unit as the target variable.\n",
    "\n",
    "### Definition\n",
    "\n",
    "$RMSE = \\sqrt{ \\frac{1}{n} \\sum_{i=1}^{n} (y_i - \\hat{y}_i)^2 } = \\sqrt{MSE}$\n",
    "\n",
    "### Interpretation\n",
    "\n",
    "- RMSE is easier to interpret than MSE because it is in the **original unit** of the target variable.\n",
    "- It gives a direct sense of **how far off predictions are**, on average.\n",
    "- Like MSE, it is also sensitive to outliers due to the squaring.\n",
    "\n",
    "### Example\n",
    "\n",
    "In this case, the RMSE is approximately **298 N**.  \n",
    "Given that the mean of the target variable (PullTest) is **2953 N**, this corresponds to a **relative prediction error of about 10.1 %**.\n",
    "\n",
    "This means that, on average, the model's predictions deviate from the true pull test values by approximately 298 N.\n"
   ]
  },
  {
   "cell_type": "markdown",
   "id": "4a018d2a",
   "metadata": {},
   "source": []
  },
  {
   "cell_type": "code",
   "execution_count": 12,
   "id": "06baded6",
   "metadata": {},
   "outputs": [
    {
     "ename": "NameError",
     "evalue": "name 'models' is not defined",
     "output_type": "error",
     "traceback": [
      "\u001b[1;31m---------------------------------------------------------------------------\u001b[0m",
      "\u001b[1;31mNameError\u001b[0m                                 Traceback (most recent call last)",
      "Cell \u001b[1;32mIn[12], line 6\u001b[0m\n\u001b[0;32m      3\u001b[0m X_train_new \u001b[38;5;241m=\u001b[39m X_train\u001b[38;5;241m.\u001b[39mdrop(columns\u001b[38;5;241m=\u001b[39m[\u001b[38;5;124m\"\u001b[39m\u001b[38;5;124mMaterial\u001b[39m\u001b[38;5;124m\"\u001b[39m, \u001b[38;5;124m\"\u001b[39m\u001b[38;5;124mCategory\u001b[39m\u001b[38;5;124m\"\u001b[39m, \u001b[38;5;124m\"\u001b[39m\u001b[38;5;124mComments\u001b[39m\u001b[38;5;124m\"\u001b[39m])\n\u001b[0;32m      4\u001b[0m X_dev_new \u001b[38;5;241m=\u001b[39m X_dev\u001b[38;5;241m.\u001b[39mdrop(columns\u001b[38;5;241m=\u001b[39m[\u001b[38;5;124m\"\u001b[39m\u001b[38;5;124mMaterial\u001b[39m\u001b[38;5;124m\"\u001b[39m, \u001b[38;5;124m\"\u001b[39m\u001b[38;5;124mCategory\u001b[39m\u001b[38;5;124m\"\u001b[39m, \u001b[38;5;124m\"\u001b[39m\u001b[38;5;124mComments\u001b[39m\u001b[38;5;124m\"\u001b[39m])\n\u001b[1;32m----> 6\u001b[0m \u001b[38;5;28;01mfor\u001b[39;00m name, model \u001b[38;5;129;01min\u001b[39;00m \u001b[43mmodels\u001b[49m\u001b[38;5;241m.\u001b[39mitems():\n\u001b[0;32m      7\u001b[0m     model\u001b[38;5;241m.\u001b[39mfit(X_train_new, y_train)\n\u001b[0;32m      8\u001b[0m     preds \u001b[38;5;241m=\u001b[39m model\u001b[38;5;241m.\u001b[39mpredict(X_dev_new)\n",
      "\u001b[1;31mNameError\u001b[0m: name 'models' is not defined"
     ]
    }
   ],
   "source": [
    "results = {}\n",
    "\n",
    "X_train_new = X_train.drop(columns=[\"Material\", \"Category\", \"Comments\"])\n",
    "X_dev_new = X_dev.drop(columns=[\"Material\", \"Category\", \"Comments\"])\n",
    "\n",
    "for name, model in models.items():\n",
    "    model.fit(X_train_new, y_train)\n",
    "    preds = model.predict(X_dev_new)\n",
    "    \n",
    "    mse = mean_squared_error(y_dev, preds)\n",
    "    rmse = np.sqrt(mse)\n",
    "    r2 = r2_score(y_dev, preds)\n",
    "    \n",
    "    results[name] = {\n",
    "        \"MSE\": mse,\n",
    "        \"RMSE\": rmse,\n",
    "        \"R²\": r2\n",
    "    }"
   ]
  },
  {
   "cell_type": "code",
   "execution_count": 29,
   "id": "21b57703",
   "metadata": {},
   "outputs": [
    {
     "name": "stdout",
     "output_type": "stream",
     "text": [
      "                     MSE    RMSE    R²\n",
      "TabPFN          71549.75  267.49  0.69\n",
      "Decision Tree   81260.90  285.06  0.64\n",
      "Random Forest   73589.86  271.27  0.68\n",
      "XGBoost        113405.48  336.76  0.50\n"
     ]
    }
   ],
   "source": [
    "results_df = pd.DataFrame(results).T\n",
    "results_df = results_df.round(2)\n",
    "print(results_df)"
   ]
  },
  {
   "cell_type": "code",
   "execution_count": null,
   "id": "a2605ea4",
   "metadata": {},
   "outputs": [],
   "source": [
    "cdf_data = {}  \n",
    "\n",
    "for name, model in models.items():\n",
    "    model.fit(X_train_new, y_train)\n",
    "    preds = model.predict(X_dev_new)\n",
    "    \n",
    "    mse = mean_squared_error(y_dev, preds)\n",
    "    rmse = np.sqrt(mse)\n",
    "    r2 = r2_score(y_dev, preds)\n",
    "    \n",
    "    results[name] = {\n",
    "        \"MSE\": mse,\n",
    "        \"RMSE\": rmse,\n",
    "        \"R²\": r2\n",
    "    }\n",
    "    \n",
    "    abs_errors = np.abs(preds - y_dev)\n",
    "    sorted_errors = np.sort(abs_errors)\n",
    "    cdf = np.arange(1, len(sorted_errors)+1) / len(sorted_errors)\n",
    "    cdf_data[name] = (sorted_errors, cdf)"
   ]
  },
  {
   "cell_type": "code",
   "execution_count": 31,
   "id": "d5ae27f6",
   "metadata": {},
   "outputs": [
    {
     "data": {
      "image/png": "[encoded data removed]",
      "text/plain": [
       "<Figure size 1000x600 with 1 Axes>"
      ]
     },
     "metadata": {},
     "output_type": "display_data"
    }
   ],
   "source": [
    "import matplotlib.pyplot as plt\n",
    "\n",
    "plt.figure(figsize=(10, 6))\n",
    "\n",
    "for name, (errors, cdf) in cdf_data.items():\n",
    "    plt.plot(errors, cdf, label=name)\n",
    "\n",
    "plt.xlabel(\"Absolute Error |ŷ - y| [N]\")\n",
    "plt.ylabel(\"Cumulative Probability\")\n",
    "plt.title(\"CDF of Absolute Prediction Errors per Model\")\n",
    "plt.grid(True)\n",
    "plt.legend()\n",
    "plt.show()"
   ]
  }
 ],
 "metadata": {
  "kernelspec": {
   "display_name": "MLDA",
   "language": "python",
   "name": "python3"
  },
  "language_info": {
   "codemirror_mode": {
    "name": "ipython",
    "version": 3
   },
   "file_extension": ".py",
   "mimetype": "text/x-python",
   "name": "python",
   "nbconvert_exporter": "python",
   "pygments_lexer": "ipython3",
   "version": "3.10.13"
  }
 },
 "nbformat": 4,
 "nbformat_minor": 5
}

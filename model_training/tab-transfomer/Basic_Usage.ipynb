{
 "cells": [
  {
   "cell_type": "code",
   "execution_count": null,
   "id": "63d02832",
   "metadata": {},
   "outputs": [],
   "source": [
    "import torch\n",
    "import torch.nn as nn\n",
    "from tab_transformer_pytorch import TabTransformer\n",
    "\n",
    "\n",
    "\n",
    "model = TabTransformer(\n",
    "    categories = (),      # tuple containing the number of unique values within each category\n",
    "    num_continuous = 8,                # number of continuous values\n",
    "    dim = 32,                           # dimension, paper set at 32\n",
    "    dim_out = 1,                        # binary prediction, but could be anything\n",
    "    depth = 6,                          # depth, paper recommended 6\n",
    "    heads = 8,                          # heads, paper recommends 8\n",
    "    attn_dropout = 0.1,                 # post-attention dropout\n",
    "    ff_dropout = 0.1,                   # feed forward dropout\n",
    "    mlp_hidden_mults = (4, 2),          # relative multiples of each hidden dimension of the last mlp to logits\n",
    "    mlp_act = nn.ReLU(),                # activation for final mlp, defaults to relu, but could be anything else (selu etc)\n",
    "    continuous_mean_std = cont_mean_std # (optional) - normalize the continuous values before layer norm\n",
    ")\n",
    "\n",
    "x_categ = ()     # category values, from 0 - max number of categories, in the order as passed into the constructor above\n",
    "x_cont = (2, 8)               # assume continuous values are already normalized individually\n",
    "\n",
    "cont_mean = x_cont.mean(dim=0)\n",
    "cont_std = x_cont.std(dim=0)\n",
    "#x_cont = (x_cont - cont_mean) / cont_std \n",
    "#cont_mean_std = torch.stack([cont_mean, cont_std], dim=1)\n",
    "\n",
    "\n",
    "pred = model(x_categ, x_cont) # (1, 1)\n",
    "print(pred)"
   ]
  },
  {
   "cell_type": "code",
   "execution_count": null,
   "id": "ae4d7822",
   "metadata": {},
   "outputs": [],
   "source": [
    "print(pred) "
   ]
  },
  {
   "cell_type": "code",
   "execution_count": null,
   "id": "de489244",
   "metadata": {},
   "outputs": [],
   "source": [
    "import csv\n",
    "def delete_row(csv_filename, row_index):\n",
    "    rows = []\n",
    "    with open(csv_filename, 'r') as file:\n",
    "        reader = csv.reader(file)\n",
    "        rows = [row for idx, row in enumerate(reader) if idx != row_index]\n",
    "    with open(csv_filename, 'w') as file:\n",
    "        writer = csv.writer(file)\n",
    "        writer.writerrows(rows)\n",
    "delete_row('data.csv', 2)\n"
   ]
  }
 ],
 "metadata": {
  "kernelspec": {
   "display_name": "MLDA",
   "language": "python",
   "name": "python3"
  },
  "language_info": {
   "codemirror_mode": {
    "name": "ipython",
    "version": 3
   },
   "file_extension": ".py",
   "mimetype": "text/x-python",
   "name": "python",
   "nbconvert_exporter": "python",
   "pygments_lexer": "ipython3",
   "version": "3.10.13"
  }
 },
 "nbformat": 4,
 "nbformat_minor": 5
}

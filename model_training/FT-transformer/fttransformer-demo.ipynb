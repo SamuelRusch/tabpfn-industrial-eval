{
 "cells": [
  {
   "cell_type": "code",
   "execution_count": 81,
   "id": "67febe95-dd8e-4564-8a5e-e641bb16906e",
   "metadata": {},
   "outputs": [],
   "source": [
    "import math\n",
    "import numpy as np\n",
    "import pandas as pd\n",
    "import tensorflow as tf\n",
    "from tensorflow import keras\n",
    "from tensorflow.keras import layers\n",
    "#import tensorflow_addons as tfa\n",
    "import matplotlib.pyplot as plt\n",
    "from sklearn.model_selection import train_test_split\n",
    "from sklearn.metrics import roc_auc_score, average_precision_score, accuracy_score\n",
    "from tensorflow.keras.callbacks import EarlyStopping\n",
    "from sklearn.preprocessing import StandardScaler\n",
    "\n",
    "\n",
    "from tabtransformertf.models.fttransformer import FTTransformerEncoder, FTTransformer\n",
    "from tabtransformertf.utils.preprocessing import df_to_dataset, build_categorical_prep\n"
   ]
  },
  {
   "cell_type": "code",
   "execution_count": 66,
   "id": "dbdec792",
   "metadata": {},
   "outputs": [],
   "source": [
    "#the function df_to_dataset() is depreciated and Multi-dimensional indexing ins't supported anymore,\n",
    "#the new version converts it to a numpy array\n",
    "\n",
    "def custom_df_to_dataset(dataframe, target=None, shuffle=True, batch_size=32):\n",
    "    dataset = {}\n",
    "    \n",
    "    for key, value in dataframe.items():\n",
    "        if isinstance(value, pd.Series):\n",
    "            dataset[key] = tf.convert_to_tensor(value.to_numpy().reshape(-1, 1))  # Ensuring correct shape\n",
    "\n",
    "    dataset = tf.data.Dataset.from_tensor_slices(dict(dataset))\n",
    "    \n",
    "    if shuffle and target is not None:\n",
    "        dataset = dataset.shuffle(buffer_size=len(dataframe))\n",
    "\n",
    "    return dataset.batch(batch_size)\n",
    "\n"
   ]
  },
  {
   "cell_type": "code",
   "execution_count": 82,
   "id": "a44d4949-4d7f-4f55-abcf-5184756d4814",
   "metadata": {},
   "outputs": [],
   "source": [
    "%matplotlib inline\n",
    "plt.rcParams[\"figure.figsize\"] = (20,10)\n",
    "plt.rcParams.update({'font.size': 15})"
   ]
  },
  {
   "cell_type": "markdown",
   "id": "3f89b597-3f3a-4079-bc7c-ad3fbf16dba8",
   "metadata": {},
   "source": [
    "## Download Data"
   ]
  },
  {
   "cell_type": "code",
   "execution_count": 83,
   "id": "e0c2547d-a0b7-478c-ae45-92e99dc6f113",
   "metadata": {},
   "outputs": [
    {
     "name": "stdout",
     "output_type": "stream",
     "text": [
      "Train dataset shape: (32561, 15)\n",
      "Test dataset shape: (16282, 15)\n"
     ]
    }
   ],
   "source": [
    "CSV_HEADER = [\n",
    "    \"age\",\n",
    "    \"workclass\",\n",
    "    \"fnlwgt\",\n",
    "    \"education\",\n",
    "    \"education_num\",\n",
    "    \"marital_status\",\n",
    "    \"occupation\",\n",
    "    \"relationship\",\n",
    "    \"race\",\n",
    "    \"gender\",\n",
    "    \"capital_gain\",\n",
    "    \"capital_loss\",\n",
    "    \"hours_per_week\",\n",
    "    \"native_country\",\n",
    "    \"income_bracket\",\n",
    "]\n",
    "\n",
    "train_data_url = (\n",
    "    \"https://archive.ics.uci.edu/ml/machine-learning-databases/adult/adult.data\"\n",
    ")\n",
    "train_data = pd.read_csv(train_data_url, header=None, names=CSV_HEADER)\n",
    "\n",
    "test_data_url = (\n",
    "    \"https://archive.ics.uci.edu/ml/machine-learning-databases/adult/adult.test\"\n",
    ")\n",
    "test_data = pd.read_csv(test_data_url, header=None, names=CSV_HEADER)\n",
    "\n",
    "print(f\"Train dataset shape: {train_data.shape}\")\n",
    "print(f\"Test dataset shape: {test_data.shape}\")"
   ]
  },
  {
   "cell_type": "code",
   "execution_count": 84,
   "id": "75521624-3f40-4aad-bbd4-cea5c5cb5782",
   "metadata": {},
   "outputs": [
    {
     "data": {
      "text/html": [
       "<div>\n",
       "<style scoped>\n",
       "    .dataframe tbody tr th:only-of-type {\n",
       "        vertical-align: middle;\n",
       "    }\n",
       "\n",
       "    .dataframe tbody tr th {\n",
       "        vertical-align: top;\n",
       "    }\n",
       "\n",
       "    .dataframe thead th {\n",
       "        text-align: right;\n",
       "    }\n",
       "</style>\n",
       "<table border=\"1\" class=\"dataframe\">\n",
       "  <thead>\n",
       "    <tr style=\"text-align: right;\">\n",
       "      <th></th>\n",
       "      <th>age</th>\n",
       "      <th>workclass</th>\n",
       "      <th>fnlwgt</th>\n",
       "      <th>education</th>\n",
       "      <th>education_num</th>\n",
       "      <th>marital_status</th>\n",
       "      <th>occupation</th>\n",
       "      <th>relationship</th>\n",
       "      <th>race</th>\n",
       "      <th>gender</th>\n",
       "      <th>capital_gain</th>\n",
       "      <th>capital_loss</th>\n",
       "      <th>hours_per_week</th>\n",
       "      <th>native_country</th>\n",
       "      <th>income_bracket</th>\n",
       "    </tr>\n",
       "  </thead>\n",
       "  <tbody>\n",
       "    <tr>\n",
       "      <th>0</th>\n",
       "      <td>39</td>\n",
       "      <td>State-gov</td>\n",
       "      <td>77516</td>\n",
       "      <td>Bachelors</td>\n",
       "      <td>13</td>\n",
       "      <td>Never-married</td>\n",
       "      <td>Adm-clerical</td>\n",
       "      <td>Not-in-family</td>\n",
       "      <td>White</td>\n",
       "      <td>Male</td>\n",
       "      <td>2174</td>\n",
       "      <td>0</td>\n",
       "      <td>40</td>\n",
       "      <td>United-States</td>\n",
       "      <td>&lt;=50K</td>\n",
       "    </tr>\n",
       "    <tr>\n",
       "      <th>1</th>\n",
       "      <td>50</td>\n",
       "      <td>Self-emp-not-inc</td>\n",
       "      <td>83311</td>\n",
       "      <td>Bachelors</td>\n",
       "      <td>13</td>\n",
       "      <td>Married-civ-spouse</td>\n",
       "      <td>Exec-managerial</td>\n",
       "      <td>Husband</td>\n",
       "      <td>White</td>\n",
       "      <td>Male</td>\n",
       "      <td>0</td>\n",
       "      <td>0</td>\n",
       "      <td>13</td>\n",
       "      <td>United-States</td>\n",
       "      <td>&lt;=50K</td>\n",
       "    </tr>\n",
       "    <tr>\n",
       "      <th>2</th>\n",
       "      <td>38</td>\n",
       "      <td>Private</td>\n",
       "      <td>215646</td>\n",
       "      <td>HS-grad</td>\n",
       "      <td>9</td>\n",
       "      <td>Divorced</td>\n",
       "      <td>Handlers-cleaners</td>\n",
       "      <td>Not-in-family</td>\n",
       "      <td>White</td>\n",
       "      <td>Male</td>\n",
       "      <td>0</td>\n",
       "      <td>0</td>\n",
       "      <td>40</td>\n",
       "      <td>United-States</td>\n",
       "      <td>&lt;=50K</td>\n",
       "    </tr>\n",
       "    <tr>\n",
       "      <th>3</th>\n",
       "      <td>53</td>\n",
       "      <td>Private</td>\n",
       "      <td>234721</td>\n",
       "      <td>11th</td>\n",
       "      <td>7</td>\n",
       "      <td>Married-civ-spouse</td>\n",
       "      <td>Handlers-cleaners</td>\n",
       "      <td>Husband</td>\n",
       "      <td>Black</td>\n",
       "      <td>Male</td>\n",
       "      <td>0</td>\n",
       "      <td>0</td>\n",
       "      <td>40</td>\n",
       "      <td>United-States</td>\n",
       "      <td>&lt;=50K</td>\n",
       "    </tr>\n",
       "    <tr>\n",
       "      <th>4</th>\n",
       "      <td>28</td>\n",
       "      <td>Private</td>\n",
       "      <td>338409</td>\n",
       "      <td>Bachelors</td>\n",
       "      <td>13</td>\n",
       "      <td>Married-civ-spouse</td>\n",
       "      <td>Prof-specialty</td>\n",
       "      <td>Wife</td>\n",
       "      <td>Black</td>\n",
       "      <td>Female</td>\n",
       "      <td>0</td>\n",
       "      <td>0</td>\n",
       "      <td>40</td>\n",
       "      <td>Cuba</td>\n",
       "      <td>&lt;=50K</td>\n",
       "    </tr>\n",
       "  </tbody>\n",
       "</table>\n",
       "</div>"
      ],
      "text/plain": [
       "   age          workclass  fnlwgt   education  education_num  \\\n",
       "0   39          State-gov   77516   Bachelors             13   \n",
       "1   50   Self-emp-not-inc   83311   Bachelors             13   \n",
       "2   38            Private  215646     HS-grad              9   \n",
       "3   53            Private  234721        11th              7   \n",
       "4   28            Private  338409   Bachelors             13   \n",
       "\n",
       "        marital_status          occupation    relationship    race   gender  \\\n",
       "0        Never-married        Adm-clerical   Not-in-family   White     Male   \n",
       "1   Married-civ-spouse     Exec-managerial         Husband   White     Male   \n",
       "2             Divorced   Handlers-cleaners   Not-in-family   White     Male   \n",
       "3   Married-civ-spouse   Handlers-cleaners         Husband   Black     Male   \n",
       "4   Married-civ-spouse      Prof-specialty            Wife   Black   Female   \n",
       "\n",
       "   capital_gain  capital_loss  hours_per_week  native_country income_bracket  \n",
       "0          2174             0              40   United-States          <=50K  \n",
       "1             0             0              13   United-States          <=50K  \n",
       "2             0             0              40   United-States          <=50K  \n",
       "3             0             0              40   United-States          <=50K  \n",
       "4             0             0              40            Cuba          <=50K  "
      ]
     },
     "execution_count": 84,
     "metadata": {},
     "output_type": "execute_result"
    }
   ],
   "source": [
    "train_data.head()"
   ]
  },
  {
   "cell_type": "markdown",
   "id": "89bff333-3750-46c9-b687-3f06a8f43845",
   "metadata": {},
   "source": [
    "## Preprocess"
   ]
  },
  {
   "cell_type": "code",
   "execution_count": 85,
   "id": "420201d9-eb7d-4873-bae8-2296fef046c4",
   "metadata": {},
   "outputs": [],
   "source": [
    "# Column information\n",
    "NUMERIC_FEATURES = ['age', 'education_num', 'capital_gain', 'capital_loss', 'hours_per_week']\n",
    "CATEGORICAL_FEATURES = ['workclass', 'education', 'marital_status', 'occupation', 'relationship', 'race', 'gender', 'native_country']\n",
    "\n",
    "FEATURES = list(NUMERIC_FEATURES) + list(CATEGORICAL_FEATURES)\n",
    "LABEL = 'income_bracket'"
   ]
  },
  {
   "cell_type": "code",
   "execution_count": 86,
   "id": "aaa2d685-44be-410a-89cf-acdd4a069adb",
   "metadata": {},
   "outputs": [
    {
     "data": {
      "text/plain": [
       "(0.2408095574460244, 0.23621176759611842)"
      ]
     },
     "execution_count": 86,
     "metadata": {},
     "output_type": "execute_result"
    }
   ],
   "source": [
    "# encoding as binary target\n",
    "train_data[LABEL] = train_data[LABEL].apply(lambda x: int(x == ' >50K')) \n",
    "test_data[LABEL] = test_data[LABEL].apply(lambda x: int(x == ' >50K.'))\n",
    "train_data[LABEL].mean(), test_data[LABEL].mean()"
   ]
  },
  {
   "cell_type": "code",
   "execution_count": 87,
   "id": "677298dc-05fe-47ef-b40a-f5b1d62e8187",
   "metadata": {},
   "outputs": [],
   "source": [
    "test_data = test_data.iloc[1:, :] # drop invalid row"
   ]
  },
  {
   "cell_type": "code",
   "execution_count": 88,
   "id": "25986888-5dc1-497c-96c7-bc5e5411c105",
   "metadata": {},
   "outputs": [],
   "source": [
    "# Set data types\n",
    "train_data[CATEGORICAL_FEATURES] = train_data[CATEGORICAL_FEATURES].astype(str)\n",
    "test_data[CATEGORICAL_FEATURES] = test_data[CATEGORICAL_FEATURES].astype(str)\n",
    "\n",
    "train_data[NUMERIC_FEATURES] = train_data[NUMERIC_FEATURES].astype(float)\n",
    "test_data[NUMERIC_FEATURES] = test_data[NUMERIC_FEATURES].astype(float)"
   ]
  },
  {
   "cell_type": "code",
   "execution_count": 89,
   "id": "ad185875-9f9e-43b2-9422-40fe9ff66d7d",
   "metadata": {},
   "outputs": [],
   "source": [
    "# Train/test split\n",
    "X_train, X_val = train_test_split(train_data, test_size=0.2)"
   ]
  },
  {
   "cell_type": "code",
   "execution_count": 90,
   "id": "56a4a4f7-47d3-46a5-a88c-fbff2264159b",
   "metadata": {},
   "outputs": [],
   "source": [
    "sc = StandardScaler()\n",
    "X_train.loc[:, NUMERIC_FEATURES] = sc.fit_transform(X_train[NUMERIC_FEATURES])\n",
    "X_val.loc[:, NUMERIC_FEATURES] = sc.transform(X_val[NUMERIC_FEATURES])\n",
    "test_data.loc[:, NUMERIC_FEATURES] = sc.transform(test_data[NUMERIC_FEATURES])"
   ]
  },
  {
   "cell_type": "markdown",
   "id": "a07ad92f-f1b9-46ad-9b61-831cbc903e22",
   "metadata": {},
   "source": [
    "## Modelling Prep"
   ]
  },
  {
   "cell_type": "code",
   "execution_count": null,
   "id": "aa0aeb9a",
   "metadata": {},
   "outputs": [],
   "source": []
  },
  {
   "cell_type": "code",
   "execution_count": 91,
   "id": "9bfdb641-4fec-4f2e-a84f-149a41e2a02b",
   "metadata": {},
   "outputs": [],
   "source": [
    "train_dataset = custom_df_to_dataset(X_train[FEATURES + [LABEL]], LABEL)\n",
    "val_dataset = custom_df_to_dataset(X_val[FEATURES + [LABEL]], LABEL, shuffle=False)  # No shuffle\n",
    "test_dataset = custom_df_to_dataset(test_data[FEATURES + [LABEL]], shuffle=False) # No target, no shuffle"
   ]
  },
  {
   "cell_type": "markdown",
   "id": "abe05de6-639b-48b6-8387-e44be0d8db0c",
   "metadata": {},
   "source": [
    "# FTTransformer"
   ]
  },
  {
   "cell_type": "markdown",
   "id": "9342c4cd-d309-420f-b966-c6377030d6d4",
   "metadata": {},
   "source": [
    "## FT Transformer - Linear Numerical Encoding"
   ]
  },
  {
   "cell_type": "code",
   "execution_count": 92,
   "id": "e29156d1-7d28-439b-9e00-2a98e38f1fb1",
   "metadata": {
    "collapsed": true,
    "jupyter": {
     "outputs_hidden": true
    },
    "tags": []
   },
   "outputs": [
    {
     "name": "stderr",
     "output_type": "stream",
     "text": [
      "c:\\Users\\Marcus\\miniconda3\\envs\\MLDA\\lib\\site-packages\\keras\\src\\layers\\layer.py:359: UserWarning: `build()` was called on layer 'ft_transformer_encoder_15', however the layer does not have a `build()` method implemented and it looks like it has unbuilt state. This will cause the layer to be marked as built, despite not being actually built, which may cause failures down the line. Make sure to implement a proper `build()` method.\n",
      "  warnings.warn(\n"
     ]
    },
    {
     "ename": "TypeError",
     "evalue": "'NoneType' object is not iterable",
     "output_type": "error",
     "traceback": [
      "\u001b[1;31m---------------------------------------------------------------------------\u001b[0m",
      "\u001b[1;31mTypeError\u001b[0m                                 Traceback (most recent call last)",
      "Cell \u001b[1;32mIn[92], line 36\u001b[0m\n\u001b[0;32m     33\u001b[0m early \u001b[38;5;241m=\u001b[39m EarlyStopping(monitor\u001b[38;5;241m=\u001b[39m\u001b[38;5;124m\"\u001b[39m\u001b[38;5;124mval_output_loss\u001b[39m\u001b[38;5;124m\"\u001b[39m, mode\u001b[38;5;241m=\u001b[39m\u001b[38;5;124m\"\u001b[39m\u001b[38;5;124mmin\u001b[39m\u001b[38;5;124m\"\u001b[39m, patience\u001b[38;5;241m=\u001b[39m\u001b[38;5;241m20\u001b[39m, restore_best_weights\u001b[38;5;241m=\u001b[39m\u001b[38;5;28;01mTrue\u001b[39;00m)\n\u001b[0;32m     34\u001b[0m callback_list \u001b[38;5;241m=\u001b[39m [early]\n\u001b[1;32m---> 36\u001b[0m ft_linear_history \u001b[38;5;241m=\u001b[39m \u001b[43mft_linear_transformer\u001b[49m\u001b[38;5;241;43m.\u001b[39;49m\u001b[43mfit\u001b[49m\u001b[43m(\u001b[49m\n\u001b[0;32m     37\u001b[0m \u001b[43m    \u001b[49m\u001b[43mtrain_dataset\u001b[49m\u001b[43m,\u001b[49m\u001b[43m \u001b[49m\n\u001b[0;32m     38\u001b[0m \u001b[43m    \u001b[49m\u001b[43mepochs\u001b[49m\u001b[38;5;241;43m=\u001b[39;49m\u001b[43mNUM_EPOCHS\u001b[49m\u001b[43m,\u001b[49m\u001b[43m \u001b[49m\n\u001b[0;32m     39\u001b[0m \u001b[43m    \u001b[49m\u001b[43mvalidation_data\u001b[49m\u001b[38;5;241;43m=\u001b[39;49m\u001b[43mval_dataset\u001b[49m\u001b[43m,\u001b[49m\n\u001b[0;32m     40\u001b[0m \u001b[43m    \u001b[49m\u001b[43mcallbacks\u001b[49m\u001b[38;5;241;43m=\u001b[39;49m\u001b[43mcallback_list\u001b[49m\n\u001b[0;32m     41\u001b[0m \u001b[43m)\u001b[49m\n",
      "File \u001b[1;32mc:\\Users\\Marcus\\miniconda3\\envs\\MLDA\\lib\\site-packages\\keras\\src\\utils\\traceback_utils.py:123\u001b[0m, in \u001b[0;36mfilter_traceback.<locals>.error_handler\u001b[1;34m(*args, **kwargs)\u001b[0m\n\u001b[0;32m    120\u001b[0m     filtered_tb \u001b[38;5;241m=\u001b[39m _process_traceback_frames(e\u001b[38;5;241m.\u001b[39m__traceback__)\n\u001b[0;32m    121\u001b[0m     \u001b[38;5;66;03m# To get the full stack trace, call:\u001b[39;00m\n\u001b[0;32m    122\u001b[0m     \u001b[38;5;66;03m# `keras.config.disable_traceback_filtering()`\u001b[39;00m\n\u001b[1;32m--> 123\u001b[0m     \u001b[38;5;28;01mraise\u001b[39;00m e\u001b[38;5;241m.\u001b[39mwith_traceback(filtered_tb) \u001b[38;5;28;01mfrom\u001b[39;00m \u001b[38;5;28;01mNone\u001b[39;00m\n\u001b[0;32m    124\u001b[0m \u001b[38;5;28;01mfinally\u001b[39;00m:\n\u001b[0;32m    125\u001b[0m     \u001b[38;5;28;01mdel\u001b[39;00m filtered_tb\n",
      "File \u001b[1;32mc:\\Users\\Marcus\\miniconda3\\envs\\MLDA\\lib\\site-packages\\keras\\src\\trainers\\compile_utils.py:562\u001b[0m, in \u001b[0;36mCompileLoss.build\u001b[1;34m(self, y_true, y_pred)\u001b[0m\n\u001b[0;32m    554\u001b[0m     \u001b[38;5;28;01mif\u001b[39;00m \u001b[38;5;129;01mnot\u001b[39;00m is_function_like(loss[name]):\n\u001b[0;32m    555\u001b[0m         \u001b[38;5;28;01mraise\u001b[39;00m \u001b[38;5;167;01mValueError\u001b[39;00m(\n\u001b[0;32m    556\u001b[0m             \u001b[38;5;124m\"\u001b[39m\u001b[38;5;124mFor a model with multiple outputs, \u001b[39m\u001b[38;5;124m\"\u001b[39m\n\u001b[0;32m    557\u001b[0m             \u001b[38;5;124m\"\u001b[39m\u001b[38;5;124mwhen providing the `loss` argument as a dict, \u001b[39m\u001b[38;5;124m\"\u001b[39m\n\u001b[1;32m   (...)\u001b[0m\n\u001b[0;32m    560\u001b[0m             \u001b[38;5;124mf\u001b[39m\u001b[38;5;124m\"\u001b[39m\u001b[38;5;124mAt key \u001b[39m\u001b[38;5;124m'\u001b[39m\u001b[38;5;132;01m{\u001b[39;00mname\u001b[38;5;132;01m}\u001b[39;00m\u001b[38;5;124m'\u001b[39m\u001b[38;5;124m, received invalid type:\u001b[39m\u001b[38;5;130;01m\\n\u001b[39;00m\u001b[38;5;132;01m{\u001b[39;00mloss[name]\u001b[38;5;132;01m}\u001b[39;00m\u001b[38;5;124m\"\u001b[39m\n\u001b[0;32m    561\u001b[0m         )\n\u001b[1;32m--> 562\u001b[0m \u001b[38;5;28;01mfor\u001b[39;00m name, yt, yp \u001b[38;5;129;01min\u001b[39;00m \u001b[38;5;28;43mzip\u001b[39;49m\u001b[43m(\u001b[49m\u001b[43moutput_names\u001b[49m\u001b[43m,\u001b[49m\u001b[43m \u001b[49m\u001b[43my_true\u001b[49m\u001b[43m,\u001b[49m\u001b[43m \u001b[49m\u001b[43my_pred\u001b[49m\u001b[43m)\u001b[49m:\n\u001b[0;32m    563\u001b[0m     \u001b[38;5;28;01mif\u001b[39;00m name \u001b[38;5;129;01min\u001b[39;00m loss:\n\u001b[0;32m    564\u001b[0m         \u001b[38;5;28;01mif\u001b[39;00m loss[name]:\n",
      "\u001b[1;31mTypeError\u001b[0m: 'NoneType' object is not iterable"
     ]
    }
   ],
   "source": [
    "ft_linear_encoder = FTTransformerEncoder(\n",
    "    numerical_features = NUMERIC_FEATURES,\n",
    "    categorical_features = CATEGORICAL_FEATURES,\n",
    "    numerical_data = X_train[NUMERIC_FEATURES].values,\n",
    "    categorical_data = X_train[CATEGORICAL_FEATURES].values,\n",
    "    y = None,\n",
    "    numerical_embedding_type='linear',\n",
    "    embedding_dim=16,\n",
    "    depth=4,\n",
    "    heads=8,\n",
    "    attn_dropout=0.2,\n",
    "    ff_dropout=0.2,\n",
    "    explainable=True\n",
    ")\n",
    "\n",
    "# Pass the encoder to the model\n",
    "ft_linear_transformer = FTTransformer(\n",
    "    encoder=ft_linear_encoder,\n",
    "    out_dim=1,\n",
    "    out_activation='sigmoid',\n",
    ")\n",
    "\n",
    "LEARNING_RATE = 0.001\n",
    "WEIGHT_DECAY = 0.0001\n",
    "NUM_EPOCHS = 1\n",
    "\n",
    "ft_linear_transformer.compile(\n",
    "    optimizer = \"adam\",\n",
    "    loss = {\"output\": tf.keras.losses.BinaryCrossentropy(), \"importances\": None},\n",
    "    metrics= {\"output\": [tf.keras.metrics.AUC(name=\"PR AUC\", curve='PR')], \"importances\": None},\n",
    ")\n",
    "\n",
    "early = EarlyStopping(monitor=\"val_output_loss\", mode=\"min\", patience=20, restore_best_weights=True)\n",
    "callback_list = [early]\n",
    "\n",
    "ft_linear_history = ft_linear_transformer.fit(\n",
    "    train_dataset, \n",
    "    epochs=NUM_EPOCHS, \n",
    "    validation_data=val_dataset,\n",
    "    callbacks=callback_list\n",
    ")"
   ]
  },
  {
   "cell_type": "code",
   "execution_count": 93,
   "id": "2762481d",
   "metadata": {},
   "outputs": [
    {
     "ename": "InvalidArgumentError",
     "evalue": "Exception encountered when calling NEmbedding.call().\n\n\u001b[1m{{function_node __wrapped____MklEinsum_N_2_device_/job:localhost/replica:0/task:0/device:CPU:0}} Expected input 1 to have rank 2 but got: 3 [Op:Einsum] name: \u001b[0m\n\nArguments received by NEmbedding.call():\n  • x=tf.Tensor(shape=(1, 5, 1), dtype=float32)",
     "output_type": "error",
     "traceback": [
      "\u001b[1;31m---------------------------------------------------------------------------\u001b[0m",
      "\u001b[1;31mInvalidArgumentError\u001b[0m                      Traceback (most recent call last)",
      "Cell \u001b[1;32mIn[93], line 2\u001b[0m\n\u001b[0;32m      1\u001b[0m sample_batch \u001b[38;5;241m=\u001b[39m \u001b[38;5;28mnext\u001b[39m(\u001b[38;5;28miter\u001b[39m(train_dataset\u001b[38;5;241m.\u001b[39mbatch(\u001b[38;5;241m1\u001b[39m)))\n\u001b[1;32m----> 2\u001b[0m output \u001b[38;5;241m=\u001b[39m \u001b[43mft_linear_transformer\u001b[49m\u001b[43m(\u001b[49m\u001b[43msample_batch\u001b[49m\u001b[43m)\u001b[49m\n",
      "File \u001b[1;32mc:\\Users\\Marcus\\miniconda3\\envs\\MLDA\\lib\\site-packages\\keras\\src\\utils\\traceback_utils.py:123\u001b[0m, in \u001b[0;36mfilter_traceback.<locals>.error_handler\u001b[1;34m(*args, **kwargs)\u001b[0m\n\u001b[0;32m    120\u001b[0m     filtered_tb \u001b[38;5;241m=\u001b[39m _process_traceback_frames(e\u001b[38;5;241m.\u001b[39m__traceback__)\n\u001b[0;32m    121\u001b[0m     \u001b[38;5;66;03m# To get the full stack trace, call:\u001b[39;00m\n\u001b[0;32m    122\u001b[0m     \u001b[38;5;66;03m# `keras.config.disable_traceback_filtering()`\u001b[39;00m\n\u001b[1;32m--> 123\u001b[0m     \u001b[38;5;28;01mraise\u001b[39;00m e\u001b[38;5;241m.\u001b[39mwith_traceback(filtered_tb) \u001b[38;5;28;01mfrom\u001b[39;00m \u001b[38;5;28;01mNone\u001b[39;00m\n\u001b[0;32m    124\u001b[0m \u001b[38;5;28;01mfinally\u001b[39;00m:\n\u001b[0;32m    125\u001b[0m     \u001b[38;5;28;01mdel\u001b[39;00m filtered_tb\n",
      "File \u001b[1;32mc:\\Users\\Marcus\\miniconda3\\envs\\MLDA\\lib\\site-packages\\tabtransformertf\\models\\fttransformer.py:192\u001b[0m, in \u001b[0;36mFTTransformer.call\u001b[1;34m(self, inputs)\u001b[0m\n\u001b[0;32m    190\u001b[0m \u001b[38;5;28;01mdef\u001b[39;00m \u001b[38;5;21mcall\u001b[39m(\u001b[38;5;28mself\u001b[39m, inputs):\n\u001b[0;32m    191\u001b[0m     \u001b[38;5;28;01mif\u001b[39;00m \u001b[38;5;28mself\u001b[39m\u001b[38;5;241m.\u001b[39mencoder\u001b[38;5;241m.\u001b[39mexplainable:\n\u001b[1;32m--> 192\u001b[0m         x, expl \u001b[38;5;241m=\u001b[39m \u001b[38;5;28;43mself\u001b[39;49m\u001b[38;5;241;43m.\u001b[39;49m\u001b[43mencoder\u001b[49m\u001b[43m(\u001b[49m\u001b[43minputs\u001b[49m\u001b[43m)\u001b[49m\n\u001b[0;32m    193\u001b[0m     \u001b[38;5;28;01melse\u001b[39;00m:\n\u001b[0;32m    194\u001b[0m         x \u001b[38;5;241m=\u001b[39m \u001b[38;5;28mself\u001b[39m\u001b[38;5;241m.\u001b[39mencoder(inputs)\n",
      "File \u001b[1;32mc:\\Users\\Marcus\\miniconda3\\envs\\MLDA\\lib\\site-packages\\tabtransformertf\\models\\fttransformer.py:122\u001b[0m, in \u001b[0;36mFTTransformerEncoder.call\u001b[1;34m(self, inputs)\u001b[0m\n\u001b[0;32m    120\u001b[0m         num_input\u001b[38;5;241m.\u001b[39mappend(inputs[n])\n\u001b[0;32m    121\u001b[0m     num_input \u001b[38;5;241m=\u001b[39m tf\u001b[38;5;241m.\u001b[39mstack(num_input, axis\u001b[38;5;241m=\u001b[39m\u001b[38;5;241m1\u001b[39m)[:, :, \u001b[38;5;241m0\u001b[39m]\n\u001b[1;32m--> 122\u001b[0m     num_embs \u001b[38;5;241m=\u001b[39m \u001b[38;5;28;43mself\u001b[39;49m\u001b[38;5;241;43m.\u001b[39;49m\u001b[43mnumerical_embeddings\u001b[49m\u001b[43m(\u001b[49m\u001b[43mnum_input\u001b[49m\u001b[43m)\u001b[49m\n\u001b[0;32m    123\u001b[0m     transformer_inputs \u001b[38;5;241m+\u001b[39m\u001b[38;5;241m=\u001b[39m [num_embs]\n\u001b[0;32m    125\u001b[0m \u001b[38;5;66;03m# Prepare for Transformer\u001b[39;00m\n",
      "File \u001b[1;32mc:\\Users\\Marcus\\miniconda3\\envs\\MLDA\\lib\\site-packages\\tabtransformertf\\models\\embeddings.py:168\u001b[0m, in \u001b[0;36mNEmbedding.call\u001b[1;34m(self, x)\u001b[0m\n\u001b[0;32m    166\u001b[0m     embs \u001b[38;5;241m=\u001b[39m \u001b[38;5;28mself\u001b[39m\u001b[38;5;241m.\u001b[39membedding_layer(x)\n\u001b[0;32m    167\u001b[0m \u001b[38;5;28;01melse\u001b[39;00m:\n\u001b[1;32m--> 168\u001b[0m     embs \u001b[38;5;241m=\u001b[39m \u001b[43mtf\u001b[49m\u001b[38;5;241;43m.\u001b[39;49m\u001b[43meinsum\u001b[49m\u001b[43m(\u001b[49m\u001b[38;5;124;43m'\u001b[39;49m\u001b[38;5;124;43mf n e, b f -> bfe\u001b[39;49m\u001b[38;5;124;43m'\u001b[39;49m\u001b[43m,\u001b[49m\u001b[43m \u001b[49m\u001b[38;5;28;43mself\u001b[39;49m\u001b[38;5;241;43m.\u001b[39;49m\u001b[43mlinear_w\u001b[49m\u001b[43m,\u001b[49m\u001b[43m \u001b[49m\u001b[43mx\u001b[49m\u001b[43m)\u001b[49m\n\u001b[0;32m    169\u001b[0m     embs \u001b[38;5;241m=\u001b[39m tf\u001b[38;5;241m.\u001b[39mnn\u001b[38;5;241m.\u001b[39mrelu(embs \u001b[38;5;241m+\u001b[39m \u001b[38;5;28mself\u001b[39m\u001b[38;5;241m.\u001b[39mlinear_b)\n\u001b[0;32m    171\u001b[0m \u001b[38;5;28;01mreturn\u001b[39;00m embs\n",
      "\u001b[1;31mInvalidArgumentError\u001b[0m: Exception encountered when calling NEmbedding.call().\n\n\u001b[1m{{function_node __wrapped____MklEinsum_N_2_device_/job:localhost/replica:0/task:0/device:CPU:0}} Expected input 1 to have rank 2 but got: 3 [Op:Einsum] name: \u001b[0m\n\nArguments received by NEmbedding.call():\n  • x=tf.Tensor(shape=(1, 5, 1), dtype=float32)"
     ]
    }
   ],
   "source": [
    "sample_batch = next(iter(train_dataset.batch(1)))\n",
    "output = ft_linear_transformer(sample_batch)"
   ]
  },
  {
   "cell_type": "code",
   "execution_count": 80,
   "id": "902ec742-d2c1-47ba-88d9-3ab4153108fb",
   "metadata": {},
   "outputs": [
    {
     "ename": "NameError",
     "evalue": "name 'ft_linear_history' is not defined",
     "output_type": "error",
     "traceback": [
      "\u001b[1;31m---------------------------------------------------------------------------\u001b[0m",
      "\u001b[1;31mNameError\u001b[0m                                 Traceback (most recent call last)",
      "Cell \u001b[1;32mIn[80], line 3\u001b[0m\n\u001b[0;32m      1\u001b[0m fig, ax \u001b[38;5;241m=\u001b[39m plt\u001b[38;5;241m.\u001b[39msubplots(nrows\u001b[38;5;241m=\u001b[39m\u001b[38;5;241m1\u001b[39m, ncols\u001b[38;5;241m=\u001b[39m\u001b[38;5;241m2\u001b[39m)\n\u001b[1;32m----> 3\u001b[0m ax[\u001b[38;5;241m0\u001b[39m]\u001b[38;5;241m.\u001b[39mplot(\u001b[43mft_linear_history\u001b[49m\u001b[38;5;241m.\u001b[39mhistory[\u001b[38;5;124m'\u001b[39m\u001b[38;5;124mloss\u001b[39m\u001b[38;5;124m'\u001b[39m], label\u001b[38;5;241m=\u001b[39m\u001b[38;5;124m'\u001b[39m\u001b[38;5;124mTraining Loss\u001b[39m\u001b[38;5;124m'\u001b[39m)\n\u001b[0;32m      4\u001b[0m ax[\u001b[38;5;241m0\u001b[39m]\u001b[38;5;241m.\u001b[39mplot(ft_linear_history\u001b[38;5;241m.\u001b[39mhistory[\u001b[38;5;124m'\u001b[39m\u001b[38;5;124mval_loss\u001b[39m\u001b[38;5;124m'\u001b[39m], label\u001b[38;5;241m=\u001b[39m\u001b[38;5;124m'\u001b[39m\u001b[38;5;124mValidation Loss\u001b[39m\u001b[38;5;124m'\u001b[39m)\n\u001b[0;32m      5\u001b[0m ax[\u001b[38;5;241m0\u001b[39m]\u001b[38;5;241m.\u001b[39mlegend()\n",
      "\u001b[1;31mNameError\u001b[0m: name 'ft_linear_history' is not defined"
     ]
    },
    {
     "data": {
      "image/png": "[encoded data removed]",
      "text/plain": [
       "<Figure size 2000x1000 with 2 Axes>"
      ]
     },
     "metadata": {},
     "output_type": "display_data"
    }
   ],
   "source": [
    "fig, ax = plt.subplots(nrows=1, ncols=2)\n",
    "\n",
    "ax[0].plot(ft_linear_history.history['loss'], label='Training Loss')\n",
    "ax[0].plot(ft_linear_history.history['val_loss'], label='Validation Loss')\n",
    "ax[0].legend()\n",
    "\n",
    "ax[1].plot(ft_linear_history.history['output_PR AUC'], label='Training PR AUC')\n",
    "ax[1].plot(ft_linear_history.history['val_output_PR AUC'], label='Validation PR AUC')\n",
    "ax[1].legend()\n",
    "\n",
    "plt.show()"
   ]
  },
  {
   "cell_type": "code",
   "execution_count": 15,
   "id": "bb8d3a81-2009-4242-a196-a5ea25171e46",
   "metadata": {},
   "outputs": [
    {
     "name": "stdout",
     "output_type": "stream",
     "text": [
      "FT-Transformer with Linear Numerical Embedding\n",
      "Test ROC AUC: 0.9118\n",
      "Test PR AUC: 0.7842\n",
      "Test Accuracy: 0.8577\n"
     ]
    }
   ],
   "source": [
    "linear_test_preds = ft_linear_transformer.predict(test_dataset)\n",
    "print(\"FT-Transformer with Linear Numerical Embedding\")\n",
    "print(\"Test ROC AUC:\", np.round(roc_auc_score(test_data[LABEL], linear_test_preds['output'].ravel()), 4))\n",
    "print(\"Test PR AUC:\", np.round(average_precision_score(test_data[LABEL], linear_test_preds['output'].ravel()), 4))\n",
    "print(\"Test Accuracy:\", np.round(accuracy_score(test_data[LABEL], linear_test_preds['output'].ravel()>0.5), 4))\n",
    "\n",
    "# Reported accuracy - 0.858"
   ]
  },
  {
   "cell_type": "markdown",
   "id": "343588c8-1298-47c9-bc29-99204e6c31a7",
   "metadata": {},
   "source": [
    "## Explainability"
   ]
  },
  {
   "cell_type": "code",
   "execution_count": 17,
   "id": "3d0936a3-d41c-4071-b46c-d7c73a403fc6",
   "metadata": {},
   "outputs": [
    {
     "data": {
      "image/png": "[encoded data removed]",
      "text/plain": [
       "<Figure size 1500x700 with 1 Axes>"
      ]
     },
     "metadata": {},
     "output_type": "display_data"
    }
   ],
   "source": [
    "linear_importances = linear_test_preds['importances']\n",
    "linear_importances_df = pd.DataFrame(linear_importances[:, :-1], columns = FEATURES)\n",
    "linear_total_importances = get_model_importances(\n",
    "    linear_importances_df, title=\"Importances for FT-Transformer with Linear Numerical Embedddings\"\n",
    ")"
   ]
  },
  {
   "cell_type": "code",
   "execution_count": 50,
   "id": "27c656f9-da32-4e2b-bf83-1e74e35f819c",
   "metadata": {},
   "outputs": [
    {
     "name": "stdout",
     "output_type": "stream",
     "text": [
      "Top 5 contributions to row 3608 which was scored 0.9919\n"
     ]
    },
    {
     "data": {
      "text/html": [
       "<div>\n",
       "<style scoped>\n",
       "    .dataframe tbody tr th:only-of-type {\n",
       "        vertical-align: middle;\n",
       "    }\n",
       "\n",
       "    .dataframe tbody tr th {\n",
       "        vertical-align: top;\n",
       "    }\n",
       "\n",
       "    .dataframe thead th {\n",
       "        text-align: right;\n",
       "    }\n",
       "</style>\n",
       "<table border=\"1\" class=\"dataframe\">\n",
       "  <thead>\n",
       "    <tr style=\"text-align: right;\">\n",
       "      <th></th>\n",
       "      <th>Importance</th>\n",
       "      <th>Example Vlaue</th>\n",
       "    </tr>\n",
       "  </thead>\n",
       "  <tbody>\n",
       "    <tr>\n",
       "      <th>gender</th>\n",
       "      <td>0.164829</td>\n",
       "      <td>Female</td>\n",
       "    </tr>\n",
       "    <tr>\n",
       "      <th>age</th>\n",
       "      <td>0.076485</td>\n",
       "      <td>1.355023</td>\n",
       "    </tr>\n",
       "    <tr>\n",
       "      <th>capital_loss</th>\n",
       "      <td>0.072796</td>\n",
       "      <td>-0.216317</td>\n",
       "    </tr>\n",
       "    <tr>\n",
       "      <th>occupation</th>\n",
       "      <td>0.072420</td>\n",
       "      <td>Prof-specialty</td>\n",
       "    </tr>\n",
       "    <tr>\n",
       "      <th>relationship</th>\n",
       "      <td>0.071956</td>\n",
       "      <td>Wife</td>\n",
       "    </tr>\n",
       "  </tbody>\n",
       "</table>\n",
       "</div>"
      ],
      "text/plain": [
       "              Importance    Example Vlaue\n",
       "gender          0.164829           Female\n",
       "age             0.076485         1.355023\n",
       "capital_loss    0.072796        -0.216317\n",
       "occupation      0.072420   Prof-specialty\n",
       "relationship    0.071956             Wife"
      ]
     },
     "metadata": {},
     "output_type": "display_data"
    },
    {
     "name": "stdout",
     "output_type": "stream",
     "text": [
      "Top 5 contributions to row 12682 which was scored 0.0016\n"
     ]
    },
    {
     "data": {
      "text/html": [
       "<div>\n",
       "<style scoped>\n",
       "    .dataframe tbody tr th:only-of-type {\n",
       "        vertical-align: middle;\n",
       "    }\n",
       "\n",
       "    .dataframe tbody tr th {\n",
       "        vertical-align: top;\n",
       "    }\n",
       "\n",
       "    .dataframe thead th {\n",
       "        text-align: right;\n",
       "    }\n",
       "</style>\n",
       "<table border=\"1\" class=\"dataframe\">\n",
       "  <thead>\n",
       "    <tr style=\"text-align: right;\">\n",
       "      <th></th>\n",
       "      <th>Importance</th>\n",
       "      <th>Example Vlaue</th>\n",
       "    </tr>\n",
       "  </thead>\n",
       "  <tbody>\n",
       "    <tr>\n",
       "      <th>relationship</th>\n",
       "      <td>0.099172</td>\n",
       "      <td>Other-relative</td>\n",
       "    </tr>\n",
       "    <tr>\n",
       "      <th>occupation</th>\n",
       "      <td>0.086154</td>\n",
       "      <td>Transport-moving</td>\n",
       "    </tr>\n",
       "    <tr>\n",
       "      <th>hours_per_week</th>\n",
       "      <td>0.081941</td>\n",
       "      <td>-0.037162</td>\n",
       "    </tr>\n",
       "    <tr>\n",
       "      <th>capital_gain</th>\n",
       "      <td>0.070829</td>\n",
       "      <td>-0.143609</td>\n",
       "    </tr>\n",
       "    <tr>\n",
       "      <th>education_num</th>\n",
       "      <td>0.069647</td>\n",
       "      <td>-3.146201</td>\n",
       "    </tr>\n",
       "  </tbody>\n",
       "</table>\n",
       "</div>"
      ],
      "text/plain": [
       "                Importance      Example Vlaue\n",
       "relationship      0.099172     Other-relative\n",
       "occupation        0.086154   Transport-moving\n",
       "hours_per_week    0.081941          -0.037162\n",
       "capital_gain      0.070829          -0.143609\n",
       "education_num     0.069647          -3.146201"
      ]
     },
     "metadata": {},
     "output_type": "display_data"
    }
   ],
   "source": [
    "# Largest prediction\n",
    "max_idx = np.argsort(linear_test_preds['output'].ravel())[-1]\n",
    "example_importance_linear = linear_importances_df.iloc[max_idx, :].sort_values(ascending=False).rename(\"Importance\").to_frame().join(\n",
    "    test_data.iloc[max_idx, :].rename(\"Example Vlaue\")\n",
    ").head(5)\n",
    "print(f\"Top 5 contributions to row {max_idx} which was scored {str(np.round(linear_test_preds['output'].ravel()[max_idx], 4))}\")\n",
    "display(example_importance_linear)\n",
    "\n",
    "# Smallest one\n",
    "min_idx = np.argsort(linear_test_preds['output'].ravel())[0]\n",
    "example_importance_linear = linear_importances_df.iloc[min_idx, :].sort_values(ascending=False).rename(\"Importance\").to_frame().join(\n",
    "    test_data.iloc[min_idx, :].rename(\"Example Vlaue\")\n",
    ").head(5)\n",
    "print(f\"Top 5 contributions to row {min_idx} which was scored {str(np.round(linear_test_preds['output'].ravel()[min_idx], 4))}\")\n",
    "display(example_importance_linear)"
   ]
  },
  {
   "cell_type": "code",
   "execution_count": null,
   "id": "167d8831-5b0b-4292-bab9-cf1c179d0b66",
   "metadata": {},
   "outputs": [],
   "source": []
  }
 ],
 "metadata": {
  "kernelspec": {
   "display_name": "MLDA",
   "language": "python",
   "name": "python3"
  },
  "language_info": {
   "codemirror_mode": {
    "name": "ipython",
    "version": 3
   },
   "file_extension": ".py",
   "mimetype": "text/x-python",
   "name": "python",
   "nbconvert_exporter": "python",
   "pygments_lexer": "ipython3",
   "version": "3.10.13"
  }
 },
 "nbformat": 4,
 "nbformat_minor": 5
}

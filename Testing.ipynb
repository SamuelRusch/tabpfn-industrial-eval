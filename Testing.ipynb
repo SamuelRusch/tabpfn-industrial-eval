{
 "cells": [
  {
   "cell_type": "code",
   "execution_count": 13,
   "id": "24e5094d",
   "metadata": {},
   "outputs": [],
   "source": [
    "import os\n",
    "import pandas as pd\n",
    "import numpy as np\n",
    "import matplotlib.pyplot as plt\n",
    "from sklearn.metrics import mean_squared_error, mean_absolute_error, r2_score\n",
    "from sklearn.tree import DecisionTreeRegressor\n",
    "from sklearn.ensemble import RandomForestRegressor\n",
    "from xgboost import XGBRegressor\n",
    "import torch\n",
    "import torch.nn as nn\n",
    "import torch.optim as optim\n",
    "from torch.utils.data import Dataset, DataLoader\n",
    "from tab_transformer_pytorch import TabTransformer, FTTransformer\n",
    "from preprocessing import get_features_and_target\n",
    "from sklearn.preprocessing import LabelEncoder\n",
    "from RMSELoss import RMSELoss\n",
    "import plotly.graph_objects as go"
   ]
  },
  {
   "cell_type": "markdown",
   "id": "8903ce30",
   "metadata": {},
   "source": [
    "# Getting Dataframe"
   ]
  },
  {
   "cell_type": "code",
   "execution_count": 14,
   "id": "963edeb3",
   "metadata": {},
   "outputs": [],
   "source": [
    "test_df = pd.read_csv(\"data/test_data.csv\")\n",
    "\n",
    "\n",
    "target_column = \"PullTest (N)\"  \n",
    "x_test, y_test = get_features_and_target(test_df, target_column)\n",
    "\n",
    "\n",
    "\n"
   ]
  },
  {
   "cell_type": "markdown",
   "id": "ceb7195e",
   "metadata": {},
   "source": [
    "# Encode Categorical_Features"
   ]
  },
  {
   "cell_type": "code",
   "execution_count": 15,
   "id": "fdcfc4b4",
   "metadata": {},
   "outputs": [],
   "source": [
    "# Define the categorical features\n",
    "categorical_features = [\"Material\"]\n",
    "\n",
    "le = LabelEncoder()\n",
    "\n",
    "for feature in categorical_features:\n",
    "    x_test[feature] = le.fit_transform(x_test[feature])"
   ]
  },
  {
   "cell_type": "markdown",
   "id": "28553ec1",
   "metadata": {},
   "source": [
    "# Split Categorical_Features"
   ]
  },
  {
   "cell_type": "code",
   "execution_count": 16,
   "id": "611514f2",
   "metadata": {},
   "outputs": [],
   "source": [
    "# Drop categorical features to get the continuous features\n",
    "x_test_numerical_features = x_test.drop(categorical_features, axis=1)\n",
    "\n",
    "# Seperate the categorical features\n",
    "x_test_categorical_features = x_test[categorical_features]"
   ]
  },
  {
   "cell_type": "markdown",
   "id": "1a174186",
   "metadata": {},
   "source": [
    "# Change df into Tensors"
   ]
  },
  {
   "cell_type": "code",
   "execution_count": 17,
   "id": "388a97f3",
   "metadata": {},
   "outputs": [],
   "source": [
    "\n",
    "test_tensor = torch.tensor(x_test.to_numpy(), dtype=torch.float)\n",
    "x_test_numer_tensor = torch.tensor(x_test_numerical_features.to_numpy(),dtype=torch.float)\n",
    "x_test_categorical_features_tensor = torch.tensor(x_test_categorical_features.to_numpy(),dtype=torch.long)\n",
    "y_test_tensor = torch.tensor(y_test.to_numpy(), dtype=torch.float)\n",
    "\n",
    "from torch.utils.data import TensorDataset,DataLoader\n",
    "\n",
    "\n",
    "test_ds = TensorDataset(\n",
    "    x_test_categorical_features_tensor,\n",
    "    x_test_numer_tensor,\n",
    "    y_test_tensor\n",
    ")\n",
    "\n",
    "test_loader   = DataLoader(test_ds,   batch_size=32)\n",
    "\n"
   ]
  },
  {
   "cell_type": "markdown",
   "id": "cc41df7b",
   "metadata": {},
   "source": [
    "# Check Tensors\n"
   ]
  },
  {
   "cell_type": "code",
   "execution_count": null,
   "id": "a65c3ce0",
   "metadata": {},
   "outputs": [
    {
     "name": "stdout",
     "output_type": "stream",
     "text": [
      "8\n"
     ]
    }
   ],
   "source": [
    "torch.set_printoptions(sci_mode=False, precision=3)\n",
    "print(x_test_numer_tensor)"
   ]
  },
  {
   "cell_type": "markdown",
   "id": "856330a7",
   "metadata": {},
   "source": [
    "# Define Model"
   ]
  },
  {
   "cell_type": "code",
   "execution_count": 61,
   "id": "7f1e183b",
   "metadata": {},
   "outputs": [],
   "source": [
    "# categories is defined as a tuple, we only have one categorical feature \"Material\"\n",
    "# the second parameter has to be empty for the model to work correctly\n",
    "# in hard numbers this is displaying (1,)\n",
    "model_data_driven = FTTransformer(\n",
    "    categories=(x_test_categorical_features.shape[1],),\n",
    "    num_continuous=x_test_numerical_features.shape[1],\n",
    "    dim=9,\n",
    "    dim_out=1,\n",
    "    depth=4,\n",
    "    heads=4,\n",
    "    attn_dropout=0.1,\n",
    "    ff_dropout=0.1\n",
    ")\n",
    "\n",
    "model_physic_loss = FTTransformer(\n",
    "    categories=(x_test_categorical_features.shape[1],),\n",
    "    num_continuous=x_test_numerical_features.shape[1],\n",
    "    dim=9,\n",
    "    dim_out=1,\n",
    "    depth=4,\n",
    "    heads=4,\n",
    "    attn_dropout=0.1,\n",
    "    ff_dropout=0.1\n",
    ")\n",
    "\n",
    "model_error_loss = FTTransformer(\n",
    "    categories=(x_test_categorical_features.shape[1],),\n",
    "    num_continuous=x_test_numerical_features.shape[1],\n",
    "    dim=8,\n",
    "    dim_out=1,\n",
    "    depth=4,\n",
    "    heads=4,\n",
    "    attn_dropout=0.3,\n",
    "    ff_dropout=0.3\n",
    ")"
   ]
  },
  {
   "cell_type": "markdown",
   "id": "453a62ff",
   "metadata": {},
   "source": [
    "# Saved Models\n",
    "\n"
   ]
  },
  {
   "cell_type": "code",
   "execution_count": 62,
   "id": "220db4dc",
   "metadata": {},
   "outputs": [
    {
     "data": {
      "text/plain": [
       "<All keys matched successfully>"
      ]
     },
     "execution_count": 62,
     "metadata": {},
     "output_type": "execute_result"
    }
   ],
   "source": [
    "#to be able to match the model, define the same parameters above in define the model\n",
    "#Seleted Models:\n",
    "\n",
    "#Regular Training\n",
    "data_driven_model = 'trained_models/regular_training/model_FTTransformer_lr0.00025_9_1_4_4_.1_0.1__epoch15600.pt'\n",
    "\n",
    "#Physical Loss Training\n",
    "physical_loss_model = 'trained_models/physical_loss_training/model_lr0.00025_9_1_4_4_.1_.1PhysicsLambda0.2_epoch20000.pt'\n",
    "\n",
    "#Physical Error Training\n",
    "physical_error_model = 'trained_models/physical_error_training/model_lr0.00025_8_1_4_4_.3_.3Error_date_20250812_epoch9500.pt'\n",
    "\n",
    "\n",
    "pathD = data_driven_model\n",
    "pathL = physical_loss_model\n",
    "pathE = physical_error_model\n",
    "model_data_driven.load_state_dict(torch.load(pathD))\n",
    "model_physic_loss.load_state_dict(torch.load(pathL))\n",
    "model_error_loss.load_state_dict(torch.load(pathE))"
   ]
  },
  {
   "cell_type": "code",
   "execution_count": 47,
   "id": "652d5f7b",
   "metadata": {},
   "outputs": [],
   "source": [
    "idxA, idxB = 5, 6  \n",
    "\n",
    "def physics_pull_force(x_cont):\n",
    "    # x_cont: [B, num_cont_features]\n",
    "    A = x_cont[:, idxA]               \n",
    "    B = x_cont[:, idxB]               \n",
    "\n",
    "    # element‐wise minimum of each row\n",
    "    t = torch.minimum(A, B)           \n",
    "    # f_phys = (π/4)*(5*√t)^2*(0.6*365)\n",
    "    return ((torch.pi / 4) * (4 * torch.sqrt(t)).pow(2) * (0.8 * 365))"
   ]
  },
  {
   "cell_type": "code",
   "execution_count": 73,
   "id": "4bf87e40",
   "metadata": {},
   "outputs": [
    {
     "data": {
      "application/vnd.plotly.v1+json": {
       "config": {
        "plotlyServerURL": "https://plot.ly"
       },
       "data": [
        {
         "marker": {
          "color": "black",
          "size": 6
         },
         "mode": "lines+markers",
         "name": "True Data",
         "type": "scatter",
         "x": {
          "bdata": "AAABAAIAAwAEAAUABgAHAAgACQAKAAsADAANAA4ADwAQABEAEgATABQAFQAWABcAGAAZABoAGwAcAB0AHgAfACAAIQAiACMAJAAlACYAJwAoACkAKgArACwALQAuAC8AMAAxADIAMwA0ADUANgA3ADgAOQA6ADsAPAA9AD4APwBAAEEAQgBDAEQARQBGAEcASABJAEoASwBMAE0ATgBPAFAAUQBSAFMAVABVAFYAVwBYAFkAWgBbAFwAXQBeAF8AYABhAGIAYwBkAGUAZgBnAGgAaQBqAGsAbABtAG4AbwBwAHEAcgBzAHQAdQB2AHcAeAB5AHoAewB8AH0AfgB/AIAAgQCCAIMAhACFAIYAhwCIAIkAigCLAIwAjQCOAI8AkACRAJIAkwA=",
          "dtype": "i2"
         },
         "y": {
          "bdata": "Zn4+RTMDOkUzW0tFmmFCRTODLEUzM+tEZsYsRZrZMEUAaABFmklERTNzgkWaQTRFzQQvRWZOMkXNxDdFMyszRTNLLEXNLExFmpEyRQCIJkWakT5FZpZARTNLMEUAQDhFmoErRTNzJUUAYCFFAEBARTOjOUXNdDJFmpktRZpZKkUzcz1FzdxBRQDwSEVmZkBFM/sERQAQ5UQAwCFFmpEmRc2sNUWaeUBFZt4uRZp5KEUzczlFALguRc1QnEWaqTxFzYQQRTMrR0UACDRFzZRTRQDQKEWaKT5FmuEnRWZ+QkUAGDNFzTwuRZo5PUUAMC1FzVxARc3EK0VmPjdFzQxCRQA4LEWaCUFFzUwlRQAwQUUAcERFmiE7RZrhP0WakSZFZiYxRTOLO0UASD9FZs4zRZr5PUUzm0ZFmoEjRQC4PkWaeUBFzaxBRWYuNEUz6zNFM1snRQBYQkXN3C1FmuEzRTMbMEXN3BxFAHgrRc2UI0UAGJFFZn5CRTM7QkUzszBFALhCRc1MPUVmxjhFAAgwRZohS0XNDDJFzRw1RQDcpkVmfi5FZlYlRWYmQUXNlCNFMwNKRZohJ0XNHElFAAg8Rc18QUWaaTVFANg/RTNLMEVmxkRFZn46RZqhHUWaKT5FM+NMRWZOBUUzgyxFAABFRWbGQEUzgyxFmiEnRTNbO0Uz6y9FZg4GRQB0tUUA2CdFM0MxRTOLQ0Vm5i1FZl4gRQAoQkUzizdFZjYzRc1cLEVm5jVFzXxFRTMLgkWawS5FAChORTPrEUXNZDdFmgk5RQ==",
          "dtype": "f4"
         }
        },
        {
         "marker": {
          "color": "blue",
          "size": 6
         },
         "mode": "lines+markers",
         "name": "Data Driven Prediction",
         "type": "scatter",
         "x": {
          "bdata": "AAABAAIAAwAEAAUABgAHAAgACQAKAAsADAANAA4ADwAQABEAEgATABQAFQAWABcAGAAZABoAGwAcAB0AHgAfACAAIQAiACMAJAAlACYAJwAoACkAKgArACwALQAuAC8AMAAxADIAMwA0ADUANgA3ADgAOQA6ADsAPAA9AD4APwBAAEEAQgBDAEQARQBGAEcASABJAEoASwBMAE0ATgBPAFAAUQBSAFMAVABVAFYAVwBYAFkAWgBbAFwAXQBeAF8AYABhAGIAYwBkAGUAZgBnAGgAaQBqAGsAbABtAG4AbwBwAHEAcgBzAHQAdQB2AHcAeAB5AHoAewB8AH0AfgB/AIAAgQCCAIMAhACFAIYAhwCIAIkAigCLAIwAjQCOAI8AkACRAJIAkwA=",
          "dtype": "i2"
         },
         "y": {
          "bdata": "Qjk5RbjIK0X0ljlFfIYsRQjbNkWQeTtFUGk4RYxyL0UfVS1FKKBBRWerg0U2wCpFnwY5RdIMLkWyizlFEuIsRYt1OUVaPTlFhbg3RRr/MUUW+ytFKbUtRdhjOEVP4CpFr3gsRc6vLUU8vStFiCdARbxaPEUOcTZF/VMqRWxQK0UV4ztF4OI+ReUsUEU79CpFIOnXRIWtAEUyIi1FSDMsRSL/NkXXSDRF2sY5RecbLEX8uCtFjwktRUKqg0V8zDdFCEMuRURdLEV0vTlF3IlXRXWCKEXYez5FG2kpRf+XLUUSDi5FaoArRWCUQEVLXS1FZVktRTAyN0W+BC5FMoZBRcOMOUW67D1FAyEpRfBKQkVaUjdFYEQtRW+sN0Wx2CpFsKQ7Rd7ZLEXgwixF7e8rRSkiOkWcJEBF4lgpRRZSLEXzdT1FXW9CRcqqMUWUTC1FdNsvRahON0WyJypF5s8sRZoYO0XNL+5ER2ouRXqCN0XEmn5F7CdDRS6TOEX1BCxF9sk9RTAdO0XMvThFd/IoReG6OUX25TRF/7EvRX0/g0U+ri1F3R0qRTrfN0X+gjhF7OhMRbz8LEXuTkBFXUI/RY32QkUhICpFomo3RargOkUp+URFmhk1RdqNJUWquUBFcd5ORTgJI0Wc2SlFiG40RX4VQEWviC5FlFQrRfi/K0WXUi1FCZJFRXiIg0WW2CtFI6EpRTxHQ0UQWSpFRC0qRaSMPkWOpDVFZV8rRWofLEWe6zdFulhBRUJaeUUa1CpF8AhVRaoJgkWe4jZFzNA2RQ==",
          "dtype": "f4"
         }
        },
        {
         "marker": {
          "color": "orange",
          "size": 6
         },
         "mode": "lines+markers",
         "name": "Phyisical Loss Prediction",
         "type": "scatter",
         "x": {
          "bdata": "AAABAAIAAwAEAAUABgAHAAgACQAKAAsADAANAA4ADwAQABEAEgATABQAFQAWABcAGAAZABoAGwAcAB0AHgAfACAAIQAiACMAJAAlACYAJwAoACkAKgArACwALQAuAC8AMAAxADIAMwA0ADUANgA3ADgAOQA6ADsAPAA9AD4APwBAAEEAQgBDAEQARQBGAEcASABJAEoASwBMAE0ATgBPAFAAUQBSAFMAVABVAFYAVwBYAFkAWgBbAFwAXQBeAF8AYABhAGIAYwBkAGUAZgBnAGgAaQBqAGsAbABtAG4AbwBwAHEAcgBzAHQAdQB2AHcAeAB5AHoAewB8AH0AfgB/AIAAgQCCAIMAhACFAIYAhwCIAIkAigCLAIwAjQCOAI8AkACRAJIAkwA=",
          "dtype": "i2"
         },
         "y": {
          "bdata": "noc/RagsKUXCzj5F9BsrRbwJM0ULRT1FjtEzRcdLK0XE4CpF8r8/RYsHmEX8Xi5FMZsyRct1KkXGNTxFJScuRa5ZOkVSyz5F5Ps3RUu3KkUaJytFOhwsRTp8MUXw1jNFnPYsRcYrK0XEtylFbO5BRaa/PEWYozNFPcUpRVQ3KUX5GT5FyO1BRQjTR0Wpty1FBJzxROgsDkUc4z9Fv/IrRSyTMUX14DFFgVIwRe87KkXHpSpFl9woRfrhl0W4RjxFdFotRZZQM0Uc0zNFgdNLRXf1KkUtdz1FqvgpRW7JK0XSpS1FPpoqRa72PUXk5StFmlEqRXzcLkUkNS1FP8BARdoDO0VUyztFH8wqRQj2QEUiNTFFMkkuRZnQMUX0IypFgh84RUJUK0V3eStFEM4uRUTTQUVouz1FZpsqRU7aK0UnvD5FLgVARcFRMkUGeStFJHcqRVouOEVlwylFnFExRUz5M0WbaPlEpuIqRRnFOUW2VGdFtOo/RWwONkUEQy1FwEo7RZ6PM0W4gD1Fha4pRRggQ0WiVjJFBMEqRahxbUVqcENFKjsrResqO0UWSTNFentDRQoSK0Wk+EJFNr46RY4XQEUcxStFOG03RbASNEVkhjtFwAU+RdUKMkXT+j5FevlNRYNkLUX4yC9FhN45RbD5P0V39SpFRGMqRclvK0VkTSxFuMM7RXa8l0WCiStF+5sqRZfoQ0VynStF6BsqRdq+PEVDgzZFL4AoRTgWN0U5VzRFCfo9RXrvdkWizClFiU5ERcFOg0XAqztFtKkyRQ==",
          "dtype": "f4"
         }
        },
        {
         "marker": {
          "color": "green",
          "size": 6
         },
         "mode": "lines+markers",
         "name": "Error Loss Prediction",
         "type": "scatter",
         "x": {
          "bdata": "AAABAAIAAwAEAAUABgAHAAgACQAKAAsADAANAA4ADwAQABEAEgATABQAFQAWABcAGAAZABoAGwAcAB0AHgAfACAAIQAiACMAJAAlACYAJwAoACkAKgArACwALQAuAC8AMAAxADIAMwA0ADUANgA3ADgAOQA6ADsAPAA9AD4APwBAAEEAQgBDAEQARQBGAEcASABJAEoASwBMAE0ATgBPAFAAUQBSAFMAVABVAFYAVwBYAFkAWgBbAFwAXQBeAF8AYABhAGIAYwBkAGUAZgBnAGgAaQBqAGsAbABtAG4AbwBwAHEAcgBzAHQAdQB2AHcAeAB5AHoAewB8AH0AfgB/AIAAgQCCAIMAhACFAIYAhwCIAIkAigCLAIwAjQCOAI8AkACRAJIAkwA=",
          "dtype": "i2"
         },
         "y": {
          "bdata": "bgJDRSt/K0VvoUlFRRI2Rb6hMkWU2j9FBIMrRXUnL0UU0khFTIxCRULAh0WWjDFFS1I0RT45MEVW+ztFIf8uRWBuNUV+ZkVFpGo2RREILkV3SjJF6FQvRcU2NEWeiDhFw3cxRSC2MUWTES5FnpFDRWpGQ0VOWjtFMKQyRcbaKUUP0D5FzpA+RWwpS0UW1TRFZ+8mRe2+JUWs2CxFvCosRQazM0VJVDBFXVUyRZdzKUWXxi9F3uArRVpJiEUXjkJFWJ0zRWiiMEVO2DFF6gxMRb77LEVKkz1F7E0qRRdYL0X6kzNFfCctRcCOPkV0US1FEc0tRXFXM0XPTDVFTy9ARRWSPEX5zj5Fo/gsRXm5QUUEFjBFr9wsRdW3N0XkhC5F91U7RaFMN0V2QDBFjz8uRaMrRUWq0UBFGoYqRVLGLUWhg0BF3uNARTzXL0Vw6zVF7qMsRbHePEXOJypFdc0uRVClM0XFhShF4YotRYRvPEXObYRFRfNBRbLMO0VUGC5FMg9CRWHdM0XZnUBFLFEpRWi/QEXOiTNFDYVBRd+uhEWZDUpFch4qRd4WPUU9YzlFnqdIRekvLUUQSENFgMhBRcm3Q0W85zNFdjk5RW6NNEXPJ0dFqBZDRaAcKEWAHEFFtelERZLbJ0VcBzFFWPM1Ra4PQUWzTS5FWvkpRaWCMUUXxixFD0ZLRbFGh0VYxCxFVNYvRf9qRUWRby5F+BEsRUpqQ0VoEDdF/JsoReX1MEWGhjpF4tNARcJcfUWxHy1FykJLRfded0UFCD9FCw82RQ==",
          "dtype": "f4"
         }
        },
        {
         "marker": {
          "color": "firebrick",
          "size": 6
         },
         "mode": "lines+markers",
         "name": "Physics Only",
         "type": "scatter",
         "x": {
          "bdata": "AAABAAIAAwAEAAUABgAHAAgACQAKAAsADAANAA4ADwAQABEAEgATABQAFQAWABcAGAAZABoAGwAcAB0AHgAfACAAIQAiACMAJAAlACYAJwAoACkAKgArACwALQAuAC8AMAAxADIAMwA0ADUANgA3ADgAOQA6ADsAPAA9AD4APwBAAEEAQgBDAEQARQBGAEcASABJAEoASwBMAE0ATgBPAFAAUQBSAFMAVABVAFYAVwBYAFkAWgBbAFwAXQBeAF8AYABhAGIAYwBkAGUAZgBnAGgAaQBqAGsAbABtAG4AbwBwAHEAcgBzAHQAdQB2AHcAeAB5AHoAewB8AH0AfgB/AIAAgQCCAIMAhACFAIYAhwCIAIkAigCLAIwAjQCOAI8AkACRAJIAkwA=",
          "dtype": "i2"
         },
         "y": {
          "bdata": "GBsPRWlFDUUPthBFjPUNRUEwDkVj4A5FfJNXRZ3bEUUYGw9FY+AORa0NVUV1xhJFY+AORb+LEkXH8BBFfCsRRe8FEEU5yw9FSZUMRXwrEUVUFhJFfCsRRTnLD0Wd2xFFOcsPRVt7EEV8KxFFx/AQRWPgDkUegA1Fx/AQRaylDkXVug1FOcsPRaZAEEXnoBFFSP1SRbvXUUV8KxFFrKUORTnLD0WM9Q1FY+AORTnLD0Vj4A5FGBsPRYP4VUWzCg1FrKUORTnLD0WM9Q1F56ARRZ3bEUUegA1FY+AORVQWEkUYGw9FzlUPRUEwDkXnoBFFGBsPRSflC0XhOxNFGBsPRc5VD0X9zwxFx/AQRc5VD0UegA1FrKUORWPgDkWd2xFFGBsPRYz1DUX2ag5FW3sQRQ+2EEXvBRBFzlUPRe8FEEUYGw9FzlUPRf3PDEUYGw9FY+AORUEwDkVj4A5FdcYSRc5VD0VAmFRFfCsRRaylDkXNvVVF7wUQRfZqDkUPthBFSZUMRaylDkWspQ5FHoANRe8FEEWmQBBFQTAORaWoVkWDkA9F/c8MRd0fDEWSWgxFGBsPRaZAEEXnoBFFSZUMRe8FEEWDkA9F1boNRQ+2EEXvBRBFHoANRdUiVEVj4A5FpkAQRSDoU0XhOxNFzlUPRYOQD0VbexBFQTAORQ+2EEVbexBF9tJURaWoVkWmQBBFrKUOReegEUXnoBFFx/AQRTnLD0UYGw9FQJhURVt7EEUegA1F7wUQRdyHUkVj4A5FOcsPRdUiVEX9zwxF9moORQ==",
          "dtype": "f4"
         }
        }
       ],
       "layout": {
        "legend": {
         "borderwidth": 1,
         "title": {
          "text": "Series"
         },
         "x": 1.005,
         "xanchor": "left",
         "y": 1
        },
        "margin": {
         "r": 100
        },
        "template": {
         "data": {
          "bar": [
           {
            "error_x": {
             "color": "rgb(36,36,36)"
            },
            "error_y": {
             "color": "rgb(36,36,36)"
            },
            "marker": {
             "line": {
              "color": "rgb(234,234,242)",
              "width": 0.5
             },
             "pattern": {
              "fillmode": "overlay",
              "size": 10,
              "solidity": 0.2
             }
            },
            "type": "bar"
           }
          ],
          "barpolar": [
           {
            "marker": {
             "line": {
              "color": "rgb(234,234,242)",
              "width": 0.5
             },
             "pattern": {
              "fillmode": "overlay",
              "size": 10,
              "solidity": 0.2
             }
            },
            "type": "barpolar"
           }
          ],
          "carpet": [
           {
            "aaxis": {
             "endlinecolor": "rgb(36,36,36)",
             "gridcolor": "white",
             "linecolor": "white",
             "minorgridcolor": "white",
             "startlinecolor": "rgb(36,36,36)"
            },
            "baxis": {
             "endlinecolor": "rgb(36,36,36)",
             "gridcolor": "white",
             "linecolor": "white",
             "minorgridcolor": "white",
             "startlinecolor": "rgb(36,36,36)"
            },
            "type": "carpet"
           }
          ],
          "choropleth": [
           {
            "colorbar": {
             "outlinewidth": 0,
             "tickcolor": "rgb(36,36,36)",
             "ticklen": 8,
             "ticks": "outside",
             "tickwidth": 2
            },
            "type": "choropleth"
           }
          ],
          "contour": [
           {
            "colorbar": {
             "outlinewidth": 0,
             "tickcolor": "rgb(36,36,36)",
             "ticklen": 8,
             "ticks": "outside",
             "tickwidth": 2
            },
            "colorscale": [
             [
              0,
              "rgb(2,4,25)"
             ],
             [
              0.06274509803921569,
              "rgb(24,15,41)"
             ],
             [
              0.12549019607843137,
              "rgb(47,23,57)"
             ],
             [
              0.18823529411764706,
              "rgb(71,28,72)"
             ],
             [
              0.25098039215686274,
              "rgb(97,30,82)"
             ],
             [
              0.3137254901960784,
              "rgb(123,30,89)"
             ],
             [
              0.3764705882352941,
              "rgb(150,27,91)"
             ],
             [
              0.4392156862745098,
              "rgb(177,22,88)"
             ],
             [
              0.5019607843137255,
              "rgb(203,26,79)"
             ],
             [
              0.5647058823529412,
              "rgb(223,47,67)"
             ],
             [
              0.6274509803921569,
              "rgb(236,76,61)"
             ],
             [
              0.6901960784313725,
              "rgb(242,107,73)"
             ],
             [
              0.7529411764705882,
              "rgb(244,135,95)"
             ],
             [
              0.8156862745098039,
              "rgb(245,162,122)"
             ],
             [
              0.8784313725490196,
              "rgb(246,188,153)"
             ],
             [
              0.9411764705882353,
              "rgb(247,212,187)"
             ],
             [
              1,
              "rgb(250,234,220)"
             ]
            ],
            "type": "contour"
           }
          ],
          "contourcarpet": [
           {
            "colorbar": {
             "outlinewidth": 0,
             "tickcolor": "rgb(36,36,36)",
             "ticklen": 8,
             "ticks": "outside",
             "tickwidth": 2
            },
            "type": "contourcarpet"
           }
          ],
          "heatmap": [
           {
            "colorbar": {
             "outlinewidth": 0,
             "tickcolor": "rgb(36,36,36)",
             "ticklen": 8,
             "ticks": "outside",
             "tickwidth": 2
            },
            "colorscale": [
             [
              0,
              "rgb(2,4,25)"
             ],
             [
              0.06274509803921569,
              "rgb(24,15,41)"
             ],
             [
              0.12549019607843137,
              "rgb(47,23,57)"
             ],
             [
              0.18823529411764706,
              "rgb(71,28,72)"
             ],
             [
              0.25098039215686274,
              "rgb(97,30,82)"
             ],
             [
              0.3137254901960784,
              "rgb(123,30,89)"
             ],
             [
              0.3764705882352941,
              "rgb(150,27,91)"
             ],
             [
              0.4392156862745098,
              "rgb(177,22,88)"
             ],
             [
              0.5019607843137255,
              "rgb(203,26,79)"
             ],
             [
              0.5647058823529412,
              "rgb(223,47,67)"
             ],
             [
              0.6274509803921569,
              "rgb(236,76,61)"
             ],
             [
              0.6901960784313725,
              "rgb(242,107,73)"
             ],
             [
              0.7529411764705882,
              "rgb(244,135,95)"
             ],
             [
              0.8156862745098039,
              "rgb(245,162,122)"
             ],
             [
              0.8784313725490196,
              "rgb(246,188,153)"
             ],
             [
              0.9411764705882353,
              "rgb(247,212,187)"
             ],
             [
              1,
              "rgb(250,234,220)"
             ]
            ],
            "type": "heatmap"
           }
          ],
          "histogram": [
           {
            "marker": {
             "pattern": {
              "fillmode": "overlay",
              "size": 10,
              "solidity": 0.2
             }
            },
            "type": "histogram"
           }
          ],
          "histogram2d": [
           {
            "colorbar": {
             "outlinewidth": 0,
             "tickcolor": "rgb(36,36,36)",
             "ticklen": 8,
             "ticks": "outside",
             "tickwidth": 2
            },
            "colorscale": [
             [
              0,
              "rgb(2,4,25)"
             ],
             [
              0.06274509803921569,
              "rgb(24,15,41)"
             ],
             [
              0.12549019607843137,
              "rgb(47,23,57)"
             ],
             [
              0.18823529411764706,
              "rgb(71,28,72)"
             ],
             [
              0.25098039215686274,
              "rgb(97,30,82)"
             ],
             [
              0.3137254901960784,
              "rgb(123,30,89)"
             ],
             [
              0.3764705882352941,
              "rgb(150,27,91)"
             ],
             [
              0.4392156862745098,
              "rgb(177,22,88)"
             ],
             [
              0.5019607843137255,
              "rgb(203,26,79)"
             ],
             [
              0.5647058823529412,
              "rgb(223,47,67)"
             ],
             [
              0.6274509803921569,
              "rgb(236,76,61)"
             ],
             [
              0.6901960784313725,
              "rgb(242,107,73)"
             ],
             [
              0.7529411764705882,
              "rgb(244,135,95)"
             ],
             [
              0.8156862745098039,
              "rgb(245,162,122)"
             ],
             [
              0.8784313725490196,
              "rgb(246,188,153)"
             ],
             [
              0.9411764705882353,
              "rgb(247,212,187)"
             ],
             [
              1,
              "rgb(250,234,220)"
             ]
            ],
            "type": "histogram2d"
           }
          ],
          "histogram2dcontour": [
           {
            "colorbar": {
             "outlinewidth": 0,
             "tickcolor": "rgb(36,36,36)",
             "ticklen": 8,
             "ticks": "outside",
             "tickwidth": 2
            },
            "colorscale": [
             [
              0,
              "rgb(2,4,25)"
             ],
             [
              0.06274509803921569,
              "rgb(24,15,41)"
             ],
             [
              0.12549019607843137,
              "rgb(47,23,57)"
             ],
             [
              0.18823529411764706,
              "rgb(71,28,72)"
             ],
             [
              0.25098039215686274,
              "rgb(97,30,82)"
             ],
             [
              0.3137254901960784,
              "rgb(123,30,89)"
             ],
             [
              0.3764705882352941,
              "rgb(150,27,91)"
             ],
             [
              0.4392156862745098,
              "rgb(177,22,88)"
             ],
             [
              0.5019607843137255,
              "rgb(203,26,79)"
             ],
             [
              0.5647058823529412,
              "rgb(223,47,67)"
             ],
             [
              0.6274509803921569,
              "rgb(236,76,61)"
             ],
             [
              0.6901960784313725,
              "rgb(242,107,73)"
             ],
             [
              0.7529411764705882,
              "rgb(244,135,95)"
             ],
             [
              0.8156862745098039,
              "rgb(245,162,122)"
             ],
             [
              0.8784313725490196,
              "rgb(246,188,153)"
             ],
             [
              0.9411764705882353,
              "rgb(247,212,187)"
             ],
             [
              1,
              "rgb(250,234,220)"
             ]
            ],
            "type": "histogram2dcontour"
           }
          ],
          "mesh3d": [
           {
            "colorbar": {
             "outlinewidth": 0,
             "tickcolor": "rgb(36,36,36)",
             "ticklen": 8,
             "ticks": "outside",
             "tickwidth": 2
            },
            "type": "mesh3d"
           }
          ],
          "parcoords": [
           {
            "line": {
             "colorbar": {
              "outlinewidth": 0,
              "tickcolor": "rgb(36,36,36)",
              "ticklen": 8,
              "ticks": "outside",
              "tickwidth": 2
             }
            },
            "type": "parcoords"
           }
          ],
          "pie": [
           {
            "automargin": true,
            "type": "pie"
           }
          ],
          "scatter": [
           {
            "fillpattern": {
             "fillmode": "overlay",
             "size": 10,
             "solidity": 0.2
            },
            "type": "scatter"
           }
          ],
          "scatter3d": [
           {
            "line": {
             "colorbar": {
              "outlinewidth": 0,
              "tickcolor": "rgb(36,36,36)",
              "ticklen": 8,
              "ticks": "outside",
              "tickwidth": 2
             }
            },
            "marker": {
             "colorbar": {
              "outlinewidth": 0,
              "tickcolor": "rgb(36,36,36)",
              "ticklen": 8,
              "ticks": "outside",
              "tickwidth": 2
             }
            },
            "type": "scatter3d"
           }
          ],
          "scattercarpet": [
           {
            "marker": {
             "colorbar": {
              "outlinewidth": 0,
              "tickcolor": "rgb(36,36,36)",
              "ticklen": 8,
              "ticks": "outside",
              "tickwidth": 2
             }
            },
            "type": "scattercarpet"
           }
          ],
          "scattergeo": [
           {
            "marker": {
             "colorbar": {
              "outlinewidth": 0,
              "tickcolor": "rgb(36,36,36)",
              "ticklen": 8,
              "ticks": "outside",
              "tickwidth": 2
             }
            },
            "type": "scattergeo"
           }
          ],
          "scattergl": [
           {
            "marker": {
             "colorbar": {
              "outlinewidth": 0,
              "tickcolor": "rgb(36,36,36)",
              "ticklen": 8,
              "ticks": "outside",
              "tickwidth": 2
             }
            },
            "type": "scattergl"
           }
          ],
          "scattermap": [
           {
            "marker": {
             "colorbar": {
              "outlinewidth": 0,
              "tickcolor": "rgb(36,36,36)",
              "ticklen": 8,
              "ticks": "outside",
              "tickwidth": 2
             }
            },
            "type": "scattermap"
           }
          ],
          "scattermapbox": [
           {
            "marker": {
             "colorbar": {
              "outlinewidth": 0,
              "tickcolor": "rgb(36,36,36)",
              "ticklen": 8,
              "ticks": "outside",
              "tickwidth": 2
             }
            },
            "type": "scattermapbox"
           }
          ],
          "scatterpolar": [
           {
            "marker": {
             "colorbar": {
              "outlinewidth": 0,
              "tickcolor": "rgb(36,36,36)",
              "ticklen": 8,
              "ticks": "outside",
              "tickwidth": 2
             }
            },
            "type": "scatterpolar"
           }
          ],
          "scatterpolargl": [
           {
            "marker": {
             "colorbar": {
              "outlinewidth": 0,
              "tickcolor": "rgb(36,36,36)",
              "ticklen": 8,
              "ticks": "outside",
              "tickwidth": 2
             }
            },
            "type": "scatterpolargl"
           }
          ],
          "scatterternary": [
           {
            "marker": {
             "colorbar": {
              "outlinewidth": 0,
              "tickcolor": "rgb(36,36,36)",
              "ticklen": 8,
              "ticks": "outside",
              "tickwidth": 2
             }
            },
            "type": "scatterternary"
           }
          ],
          "surface": [
           {
            "colorbar": {
             "outlinewidth": 0,
             "tickcolor": "rgb(36,36,36)",
             "ticklen": 8,
             "ticks": "outside",
             "tickwidth": 2
            },
            "colorscale": [
             [
              0,
              "rgb(2,4,25)"
             ],
             [
              0.06274509803921569,
              "rgb(24,15,41)"
             ],
             [
              0.12549019607843137,
              "rgb(47,23,57)"
             ],
             [
              0.18823529411764706,
              "rgb(71,28,72)"
             ],
             [
              0.25098039215686274,
              "rgb(97,30,82)"
             ],
             [
              0.3137254901960784,
              "rgb(123,30,89)"
             ],
             [
              0.3764705882352941,
              "rgb(150,27,91)"
             ],
             [
              0.4392156862745098,
              "rgb(177,22,88)"
             ],
             [
              0.5019607843137255,
              "rgb(203,26,79)"
             ],
             [
              0.5647058823529412,
              "rgb(223,47,67)"
             ],
             [
              0.6274509803921569,
              "rgb(236,76,61)"
             ],
             [
              0.6901960784313725,
              "rgb(242,107,73)"
             ],
             [
              0.7529411764705882,
              "rgb(244,135,95)"
             ],
             [
              0.8156862745098039,
              "rgb(245,162,122)"
             ],
             [
              0.8784313725490196,
              "rgb(246,188,153)"
             ],
             [
              0.9411764705882353,
              "rgb(247,212,187)"
             ],
             [
              1,
              "rgb(250,234,220)"
             ]
            ],
            "type": "surface"
           }
          ],
          "table": [
           {
            "cells": {
             "fill": {
              "color": "rgb(231,231,240)"
             },
             "line": {
              "color": "white"
             }
            },
            "header": {
             "fill": {
              "color": "rgb(183,183,191)"
             },
             "line": {
              "color": "white"
             }
            },
            "type": "table"
           }
          ]
         },
         "layout": {
          "annotationdefaults": {
           "arrowcolor": "rgb(67,103,167)"
          },
          "autotypenumbers": "strict",
          "coloraxis": {
           "colorbar": {
            "outlinewidth": 0,
            "tickcolor": "rgb(36,36,36)",
            "ticklen": 8,
            "ticks": "outside",
            "tickwidth": 2
           }
          },
          "colorscale": {
           "sequential": [
            [
             0,
             "rgb(2,4,25)"
            ],
            [
             0.06274509803921569,
             "rgb(24,15,41)"
            ],
            [
             0.12549019607843137,
             "rgb(47,23,57)"
            ],
            [
             0.18823529411764706,
             "rgb(71,28,72)"
            ],
            [
             0.25098039215686274,
             "rgb(97,30,82)"
            ],
            [
             0.3137254901960784,
             "rgb(123,30,89)"
            ],
            [
             0.3764705882352941,
             "rgb(150,27,91)"
            ],
            [
             0.4392156862745098,
             "rgb(177,22,88)"
            ],
            [
             0.5019607843137255,
             "rgb(203,26,79)"
            ],
            [
             0.5647058823529412,
             "rgb(223,47,67)"
            ],
            [
             0.6274509803921569,
             "rgb(236,76,61)"
            ],
            [
             0.6901960784313725,
             "rgb(242,107,73)"
            ],
            [
             0.7529411764705882,
             "rgb(244,135,95)"
            ],
            [
             0.8156862745098039,
             "rgb(245,162,122)"
            ],
            [
             0.8784313725490196,
             "rgb(246,188,153)"
            ],
            [
             0.9411764705882353,
             "rgb(247,212,187)"
            ],
            [
             1,
             "rgb(250,234,220)"
            ]
           ],
           "sequentialminus": [
            [
             0,
             "rgb(2,4,25)"
            ],
            [
             0.06274509803921569,
             "rgb(24,15,41)"
            ],
            [
             0.12549019607843137,
             "rgb(47,23,57)"
            ],
            [
             0.18823529411764706,
             "rgb(71,28,72)"
            ],
            [
             0.25098039215686274,
             "rgb(97,30,82)"
            ],
            [
             0.3137254901960784,
             "rgb(123,30,89)"
            ],
            [
             0.3764705882352941,
             "rgb(150,27,91)"
            ],
            [
             0.4392156862745098,
             "rgb(177,22,88)"
            ],
            [
             0.5019607843137255,
             "rgb(203,26,79)"
            ],
            [
             0.5647058823529412,
             "rgb(223,47,67)"
            ],
            [
             0.6274509803921569,
             "rgb(236,76,61)"
            ],
            [
             0.6901960784313725,
             "rgb(242,107,73)"
            ],
            [
             0.7529411764705882,
             "rgb(244,135,95)"
            ],
            [
             0.8156862745098039,
             "rgb(245,162,122)"
            ],
            [
             0.8784313725490196,
             "rgb(246,188,153)"
            ],
            [
             0.9411764705882353,
             "rgb(247,212,187)"
            ],
            [
             1,
             "rgb(250,234,220)"
            ]
           ]
          },
          "colorway": [
           "rgb(76,114,176)",
           "rgb(221,132,82)",
           "rgb(85,168,104)",
           "rgb(196,78,82)",
           "rgb(129,114,179)",
           "rgb(147,120,96)",
           "rgb(218,139,195)",
           "rgb(140,140,140)",
           "rgb(204,185,116)",
           "rgb(100,181,205)"
          ],
          "font": {
           "color": "rgb(36,36,36)"
          },
          "geo": {
           "bgcolor": "white",
           "lakecolor": "white",
           "landcolor": "rgb(234,234,242)",
           "showlakes": true,
           "showland": true,
           "subunitcolor": "white"
          },
          "hoverlabel": {
           "align": "left"
          },
          "hovermode": "closest",
          "paper_bgcolor": "white",
          "plot_bgcolor": "rgb(234,234,242)",
          "polar": {
           "angularaxis": {
            "gridcolor": "white",
            "linecolor": "white",
            "showgrid": true,
            "ticks": ""
           },
           "bgcolor": "rgb(234,234,242)",
           "radialaxis": {
            "gridcolor": "white",
            "linecolor": "white",
            "showgrid": true,
            "ticks": ""
           }
          },
          "scene": {
           "xaxis": {
            "backgroundcolor": "rgb(234,234,242)",
            "gridcolor": "white",
            "gridwidth": 2,
            "linecolor": "white",
            "showbackground": true,
            "showgrid": true,
            "ticks": "",
            "zerolinecolor": "white"
           },
           "yaxis": {
            "backgroundcolor": "rgb(234,234,242)",
            "gridcolor": "white",
            "gridwidth": 2,
            "linecolor": "white",
            "showbackground": true,
            "showgrid": true,
            "ticks": "",
            "zerolinecolor": "white"
           },
           "zaxis": {
            "backgroundcolor": "rgb(234,234,242)",
            "gridcolor": "white",
            "gridwidth": 2,
            "linecolor": "white",
            "showbackground": true,
            "showgrid": true,
            "ticks": "",
            "zerolinecolor": "white"
           }
          },
          "shapedefaults": {
           "fillcolor": "rgb(67,103,167)",
           "line": {
            "width": 0
           },
           "opacity": 0.5
          },
          "ternary": {
           "aaxis": {
            "gridcolor": "white",
            "linecolor": "white",
            "showgrid": true,
            "ticks": ""
           },
           "baxis": {
            "gridcolor": "white",
            "linecolor": "white",
            "showgrid": true,
            "ticks": ""
           },
           "bgcolor": "rgb(234,234,242)",
           "caxis": {
            "gridcolor": "white",
            "linecolor": "white",
            "showgrid": true,
            "ticks": ""
           }
          },
          "xaxis": {
           "automargin": true,
           "gridcolor": "white",
           "linecolor": "white",
           "showgrid": true,
           "ticks": "",
           "title": {
            "standoff": 15
           },
           "zerolinecolor": "white"
          },
          "yaxis": {
           "automargin": true,
           "gridcolor": "white",
           "linecolor": "white",
           "showgrid": true,
           "ticks": "",
           "title": {
            "standoff": 15
           },
           "zerolinecolor": "white"
          }
         }
        },
        "title": {
         "text": "Test Dataset"
        },
        "xaxis": {
         "title": {
          "text": "Sample Index"
         }
        },
        "yaxis": {
         "title": {
          "text": "Pull-Force"
         }
        }
       }
      }
     },
     "metadata": {},
     "output_type": "display_data"
    }
   ],
   "source": [
    "# Pass over val_loader:\n",
    "all_true, all_pred, all_pred_error, all_pred_phyloss, all_phys = [], [], [],[], []\n",
    "\n",
    "with torch.no_grad():\n",
    "    for x_cat, x_cont, y in test_loader:\n",
    "        y   = y.unsqueeze(-1)\n",
    "        f_p = physics_pull_force(x_cont).unsqueeze(-1)                            \n",
    "        r_p = model_data_driven(x_cat, x_cont)   \n",
    "        e_p = model_error_loss(x_cat, x_cont)  \n",
    "        l_p = model_physic_loss(x_cat, x_cont)                  \n",
    "        y_p = (r_p) \n",
    "        ye_p = (f_p + e_p) \n",
    "        yphy_p = (l_p)                           \n",
    "\n",
    "        all_true.append(y.ravel())\n",
    "        all_pred.append(y_p.ravel())\n",
    "        all_pred_phyloss.append(yphy_p.ravel())\n",
    "        all_pred_error.append(ye_p.ravel())\n",
    "        all_phys.append(f_p.ravel())\n",
    "\n",
    "# flatten\n",
    "all_true = np.concatenate(all_true)\n",
    "all_pred = np.concatenate(all_pred)\n",
    "all_pred_phyloss = np.concatenate(all_pred_phyloss)\n",
    "all_pred_error = np.concatenate(all_pred_error)\n",
    "all_phys = np.concatenate(all_phys)\n",
    "\n",
    "# plot per‐sample\n",
    "sample = np.arange(len(all_true))\n",
    "\n",
    "fig = go.Figure()\n",
    "fig.add_trace(go.Scatter(x=sample, y=all_true, mode=\"lines+markers\",\n",
    "                         name=\"True Data\", marker=dict(color=\"black\", size=6)))\n",
    "fig.add_trace(go.Scatter(x=sample, y=all_pred, mode=\"lines+markers\",\n",
    "                         name=\"Data Driven Prediction\", marker=dict(color=\"blue\", size=6)))\n",
    "fig.add_trace(go.Scatter(x=sample, y=all_pred_phyloss, mode=\"lines+markers\",\n",
    "                         name=\"Phyisical Loss Prediction\", marker=dict(color=\"orange\", size=6)))\n",
    "fig.add_trace(go.Scatter(x=sample, y=all_pred_error, mode=\"lines+markers\",\n",
    "                         name=\"Error Loss Prediction\", marker=dict(color=\"green\", size=6)))\n",
    "fig.add_trace(go.Scatter(x=sample, y=all_phys, mode=\"lines+markers\",\n",
    "                         name=\"Physics Only\", marker=dict(color=\"firebrick\", size=6)))\n",
    "\n",
    "\n",
    "fig.update_layout(\n",
    "    title=\"Test Dataset\",\n",
    "    xaxis_title=\"Sample Index\",\n",
    "    yaxis_title=\"Pull-Force\",\n",
    "    legend_title=\"Series\",\n",
    "    legend=dict(\n",
    "        x=1.005,        # push legend past the right edge\n",
    "        y=1,\n",
    "        xanchor=\"left\",\n",
    "        borderwidth=1\n",
    "    ),\n",
    "    margin=dict(r=100),  # give extra room on right for the legend\n",
    "    template=\"seaborn\"\n",
    ")\n",
    "\n",
    "fig.show()"
   ]
  },
  {
   "cell_type": "code",
   "execution_count": 77,
   "id": "e7adb958",
   "metadata": {},
   "outputs": [
    {
     "name": "stdout",
     "output_type": "stream",
     "text": [
      "MAE:  174.98\n",
      "RMSE: 327.19\n",
      "R2: 0.54\n"
     ]
    }
   ],
   "source": [
    "# Collect predictions and true values from the validation set\n",
    "model_physic_loss.eval()\n",
    "all_preds = []\n",
    "all_targets = []\n",
    "\n",
    "with torch.no_grad():\n",
    "    for x_cat, x_cont, y in test_loader:\n",
    "        y = y.unsqueeze(-1) \n",
    "        phys = physics_pull_force(x_cont).unsqueeze(-1)                \n",
    "        all_targets.append(y)\n",
    "\n",
    "        # 2) Error\n",
    "        Loss = model_physic_loss(x_cat, x_cont)\n",
    "\n",
    "\n",
    "        all_preds.append(Loss)\n",
    "\n",
    "# Concatenate batches\n",
    "y_true = np.vstack(all_targets)\n",
    "y_pred = np.vstack(all_preds)\n",
    "\n",
    "# Calculate MAE and RMSE and R2\n",
    "mae  = mean_absolute_error(y_true, y_pred)\n",
    "rmse = np.sqrt(mean_squared_error(y_true, y_pred))\n",
    "R2   = r2_score(y_true, y_pred)\n",
    "\n",
    "print(f\"MAE:  {mae:.2f}\")\n",
    "print(f\"RMSE: {rmse:.2f}\")\n",
    "print(f\"R2: {R2:.2f}\")"
   ]
  }
 ],
 "metadata": {
  "kernelspec": {
   "display_name": "phy_based_mlearning",
   "language": "python",
   "name": "python3"
  },
  "language_info": {
   "codemirror_mode": {
    "name": "ipython",
    "version": 3
   },
   "file_extension": ".py",
   "mimetype": "text/x-python",
   "name": "python",
   "nbconvert_exporter": "python",
   "pygments_lexer": "ipython3",
   "version": "3.10.13"
  }
 },
 "nbformat": 4,
 "nbformat_minor": 5
}

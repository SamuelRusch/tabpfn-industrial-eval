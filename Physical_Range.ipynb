{
 "cells": [
  {
   "cell_type": "code",
   "execution_count": 1,
   "id": "23f46bbe-4a49-4145-a918-b3d9e0e1e722",
   "metadata": {},
   "outputs": [],
   "source": [
    "import pandas as pd\n",
    "import numpy as np\n",
    "import matplotlib.pyplot as plt\n",
    "from sklearn.metrics import mean_squared_error, r2_score\n",
    "from sklearn.tree import DecisionTreeRegressor\n",
    "from sklearn.ensemble import RandomForestRegressor\n",
    "from xgboost import XGBRegressor\n",
    "import torch\n",
    "import torch.nn as nn\n",
    "import torch.optim as optim\n",
    "from torch.utils.data import Dataset, DataLoader\n",
    "from tab_transformer_pytorch import TabTransformer, FTTransformer\n",
    "from preprocessing import get_features_and_target\n",
    "from sklearn.preprocessing import LabelEncoder\n",
    "from RMSELoss import RMSELoss\n",
    "import plotly.graph_objects as go"
   ]
  },
  {
   "cell_type": "markdown",
   "id": "af7c8f29",
   "metadata": {},
   "source": [
    "# Get Dataset"
   ]
  },
  {
   "cell_type": "code",
   "execution_count": 2,
   "id": "44fdd5e9",
   "metadata": {},
   "outputs": [],
   "source": [
    "train_df = pd.read_csv(\"data/train_data.csv\")\n",
    "dev_df = pd.read_csv(\"data/development_data.csv\")\n",
    "\n",
    "target_column = \"PullTest (N)\"  \n",
    "\n",
    "x_train, y_train = get_features_and_target(train_df, target_column)\n",
    "x_dev, y_dev = get_features_and_target(dev_df, target_column)\n"
   ]
  },
  {
   "cell_type": "markdown",
   "id": "8ac513d1",
   "metadata": {},
   "source": [
    "# Augment for New Columns"
   ]
  },
  {
   "cell_type": "code",
   "execution_count": 3,
   "id": "103a2d99",
   "metadata": {},
   "outputs": [],
   "source": [
    "# Augment the training DataFrame with empty columns for calculations\n",
    "\n",
    "train_df_c = train_df\n",
    "train_df_c['FPull_4d_310MPa'] = ''\n",
    "train_df_c['FPull_5d_310MPa'] = ''\n",
    "train_df_c['FPull_4d_365MPa'] = ''\n",
    "train_df_c['FPull_5d_365MPa'] = ''\n",
    "train_df_c['FPull_4d_440MPa'] = ''\n",
    "train_df_c['FPull_5d_440MPa'] = ''"
   ]
  },
  {
   "cell_type": "markdown",
   "id": "cb1de63a",
   "metadata": {},
   "source": [
    "# Calculate values\n",
    "\n",
    "Formula: \n",
    "\n",
    "Shear-failure model: \n",
    "\n",
    "F = A * τ \n",
    "\n",
    "A = pi * d² / 4\n",
    "\n",
    "τ ≈ 0.6 * σ\n",
    "\n",
    "Nugget Diameter Relation:\n",
    "\n",
    "d ≈ k * √t           (with k = 4 or 5)\n",
    "\n",
    "# F = (pi / 4) * ((4 or 5) * √t)² * (0.6 * σ)"
   ]
  },
  {
   "cell_type": "code",
   "execution_count": 14,
   "id": "2c40e413",
   "metadata": {},
   "outputs": [],
   "source": [
    "for i in range(train_df_c.shape[0]):\n",
    "\n",
    "    # Calculate the thickness based on the minimum of either Thickness A or Thickness B\n",
    "    if train_df_c['Thickness A (mm)'][i] <= train_df_c['Thickness B (mm)'][i]:\n",
    "        t = train_df_c['Thickness A (mm)'][i]\n",
    "    else:\n",
    "        t = train_df_c['Thickness B (mm)'][i]\n",
    "\n",
    "    # Calculate the pull force for different diameters and yield strengths\n",
    "    f_pull_4d_310MPa = (np.pi/4) * np.square(4 * np.sqrt(t)) * (0.6 * 310)\n",
    "    train_df_c.loc[i, 'FPull_4d_310MPa'] = round(f_pull_4d_310MPa, 1)\n",
    "    f_pull_5d_310MPa = (np.pi/4) * np.square(5 * np.sqrt(t)) * (0.6 * 310)\n",
    "    train_df_c.loc[i, 'FPull_5d_310MPa'] = round(f_pull_5d_310MPa, 1)\n",
    "\n",
    "    f_pull_4d_365MPa = (np.pi/4) * np.square(4 * np.sqrt(t)) * (0.6 * 365)\n",
    "    train_df_c.loc[i, 'FPull_4d_365MPa'] = round(f_pull_4d_365MPa, 1)\n",
    "    f_pull_5d_365MPa = (np.pi/4) * np.square(5 * np.sqrt(t)) * (0.6 * 365)\n",
    "    train_df_c.loc[i, 'FPull_5d_365MPa'] = round(f_pull_5d_365MPa, 1)\n",
    "\n",
    "    f_pull_4d_310MPa = (np.pi/4) * np.square(4 * np.sqrt(t)) * (0.6 * 440)\n",
    "    train_df_c.loc[i, 'FPull_4d_440MPa'] = round(f_pull_4d_310MPa, 1)\n",
    "    f_pull_5d_310MPa = (np.pi/4) * np.square(5 * np.sqrt(t)) * (0.6 * 440)\n",
    "    train_df_c.loc[i, 'FPull_5d_440MPa'] = round(f_pull_5d_310MPa, 1)"
   ]
  },
  {
   "cell_type": "markdown",
   "id": "bb725cf2",
   "metadata": {},
   "source": [
    "# About (0.6·σ)\n",
    "\n",
    "Different sources mention different values for the 0,6. If you go with Tresca or von Mises criterion you get 0,5-0,57 which gets approximated to 0,6.  With 45 degree shear plane theroy the relationship is 1/√2 which is 0,707. It is also typical for 0,5 to be used. austenitic stainless steels can range up to ~ 0.8 this material is low carbon steel though and doesn't fall into this category."
   ]
  },
  {
   "cell_type": "markdown",
   "id": "a2a7610e",
   "metadata": {},
   "source": [
    "# Check Dataset"
   ]
  },
  {
   "cell_type": "code",
   "execution_count": 5,
   "id": "88ad2480",
   "metadata": {},
   "outputs": [
    {
     "data": {
      "text/html": [
       "<div>\n",
       "<style scoped>\n",
       "    .dataframe tbody tr th:only-of-type {\n",
       "        vertical-align: middle;\n",
       "    }\n",
       "\n",
       "    .dataframe tbody tr th {\n",
       "        vertical-align: top;\n",
       "    }\n",
       "\n",
       "    .dataframe thead th {\n",
       "        text-align: right;\n",
       "    }\n",
       "</style>\n",
       "<table border=\"1\" class=\"dataframe\">\n",
       "  <thead>\n",
       "    <tr style=\"text-align: right;\">\n",
       "      <th></th>\n",
       "      <th>Sample ID</th>\n",
       "      <th>Pressure (PSI)</th>\n",
       "      <th>Welding Time (ms)</th>\n",
       "      <th>Angle (Deg)</th>\n",
       "      <th>Force (N)</th>\n",
       "      <th>Current (A)</th>\n",
       "      <th>Thickness A (mm)</th>\n",
       "      <th>Thickness B (mm)</th>\n",
       "      <th>Material</th>\n",
       "      <th>PullTest (N)</th>\n",
       "      <th>NuggetDiameter (mm)</th>\n",
       "      <th>Category</th>\n",
       "      <th>Comments</th>\n",
       "      <th>Thickness A+B (mm)</th>\n",
       "      <th>FPull_4d_310MPa</th>\n",
       "      <th>FPull_5d_310MPa</th>\n",
       "      <th>FPull_4d_365MPa</th>\n",
       "      <th>FPull_5d_365MPa</th>\n",
       "      <th>FPull_4d_440MPa</th>\n",
       "      <th>FPull_5d_440MPa</th>\n",
       "    </tr>\n",
       "  </thead>\n",
       "  <tbody>\n",
       "    <tr>\n",
       "      <th>0</th>\n",
       "      <td>101</td>\n",
       "      <td>80</td>\n",
       "      <td>800</td>\n",
       "      <td>0</td>\n",
       "      <td>115.54</td>\n",
       "      <td>2929.03</td>\n",
       "      <td>0.625</td>\n",
       "      <td>0.631</td>\n",
       "      <td>AISI 1010 carbon steel</td>\n",
       "      <td>2683.1</td>\n",
       "      <td>3.41</td>\n",
       "      <td>Good</td>\n",
       "      <td>NaN</td>\n",
       "      <td>1.256</td>\n",
       "      <td>1460.8</td>\n",
       "      <td>2282.6</td>\n",
       "      <td>1720.0</td>\n",
       "      <td>2687.5</td>\n",
       "      <td>2073.5</td>\n",
       "      <td>3239.8</td>\n",
       "    </tr>\n",
       "    <tr>\n",
       "      <th>1</th>\n",
       "      <td>31</td>\n",
       "      <td>95</td>\n",
       "      <td>200</td>\n",
       "      <td>15</td>\n",
       "      <td>8.31</td>\n",
       "      <td>1075.09</td>\n",
       "      <td>0.946</td>\n",
       "      <td>0.939</td>\n",
       "      <td>AISI 1010 carbon steel</td>\n",
       "      <td>2667.3</td>\n",
       "      <td>2.81</td>\n",
       "      <td>Bad</td>\n",
       "      <td>DOE</td>\n",
       "      <td>1.885</td>\n",
       "      <td>2194.8</td>\n",
       "      <td>3429.3</td>\n",
       "      <td>2584.2</td>\n",
       "      <td>4037.8</td>\n",
       "      <td>3115.2</td>\n",
       "      <td>4867.4</td>\n",
       "    </tr>\n",
       "    <tr>\n",
       "      <th>2</th>\n",
       "      <td>493</td>\n",
       "      <td>60</td>\n",
       "      <td>1200</td>\n",
       "      <td>0</td>\n",
       "      <td>97.09</td>\n",
       "      <td>4161.74</td>\n",
       "      <td>0.615</td>\n",
       "      <td>0.619</td>\n",
       "      <td>AISI 1010 carbon steel</td>\n",
       "      <td>2730.3</td>\n",
       "      <td>3.58</td>\n",
       "      <td>Good</td>\n",
       "      <td>NaN</td>\n",
       "      <td>1.234</td>\n",
       "      <td>1437.5</td>\n",
       "      <td>2246.0</td>\n",
       "      <td>1692.5</td>\n",
       "      <td>2644.5</td>\n",
       "      <td>2040.3</td>\n",
       "      <td>3187.9</td>\n",
       "    </tr>\n",
       "    <tr>\n",
       "      <th>3</th>\n",
       "      <td>219</td>\n",
       "      <td>60</td>\n",
       "      <td>400</td>\n",
       "      <td>0</td>\n",
       "      <td>93.01</td>\n",
       "      <td>3140.98</td>\n",
       "      <td>0.621</td>\n",
       "      <td>0.632</td>\n",
       "      <td>AISI 1010 carbon steel</td>\n",
       "      <td>2748.3</td>\n",
       "      <td>3.38</td>\n",
       "      <td>Good</td>\n",
       "      <td>NaN</td>\n",
       "      <td>1.253</td>\n",
       "      <td>1451.5</td>\n",
       "      <td>2268.0</td>\n",
       "      <td>1709.0</td>\n",
       "      <td>2670.3</td>\n",
       "      <td>2060.2</td>\n",
       "      <td>3219.0</td>\n",
       "    </tr>\n",
       "    <tr>\n",
       "      <th>4</th>\n",
       "      <td>60</td>\n",
       "      <td>80</td>\n",
       "      <td>1000</td>\n",
       "      <td>0</td>\n",
       "      <td>96.29</td>\n",
       "      <td>3615.49</td>\n",
       "      <td>0.631</td>\n",
       "      <td>0.640</td>\n",
       "      <td>AISI 1010 carbon steel</td>\n",
       "      <td>2946.9</td>\n",
       "      <td>3.73</td>\n",
       "      <td>Good</td>\n",
       "      <td>NaN</td>\n",
       "      <td>1.271</td>\n",
       "      <td>1474.9</td>\n",
       "      <td>2304.5</td>\n",
       "      <td>1736.5</td>\n",
       "      <td>2713.3</td>\n",
       "      <td>2093.4</td>\n",
       "      <td>3270.9</td>\n",
       "    </tr>\n",
       "  </tbody>\n",
       "</table>\n",
       "</div>"
      ],
      "text/plain": [
       "   Sample ID  Pressure (PSI)  Welding Time (ms)  Angle (Deg)  Force (N)  \\\n",
       "0        101              80                800            0     115.54   \n",
       "1         31              95                200           15       8.31   \n",
       "2        493              60               1200            0      97.09   \n",
       "3        219              60                400            0      93.01   \n",
       "4         60              80               1000            0      96.29   \n",
       "\n",
       "   Current (A)  Thickness A (mm)  Thickness B (mm)                Material  \\\n",
       "0      2929.03             0.625             0.631  AISI 1010 carbon steel   \n",
       "1      1075.09             0.946             0.939  AISI 1010 carbon steel   \n",
       "2      4161.74             0.615             0.619  AISI 1010 carbon steel   \n",
       "3      3140.98             0.621             0.632  AISI 1010 carbon steel   \n",
       "4      3615.49             0.631             0.640  AISI 1010 carbon steel   \n",
       "\n",
       "   PullTest (N)  NuggetDiameter (mm) Category Comments  Thickness A+B (mm)  \\\n",
       "0        2683.1                 3.41     Good      NaN               1.256   \n",
       "1        2667.3                 2.81      Bad      DOE               1.885   \n",
       "2        2730.3                 3.58     Good      NaN               1.234   \n",
       "3        2748.3                 3.38     Good      NaN               1.253   \n",
       "4        2946.9                 3.73     Good      NaN               1.271   \n",
       "\n",
       "  FPull_4d_310MPa FPull_5d_310MPa FPull_4d_365MPa FPull_5d_365MPa  \\\n",
       "0          1460.8          2282.6          1720.0          2687.5   \n",
       "1          2194.8          3429.3          2584.2          4037.8   \n",
       "2          1437.5          2246.0          1692.5          2644.5   \n",
       "3          1451.5          2268.0          1709.0          2670.3   \n",
       "4          1474.9          2304.5          1736.5          2713.3   \n",
       "\n",
       "  FPull_4d_440MPa FPull_5d_440MPa  \n",
       "0          2073.5          3239.8  \n",
       "1          3115.2          4867.4  \n",
       "2          2040.3          3187.9  \n",
       "3          2060.2          3219.0  \n",
       "4          2093.4          3270.9  "
      ]
     },
     "execution_count": 5,
     "metadata": {},
     "output_type": "execute_result"
    }
   ],
   "source": [
    "train_df_c.head()"
   ]
  },
  {
   "cell_type": "markdown",
   "id": "36b94c8c",
   "metadata": {},
   "source": [
    "# Graph"
   ]
  },
  {
   "cell_type": "code",
   "execution_count": 12,
   "id": "9e747d6e",
   "metadata": {},
   "outputs": [
    {
     "data": {
      "application/vnd.plotly.v1+json": {
       "config": {
        "plotlyServerURL": "https://plot.ly"
       },
       "data": [
        {
         "line": {
          "color": "lightblue",
          "width": 2
         },
         "marker": {
          "color": "lightblue"
         },
         "mode": "lines+markers",
         "name": "FPull_4d_310MPa",
         "type": "scatter",
         "x": {
          "bdata": "AAABAAIAAwAEAAUABgAHAAgACQAKAAsADAANAA4ADwAQABEAEgATABQAFQAWABcAGAAZABoAGwAcAB0AHgAfACAAIQAiACMAJAAlACYAJwAoACkAKgArACwALQAuAC8AMAAxADIAMwA0ADUANgA3ADgAOQA6ADsAPAA9AD4APwBAAEEAQgBDAEQARQBGAEcASABJAEoASwBMAE0ATgBPAFAAUQBSAFMAVABVAFYAVwBYAFkAWgBbAFwAXQBeAF8AYABhAGIAYwBkAGUAZgBnAGgAaQBqAGsAbABtAG4AbwBwAHEAcgBzAHQAdQB2AHcAeAB5AHoAewB8AH0AfgB/AIAAgQCCAIMAhACFAIYAhwCIAIkAigCLAIwAjQCOAI8AkACRAJIAkwCUAJUAlgCXAJgAmQCaAJsAnACdAJ4AnwCgAKEAogCjAKQApQCmAKcAqACpAKoAqwCsAK0ArgCvALAAsQCyALMAtAC1ALYAtwC4ALkAugC7ALwAvQC+AL8AwADBAMIAwwDEAMUAxgDHAMgAyQDKAMsAzADNAM4AzwDQANEA0gDTANQA1QDWANcA2ADZANoA2wDcAN0A3gDfAOAA4QDiAOMA5ADlAOYA5wDoAOkA6gDrAOwA7QDuAO8A8ADxAPIA8wD0APUA9gD3APgA+QD6APsA/AD9AP4A/wAAAQEBAgEDAQQBBQEGAQcBCAEJAQoBCwEMAQ0BDgEPARABEQE=",
          "dtype": "i2"
         },
         "y": [
          1460.8,
          2194.8,
          1437.5,
          1451.5,
          1474.9,
          1465.5,
          1491.2,
          1484.2,
          1533.3,
          1472.5,
          1453.8,
          1463.2,
          1453.8,
          1453.8,
          1477.2,
          1477.2,
          1458.5,
          1486.6,
          1460.8,
          1449.2,
          1477.2,
          1444.5,
          1481.9,
          1425.8,
          1430.5,
          1472.5,
          1474.9,
          1470.2,
          1456.2,
          1479.5,
          1465.5,
          1484.2,
          1449.2,
          2150.4,
          1491.2,
          1463.2,
          1460.8,
          1488.9,
          1449.2,
          1507.6,
          1465.5,
          1467.9,
          1430.5,
          1456.2,
          1444.5,
          1465.5,
          1444.5,
          1463.2,
          1474.9,
          1439.8,
          1460.8,
          1439.8,
          1479.5,
          1446.8,
          1437.5,
          2173.7,
          1449.2,
          1442.1,
          1479.5,
          1453.8,
          1472.5,
          1451.5,
          1437.5,
          1460.8,
          1460.8,
          1465.5,
          1449.2,
          1488.9,
          1479.5,
          1486.6,
          1481.9,
          1439.8,
          1449.2,
          1458.5,
          1467.9,
          1451.5,
          1432.8,
          1465.5,
          1481.9,
          1446.8,
          1456.2,
          1451.5,
          1484.2,
          1484.2,
          1446.8,
          1467.9,
          1474.9,
          1481.9,
          1458.5,
          1486.6,
          1456.2,
          1439.8,
          2176.1,
          1470.2,
          1446.8,
          1460.8,
          1477.2,
          1474.9,
          1493.6,
          1500.6,
          1451.5,
          1442.1,
          1449.2,
          1460.8,
          1470.2,
          1477.2,
          1481.9,
          1474.9,
          1456.2,
          1486.6,
          2169.1,
          1435.1,
          1444.5,
          2194.8,
          1456.2,
          1453.8,
          1477.2,
          1491.2,
          1460.8,
          1432.8,
          1474.9,
          1435.1,
          2166.7,
          1453.8,
          1449.2,
          1479.5,
          1456.2,
          1470.2,
          1479.5,
          1456.2,
          1449.2,
          1442.1,
          1479.5,
          1449.2,
          1491.2,
          1484.2,
          1470.2,
          1421.1,
          1425.8,
          1458.5,
          1449.2,
          1439.8,
          1479.5,
          1435.1,
          1486.6,
          1493.6,
          1465.5,
          1472.5,
          1477.2,
          1500.6,
          1481.9,
          1442.1,
          1488.9,
          1477.2,
          1442.1,
          1453.8,
          1456.2,
          1463.2,
          1491.2,
          1479.5,
          1449.2,
          1509.9,
          2131.7,
          1479.5,
          1458.5,
          1446.8,
          1474.9,
          1439.8,
          1446.8,
          1481.9,
          1488.9,
          1484.2,
          2166.7,
          1442.1,
          1491.2,
          1477.2,
          2213.5,
          1460.8,
          1481.9,
          1432.8,
          1477.2,
          1474.9,
          1484.2,
          2155,
          1428.1,
          1467.9,
          1495.9,
          1444.5,
          2162,
          1467.9,
          1460.8,
          1458.5,
          1451.5,
          1493.6,
          1432.8,
          1446.8,
          1460.8,
          1444.5,
          1465.5,
          1488.9,
          1500.6,
          1449.2,
          1453.8,
          1451.5,
          1446.8,
          1430.5,
          1474.9,
          1472.5,
          1484.2,
          1451.5,
          1451.5,
          1472.5,
          1453.8,
          1465.5,
          1481.9,
          1472.5,
          1467.9,
          1470.2,
          1474.9,
          1451.5,
          1430.5,
          1437.5,
          1432.8,
          1446.8,
          1467.9,
          1458.5,
          1488.9,
          1456.2,
          1477.2,
          1453.8,
          1442.1,
          1481.9,
          1465.5,
          1451.5,
          1467.9,
          1470.2,
          1451.5,
          1453.8,
          1456.2,
          1481.9,
          1437.5,
          1495.9,
          1474.9,
          1446.8,
          1474.9,
          1479.5,
          1472.5,
          1474.9,
          1484.2,
          1439.8,
          1453.8,
          1439.8,
          1442.1,
          1458.5,
          1451.5,
          1481.9,
          1484.2,
          1486.6,
          1470.2,
          1463.2,
          1435.1,
          1444.5,
          1437.5,
          1463.2,
          1456.2,
          1458.5,
          1460.8,
          1488.9,
          1484.2,
          1458.5,
          1467.9,
          1458.5,
          1477.2,
          1444.5
         ]
        },
        {
         "line": {
          "color": "blue",
          "width": 2
         },
         "marker": {
          "color": "blue"
         },
         "mode": "lines+markers",
         "name": "FPull_5d_310MPa",
         "type": "scatter",
         "x": {
          "bdata": "AAABAAIAAwAEAAUABgAHAAgACQAKAAsADAANAA4ADwAQABEAEgATABQAFQAWABcAGAAZABoAGwAcAB0AHgAfACAAIQAiACMAJAAlACYAJwAoACkAKgArACwALQAuAC8AMAAxADIAMwA0ADUANgA3ADgAOQA6ADsAPAA9AD4APwBAAEEAQgBDAEQARQBGAEcASABJAEoASwBMAE0ATgBPAFAAUQBSAFMAVABVAFYAVwBYAFkAWgBbAFwAXQBeAF8AYABhAGIAYwBkAGUAZgBnAGgAaQBqAGsAbABtAG4AbwBwAHEAcgBzAHQAdQB2AHcAeAB5AHoAewB8AH0AfgB/AIAAgQCCAIMAhACFAIYAhwCIAIkAigCLAIwAjQCOAI8AkACRAJIAkwCUAJUAlgCXAJgAmQCaAJsAnACdAJ4AnwCgAKEAogCjAKQApQCmAKcAqACpAKoAqwCsAK0ArgCvALAAsQCyALMAtAC1ALYAtwC4ALkAugC7ALwAvQC+AL8AwADBAMIAwwDEAMUAxgDHAMgAyQDKAMsAzADNAM4AzwDQANEA0gDTANQA1QDWANcA2ADZANoA2wDcAN0A3gDfAOAA4QDiAOMA5ADlAOYA5wDoAOkA6gDrAOwA7QDuAO8A8ADxAPIA8wD0APUA9gD3APgA+QD6APsA/AD9AP4A/wAAAQEBAgEDAQQBBQEGAQcBCAEJAQoBCwEMAQ0BDgEPARABEQE=",
          "dtype": "i2"
         },
         "y": [
          2282.6,
          3429.3,
          2246,
          2268,
          2304.5,
          2289.9,
          2330,
          2319.1,
          2395.8,
          2300.8,
          2271.6,
          2286.2,
          2271.6,
          2271.6,
          2308.1,
          2308.1,
          2278.9,
          2322.7,
          2282.6,
          2264.3,
          2308.1,
          2257,
          2315.4,
          2227.8,
          2235.1,
          2300.8,
          2304.5,
          2297.2,
          2275.3,
          2311.8,
          2289.9,
          2319.1,
          2264.3,
          3359.9,
          2330,
          2286.2,
          2282.6,
          2326.4,
          2264.3,
          2355.6,
          2289.9,
          2293.5,
          2235.1,
          2275.3,
          2257,
          2289.9,
          2257,
          2286.2,
          2304.5,
          2249.7,
          2282.6,
          2249.7,
          2311.8,
          2260.7,
          2246,
          3396.5,
          2264.3,
          2253.3,
          2311.8,
          2271.6,
          2300.8,
          2268,
          2246,
          2282.6,
          2282.6,
          2289.9,
          2264.3,
          2326.4,
          2311.8,
          2322.7,
          2315.4,
          2249.7,
          2264.3,
          2278.9,
          2293.5,
          2268,
          2238.7,
          2289.9,
          2315.4,
          2260.7,
          2275.3,
          2268,
          2319.1,
          2319.1,
          2260.7,
          2293.5,
          2304.5,
          2315.4,
          2278.9,
          2322.7,
          2275.3,
          2249.7,
          3400.1,
          2297.2,
          2260.7,
          2282.6,
          2308.1,
          2304.5,
          2333.7,
          2344.6,
          2268,
          2253.3,
          2264.3,
          2282.6,
          2297.2,
          2308.1,
          2315.4,
          2304.5,
          2275.3,
          2322.7,
          3389.2,
          2242.4,
          2257,
          3429.3,
          2275.3,
          2271.6,
          2308.1,
          2330,
          2282.6,
          2238.7,
          2304.5,
          2242.4,
          3385.5,
          2271.6,
          2264.3,
          2311.8,
          2275.3,
          2297.2,
          2311.8,
          2275.3,
          2264.3,
          2253.3,
          2311.8,
          2264.3,
          2330,
          2319.1,
          2297.2,
          2220.5,
          2227.8,
          2278.9,
          2264.3,
          2249.7,
          2311.8,
          2242.4,
          2322.7,
          2333.7,
          2289.9,
          2300.8,
          2308.1,
          2344.6,
          2315.4,
          2253.3,
          2326.4,
          2308.1,
          2253.3,
          2271.6,
          2275.3,
          2286.2,
          2330,
          2311.8,
          2264.3,
          2359.3,
          3330.7,
          2311.8,
          2278.9,
          2260.7,
          2304.5,
          2249.7,
          2260.7,
          2315.4,
          2326.4,
          2319.1,
          3385.5,
          2253.3,
          2330,
          2308.1,
          3458.5,
          2282.6,
          2315.4,
          2238.7,
          2308.1,
          2304.5,
          2319.1,
          3367.2,
          2231.4,
          2293.5,
          2337.3,
          2257,
          3378.2,
          2293.5,
          2282.6,
          2278.9,
          2268,
          2333.7,
          2238.7,
          2260.7,
          2282.6,
          2257,
          2289.9,
          2326.4,
          2344.6,
          2264.3,
          2271.6,
          2268,
          2260.7,
          2235.1,
          2304.5,
          2300.8,
          2319.1,
          2268,
          2268,
          2300.8,
          2271.6,
          2289.9,
          2315.4,
          2300.8,
          2293.5,
          2297.2,
          2304.5,
          2268,
          2235.1,
          2246,
          2238.7,
          2260.7,
          2293.5,
          2278.9,
          2326.4,
          2275.3,
          2308.1,
          2271.6,
          2253.3,
          2315.4,
          2289.9,
          2268,
          2293.5,
          2297.2,
          2268,
          2271.6,
          2275.3,
          2315.4,
          2246,
          2337.3,
          2304.5,
          2260.7,
          2304.5,
          2311.8,
          2300.8,
          2304.5,
          2319.1,
          2249.7,
          2271.6,
          2249.7,
          2253.3,
          2278.9,
          2268,
          2315.4,
          2319.1,
          2322.7,
          2297.2,
          2286.2,
          2242.4,
          2257,
          2246,
          2286.2,
          2275.3,
          2278.9,
          2282.6,
          2326.4,
          2319.1,
          2278.9,
          2293.5,
          2278.9,
          2308.1,
          2257
         ]
        },
        {
         "line": {
          "color": "lightgreen",
          "width": 2
         },
         "marker": {
          "color": "lightgreen"
         },
         "mode": "lines+markers",
         "name": "FPull_4d_365MPa",
         "type": "scatter",
         "x": {
          "bdata": "AAABAAIAAwAEAAUABgAHAAgACQAKAAsADAANAA4ADwAQABEAEgATABQAFQAWABcAGAAZABoAGwAcAB0AHgAfACAAIQAiACMAJAAlACYAJwAoACkAKgArACwALQAuAC8AMAAxADIAMwA0ADUANgA3ADgAOQA6ADsAPAA9AD4APwBAAEEAQgBDAEQARQBGAEcASABJAEoASwBMAE0ATgBPAFAAUQBSAFMAVABVAFYAVwBYAFkAWgBbAFwAXQBeAF8AYABhAGIAYwBkAGUAZgBnAGgAaQBqAGsAbABtAG4AbwBwAHEAcgBzAHQAdQB2AHcAeAB5AHoAewB8AH0AfgB/AIAAgQCCAIMAhACFAIYAhwCIAIkAigCLAIwAjQCOAI8AkACRAJIAkwCUAJUAlgCXAJgAmQCaAJsAnACdAJ4AnwCgAKEAogCjAKQApQCmAKcAqACpAKoAqwCsAK0ArgCvALAAsQCyALMAtAC1ALYAtwC4ALkAugC7ALwAvQC+AL8AwADBAMIAwwDEAMUAxgDHAMgAyQDKAMsAzADNAM4AzwDQANEA0gDTANQA1QDWANcA2ADZANoA2wDcAN0A3gDfAOAA4QDiAOMA5ADlAOYA5wDoAOkA6gDrAOwA7QDuAO8A8ADxAPIA8wD0APUA9gD3APgA+QD6APsA/AD9AP4A/wAAAQEBAgEDAQQBBQEGAQcBCAEJAQoBCwEMAQ0BDgEPARABEQE=",
          "dtype": "i2"
         },
         "y": [
          1720,
          2584.2,
          1692.5,
          1709,
          1736.5,
          1725.5,
          1755.8,
          1747.5,
          1805.3,
          1733.8,
          1711.8,
          1722.8,
          1711.8,
          1711.8,
          1739.3,
          1739.3,
          1717.3,
          1750.3,
          1720,
          1706.3,
          1739.3,
          1700.8,
          1744.8,
          1678.7,
          1684.2,
          1733.8,
          1736.5,
          1731,
          1714.5,
          1742,
          1725.5,
          1747.5,
          1706.3,
          2531.9,
          1755.8,
          1722.8,
          1720,
          1753,
          1706.3,
          1775.1,
          1725.5,
          1728.3,
          1684.2,
          1714.5,
          1700.8,
          1725.5,
          1700.8,
          1722.8,
          1736.5,
          1695.3,
          1720,
          1695.3,
          1742,
          1703.5,
          1692.5,
          2559.4,
          1706.3,
          1698,
          1742,
          1711.8,
          1733.8,
          1709,
          1692.5,
          1720,
          1720,
          1725.5,
          1706.3,
          1753,
          1742,
          1750.3,
          1744.8,
          1695.3,
          1706.3,
          1717.3,
          1728.3,
          1709,
          1687,
          1725.5,
          1744.8,
          1703.5,
          1714.5,
          1709,
          1747.5,
          1747.5,
          1703.5,
          1728.3,
          1736.5,
          1744.8,
          1717.3,
          1750.3,
          1714.5,
          1695.3,
          2562.1,
          1731,
          1703.5,
          1720,
          1739.3,
          1736.5,
          1758.6,
          1766.8,
          1709,
          1698,
          1706.3,
          1720,
          1731,
          1739.3,
          1744.8,
          1736.5,
          1714.5,
          1750.3,
          2553.9,
          1689.7,
          1700.8,
          2584.2,
          1714.5,
          1711.8,
          1739.3,
          1755.8,
          1720,
          1687,
          1736.5,
          1689.7,
          2551.1,
          1711.8,
          1706.3,
          1742,
          1714.5,
          1731,
          1742,
          1714.5,
          1706.3,
          1698,
          1742,
          1706.3,
          1755.8,
          1747.5,
          1731,
          1673.2,
          1678.7,
          1717.3,
          1706.3,
          1695.3,
          1742,
          1689.7,
          1750.3,
          1758.6,
          1725.5,
          1733.8,
          1739.3,
          1766.8,
          1744.8,
          1698,
          1753,
          1739.3,
          1698,
          1711.8,
          1714.5,
          1722.8,
          1755.8,
          1742,
          1706.3,
          1777.8,
          2509.9,
          1742,
          1717.3,
          1703.5,
          1736.5,
          1695.3,
          1703.5,
          1744.8,
          1753,
          1747.5,
          2551.1,
          1698,
          1755.8,
          1739.3,
          2606.2,
          1720,
          1744.8,
          1687,
          1739.3,
          1736.5,
          1747.5,
          2537.4,
          1681.5,
          1728.3,
          1761.3,
          1700.8,
          2545.6,
          1728.3,
          1720,
          1717.3,
          1709,
          1758.6,
          1687,
          1703.5,
          1720,
          1700.8,
          1725.5,
          1753,
          1766.8,
          1706.3,
          1711.8,
          1709,
          1703.5,
          1684.2,
          1736.5,
          1733.8,
          1747.5,
          1709,
          1709,
          1733.8,
          1711.8,
          1725.5,
          1744.8,
          1733.8,
          1728.3,
          1731,
          1736.5,
          1709,
          1684.2,
          1692.5,
          1687,
          1703.5,
          1728.3,
          1717.3,
          1753,
          1714.5,
          1739.3,
          1711.8,
          1698,
          1744.8,
          1725.5,
          1709,
          1728.3,
          1731,
          1709,
          1711.8,
          1714.5,
          1744.8,
          1692.5,
          1761.3,
          1736.5,
          1703.5,
          1736.5,
          1742,
          1733.8,
          1736.5,
          1747.5,
          1695.3,
          1711.8,
          1695.3,
          1698,
          1717.3,
          1709,
          1744.8,
          1747.5,
          1750.3,
          1731,
          1722.8,
          1689.7,
          1700.8,
          1692.5,
          1722.8,
          1714.5,
          1717.3,
          1720,
          1753,
          1747.5,
          1717.3,
          1728.3,
          1717.3,
          1739.3,
          1700.8
         ]
        },
        {
         "line": {
          "color": "green",
          "width": 2
         },
         "marker": {
          "color": "green"
         },
         "mode": "lines+markers",
         "name": "FPull_5d_365MPa",
         "type": "scatter",
         "x": {
          "bdata": "AAABAAIAAwAEAAUABgAHAAgACQAKAAsADAANAA4ADwAQABEAEgATABQAFQAWABcAGAAZABoAGwAcAB0AHgAfACAAIQAiACMAJAAlACYAJwAoACkAKgArACwALQAuAC8AMAAxADIAMwA0ADUANgA3ADgAOQA6ADsAPAA9AD4APwBAAEEAQgBDAEQARQBGAEcASABJAEoASwBMAE0ATgBPAFAAUQBSAFMAVABVAFYAVwBYAFkAWgBbAFwAXQBeAF8AYABhAGIAYwBkAGUAZgBnAGgAaQBqAGsAbABtAG4AbwBwAHEAcgBzAHQAdQB2AHcAeAB5AHoAewB8AH0AfgB/AIAAgQCCAIMAhACFAIYAhwCIAIkAigCLAIwAjQCOAI8AkACRAJIAkwCUAJUAlgCXAJgAmQCaAJsAnACdAJ4AnwCgAKEAogCjAKQApQCmAKcAqACpAKoAqwCsAK0ArgCvALAAsQCyALMAtAC1ALYAtwC4ALkAugC7ALwAvQC+AL8AwADBAMIAwwDEAMUAxgDHAMgAyQDKAMsAzADNAM4AzwDQANEA0gDTANQA1QDWANcA2ADZANoA2wDcAN0A3gDfAOAA4QDiAOMA5ADlAOYA5wDoAOkA6gDrAOwA7QDuAO8A8ADxAPIA8wD0APUA9gD3APgA+QD6APsA/AD9AP4A/wAAAQEBAgEDAQQBBQEGAQcBCAEJAQoBCwEMAQ0BDgEPARABEQE=",
          "dtype": "i2"
         },
         "y": [
          3135.5,
          4710.7,
          3085.3,
          3115.4,
          3165.6,
          3145.5,
          3200.7,
          3185.6,
          3291,
          3160.5,
          3120.4,
          3140.5,
          3120.4,
          3120.4,
          3170.6,
          3170.6,
          3130.4,
          3190.6,
          3135.5,
          3110.4,
          3170.6,
          3100.3,
          3180.6,
          3060.2,
          3070.2,
          3160.5,
          3165.6,
          3155.5,
          3125.4,
          3175.6,
          3145.5,
          3185.6,
          3110.4,
          4615.4,
          3200.7,
          3140.5,
          3135.5,
          3195.7,
          3110.4,
          3235.8,
          3145.5,
          3150.5,
          3070.2,
          3125.4,
          3100.3,
          3145.5,
          3100.3,
          3140.5,
          3165.6,
          3090.3,
          3135.5,
          3090.3,
          3175.6,
          3105.4,
          3085.3,
          4665.6,
          3110.4,
          3095.3,
          3175.6,
          3120.4,
          3160.5,
          3115.4,
          3085.3,
          3135.5,
          3135.5,
          3145.5,
          3110.4,
          3195.7,
          3175.6,
          3190.6,
          3180.6,
          3090.3,
          3110.4,
          3130.4,
          3150.5,
          3115.4,
          3075.3,
          3145.5,
          3180.6,
          3105.4,
          3125.4,
          3115.4,
          3185.6,
          3185.6,
          3105.4,
          3150.5,
          3165.6,
          3180.6,
          3130.4,
          3190.6,
          3125.4,
          3090.3,
          4670.6,
          3155.5,
          3105.4,
          3135.5,
          3170.6,
          3165.6,
          3205.7,
          3220.7,
          3115.4,
          3095.3,
          3110.4,
          3135.5,
          3155.5,
          3170.6,
          3180.6,
          3165.6,
          3125.4,
          3190.6,
          4655.5,
          3080.3,
          3100.3,
          4710.7,
          3125.4,
          3120.4,
          3170.6,
          3200.7,
          3135.5,
          3075.3,
          3165.6,
          3080.3,
          4650.5,
          3120.4,
          3110.4,
          3175.6,
          3125.4,
          3155.5,
          3175.6,
          3125.4,
          3110.4,
          3095.3,
          3175.6,
          3110.4,
          3200.7,
          3185.6,
          3155.5,
          3050.2,
          3060.2,
          3130.4,
          3110.4,
          3090.3,
          3175.6,
          3080.3,
          3190.6,
          3205.7,
          3145.5,
          3160.5,
          3170.6,
          3220.7,
          3180.6,
          3095.3,
          3195.7,
          3170.6,
          3095.3,
          3120.4,
          3125.4,
          3140.5,
          3200.7,
          3175.6,
          3110.4,
          3240.8,
          4575.3,
          3175.6,
          3130.4,
          3105.4,
          3165.6,
          3090.3,
          3105.4,
          3180.6,
          3195.7,
          3185.6,
          4650.5,
          3095.3,
          3200.7,
          3170.6,
          4750.8,
          3135.5,
          3180.6,
          3075.3,
          3170.6,
          3165.6,
          3185.6,
          4625.4,
          3065.2,
          3150.5,
          3210.7,
          3100.3,
          4640.5,
          3150.5,
          3135.5,
          3130.4,
          3115.4,
          3205.7,
          3075.3,
          3105.4,
          3135.5,
          3100.3,
          3145.5,
          3195.7,
          3220.7,
          3110.4,
          3120.4,
          3115.4,
          3105.4,
          3070.2,
          3165.6,
          3160.5,
          3185.6,
          3115.4,
          3115.4,
          3160.5,
          3120.4,
          3145.5,
          3180.6,
          3160.5,
          3150.5,
          3155.5,
          3165.6,
          3115.4,
          3070.2,
          3085.3,
          3075.3,
          3105.4,
          3150.5,
          3130.4,
          3195.7,
          3125.4,
          3170.6,
          3120.4,
          3095.3,
          3180.6,
          3145.5,
          3115.4,
          3150.5,
          3155.5,
          3115.4,
          3120.4,
          3125.4,
          3180.6,
          3085.3,
          3210.7,
          3165.6,
          3105.4,
          3165.6,
          3175.6,
          3160.5,
          3165.6,
          3185.6,
          3090.3,
          3120.4,
          3090.3,
          3095.3,
          3130.4,
          3115.4,
          3180.6,
          3185.6,
          3190.6,
          3155.5,
          3140.5,
          3080.3,
          3100.3,
          3085.3,
          3140.5,
          3125.4,
          3130.4,
          3135.5,
          3195.7,
          3185.6,
          3130.4,
          3150.5,
          3130.4,
          3170.6,
          3100.3
         ]
        },
        {
         "line": {
          "color": "lightcoral",
          "width": 2
         },
         "marker": {
          "color": "lightcoral"
         },
         "mode": "lines+markers",
         "name": "FPull_4d_440MPa",
         "type": "scatter",
         "x": {
          "bdata": "AAABAAIAAwAEAAUABgAHAAgACQAKAAsADAANAA4ADwAQABEAEgATABQAFQAWABcAGAAZABoAGwAcAB0AHgAfACAAIQAiACMAJAAlACYAJwAoACkAKgArACwALQAuAC8AMAAxADIAMwA0ADUANgA3ADgAOQA6ADsAPAA9AD4APwBAAEEAQgBDAEQARQBGAEcASABJAEoASwBMAE0ATgBPAFAAUQBSAFMAVABVAFYAVwBYAFkAWgBbAFwAXQBeAF8AYABhAGIAYwBkAGUAZgBnAGgAaQBqAGsAbABtAG4AbwBwAHEAcgBzAHQAdQB2AHcAeAB5AHoAewB8AH0AfgB/AIAAgQCCAIMAhACFAIYAhwCIAIkAigCLAIwAjQCOAI8AkACRAJIAkwCUAJUAlgCXAJgAmQCaAJsAnACdAJ4AnwCgAKEAogCjAKQApQCmAKcAqACpAKoAqwCsAK0ArgCvALAAsQCyALMAtAC1ALYAtwC4ALkAugC7ALwAvQC+AL8AwADBAMIAwwDEAMUAxgDHAMgAyQDKAMsAzADNAM4AzwDQANEA0gDTANQA1QDWANcA2ADZANoA2wDcAN0A3gDfAOAA4QDiAOMA5ADlAOYA5wDoAOkA6gDrAOwA7QDuAO8A8ADxAPIA8wD0APUA9gD3APgA+QD6APsA/AD9AP4A/wAAAQEBAgEDAQQBBQEGAQcBCAEJAQoBCwEMAQ0BDgEPARABEQE=",
          "dtype": "i2"
         },
         "y": [
          2073.5,
          3115.2,
          2040.3,
          2060.2,
          2093.4,
          2080.1,
          2116.6,
          2106.6,
          2176.3,
          2090,
          2063.5,
          2076.8,
          2063.5,
          2063.5,
          2096.7,
          2096.7,
          2070.1,
          2109.9,
          2073.5,
          2056.9,
          2096.7,
          2050.2,
          2103.3,
          2023.7,
          2030.3,
          2090,
          2093.4,
          2086.7,
          2066.8,
          2100,
          2080.1,
          2106.6,
          2056.9,
          3052.1,
          2116.6,
          2076.8,
          2073.5,
          2113.3,
          2056.9,
          2139.8,
          2080.1,
          2083.4,
          2030.3,
          2066.8,
          2050.2,
          2080.1,
          2050.2,
          2076.8,
          2093.4,
          2043.6,
          2073.5,
          2043.6,
          2100,
          2053.5,
          2040.3,
          3085.3,
          2056.9,
          2046.9,
          2100,
          2063.5,
          2090,
          2060.2,
          2040.3,
          2073.5,
          2073.5,
          2080.1,
          2056.9,
          2113.3,
          2100,
          2109.9,
          2103.3,
          2043.6,
          2056.9,
          2070.1,
          2083.4,
          2060.2,
          2033.6,
          2080.1,
          2103.3,
          2053.5,
          2066.8,
          2060.2,
          2106.6,
          2106.6,
          2053.5,
          2083.4,
          2093.4,
          2103.3,
          2070.1,
          2109.9,
          2066.8,
          2043.6,
          3088.6,
          2086.7,
          2053.5,
          2073.5,
          2096.7,
          2093.4,
          2119.9,
          2129.8,
          2060.2,
          2046.9,
          2056.9,
          2073.5,
          2086.7,
          2096.7,
          2103.3,
          2093.4,
          2066.8,
          2109.9,
          3078.7,
          2037,
          2050.2,
          3115.2,
          2066.8,
          2063.5,
          2096.7,
          2116.6,
          2073.5,
          2033.6,
          2093.4,
          2037,
          3075.3,
          2063.5,
          2056.9,
          2100,
          2066.8,
          2086.7,
          2100,
          2066.8,
          2056.9,
          2046.9,
          2100,
          2056.9,
          2116.6,
          2106.6,
          2086.7,
          2017.1,
          2023.7,
          2070.1,
          2056.9,
          2043.6,
          2100,
          2037,
          2109.9,
          2119.9,
          2080.1,
          2090,
          2096.7,
          2129.8,
          2103.3,
          2046.9,
          2113.3,
          2096.7,
          2046.9,
          2063.5,
          2066.8,
          2076.8,
          2116.6,
          2100,
          2056.9,
          2143.1,
          3025.6,
          2100,
          2070.1,
          2053.5,
          2093.4,
          2043.6,
          2053.5,
          2103.3,
          2113.3,
          2106.6,
          3075.3,
          2046.9,
          2116.6,
          2096.7,
          3141.7,
          2073.5,
          2103.3,
          2033.6,
          2096.7,
          2093.4,
          2106.6,
          3058.8,
          2027,
          2083.4,
          2123.2,
          2050.2,
          3068.7,
          2083.4,
          2073.5,
          2070.1,
          2060.2,
          2119.9,
          2033.6,
          2053.5,
          2073.5,
          2050.2,
          2080.1,
          2113.3,
          2129.8,
          2056.9,
          2063.5,
          2060.2,
          2053.5,
          2030.3,
          2093.4,
          2090,
          2106.6,
          2060.2,
          2060.2,
          2090,
          2063.5,
          2080.1,
          2103.3,
          2090,
          2083.4,
          2086.7,
          2093.4,
          2060.2,
          2030.3,
          2040.3,
          2033.6,
          2053.5,
          2083.4,
          2070.1,
          2113.3,
          2066.8,
          2096.7,
          2063.5,
          2046.9,
          2103.3,
          2080.1,
          2060.2,
          2083.4,
          2086.7,
          2060.2,
          2063.5,
          2066.8,
          2103.3,
          2040.3,
          2123.2,
          2093.4,
          2053.5,
          2093.4,
          2100,
          2090,
          2093.4,
          2106.6,
          2043.6,
          2063.5,
          2043.6,
          2046.9,
          2070.1,
          2060.2,
          2103.3,
          2106.6,
          2109.9,
          2086.7,
          2076.8,
          2037,
          2050.2,
          2040.3,
          2076.8,
          2066.8,
          2070.1,
          2073.5,
          2113.3,
          2106.6,
          2070.1,
          2083.4,
          2070.1,
          2096.7,
          2050.2
         ]
        },
        {
         "line": {
          "color": "red",
          "width": 2
         },
         "marker": {
          "color": "red"
         },
         "mode": "lines+markers",
         "name": "FPull_5d_440MPa",
         "type": "scatter",
         "x": {
          "bdata": "AAABAAIAAwAEAAUABgAHAAgACQAKAAsADAANAA4ADwAQABEAEgATABQAFQAWABcAGAAZABoAGwAcAB0AHgAfACAAIQAiACMAJAAlACYAJwAoACkAKgArACwALQAuAC8AMAAxADIAMwA0ADUANgA3ADgAOQA6ADsAPAA9AD4APwBAAEEAQgBDAEQARQBGAEcASABJAEoASwBMAE0ATgBPAFAAUQBSAFMAVABVAFYAVwBYAFkAWgBbAFwAXQBeAF8AYABhAGIAYwBkAGUAZgBnAGgAaQBqAGsAbABtAG4AbwBwAHEAcgBzAHQAdQB2AHcAeAB5AHoAewB8AH0AfgB/AIAAgQCCAIMAhACFAIYAhwCIAIkAigCLAIwAjQCOAI8AkACRAJIAkwCUAJUAlgCXAJgAmQCaAJsAnACdAJ4AnwCgAKEAogCjAKQApQCmAKcAqACpAKoAqwCsAK0ArgCvALAAsQCyALMAtAC1ALYAtwC4ALkAugC7ALwAvQC+AL8AwADBAMIAwwDEAMUAxgDHAMgAyQDKAMsAzADNAM4AzwDQANEA0gDTANQA1QDWANcA2ADZANoA2wDcAN0A3gDfAOAA4QDiAOMA5ADlAOYA5wDoAOkA6gDrAOwA7QDuAO8A8ADxAPIA8wD0APUA9gD3APgA+QD6APsA/AD9AP4A/wAAAQEBAgEDAQQBBQEGAQcBCAEJAQoBCwEMAQ0BDgEPARABEQE=",
          "dtype": "i2"
         },
         "y": [
          3239.8,
          4867.4,
          3187.9,
          3219,
          3270.9,
          3250.1,
          3307.2,
          3291.6,
          3400.5,
          3265.7,
          3224.2,
          3245,
          3224.2,
          3224.2,
          3276.1,
          3276.1,
          3234.6,
          3296.8,
          3239.8,
          3213.8,
          3276.1,
          3203.5,
          3286.4,
          3162,
          3172.4,
          3265.7,
          3270.9,
          3260.5,
          3229.4,
          3281.2,
          3250.1,
          3291.6,
          3213.8,
          4768.9,
          3307.2,
          3245,
          3239.8,
          3302,
          3213.8,
          3343.4,
          3250.1,
          3255.3,
          3172.4,
          3229.4,
          3203.5,
          3250.1,
          3203.5,
          3245,
          3270.9,
          3193.1,
          3239.8,
          3193.1,
          3281.2,
          3208.7,
          3187.9,
          4820.8,
          3213.8,
          3198.3,
          3281.2,
          3224.2,
          3265.7,
          3219,
          3187.9,
          3239.8,
          3239.8,
          3250.1,
          3213.8,
          3302,
          3281.2,
          3296.8,
          3286.4,
          3193.1,
          3213.8,
          3234.6,
          3255.3,
          3219,
          3177.6,
          3250.1,
          3286.4,
          3208.7,
          3229.4,
          3219,
          3291.6,
          3291.6,
          3208.7,
          3255.3,
          3270.9,
          3286.4,
          3234.6,
          3296.8,
          3229.4,
          3193.1,
          4826,
          3260.5,
          3208.7,
          3239.8,
          3276.1,
          3270.9,
          3312.3,
          3327.9,
          3219,
          3198.3,
          3213.8,
          3239.8,
          3260.5,
          3276.1,
          3286.4,
          3270.9,
          3229.4,
          3296.8,
          4810.4,
          3182.7,
          3203.5,
          4867.4,
          3229.4,
          3224.2,
          3276.1,
          3307.2,
          3239.8,
          3177.6,
          3270.9,
          3182.7,
          4805.2,
          3224.2,
          3213.8,
          3281.2,
          3229.4,
          3260.5,
          3281.2,
          3229.4,
          3213.8,
          3198.3,
          3281.2,
          3213.8,
          3307.2,
          3291.6,
          3260.5,
          3151.6,
          3162,
          3234.6,
          3213.8,
          3193.1,
          3281.2,
          3182.7,
          3296.8,
          3312.3,
          3250.1,
          3265.7,
          3276.1,
          3327.9,
          3286.4,
          3198.3,
          3302,
          3276.1,
          3198.3,
          3224.2,
          3229.4,
          3245,
          3307.2,
          3281.2,
          3213.8,
          3348.6,
          4727.5,
          3281.2,
          3234.6,
          3208.7,
          3270.9,
          3193.1,
          3208.7,
          3286.4,
          3302,
          3291.6,
          4805.2,
          3198.3,
          3307.2,
          3276.1,
          4908.9,
          3239.8,
          3286.4,
          3177.6,
          3276.1,
          3270.9,
          3291.6,
          4779.3,
          3167.2,
          3255.3,
          3317.5,
          3203.5,
          4794.9,
          3255.3,
          3239.8,
          3234.6,
          3219,
          3312.3,
          3177.6,
          3208.7,
          3239.8,
          3203.5,
          3250.1,
          3302,
          3327.9,
          3213.8,
          3224.2,
          3219,
          3208.7,
          3172.4,
          3270.9,
          3265.7,
          3291.6,
          3219,
          3219,
          3265.7,
          3224.2,
          3250.1,
          3286.4,
          3265.7,
          3255.3,
          3260.5,
          3270.9,
          3219,
          3172.4,
          3187.9,
          3177.6,
          3208.7,
          3255.3,
          3234.6,
          3302,
          3229.4,
          3276.1,
          3224.2,
          3198.3,
          3286.4,
          3250.1,
          3219,
          3255.3,
          3260.5,
          3219,
          3224.2,
          3229.4,
          3286.4,
          3187.9,
          3317.5,
          3270.9,
          3208.7,
          3270.9,
          3281.2,
          3265.7,
          3270.9,
          3291.6,
          3193.1,
          3224.2,
          3193.1,
          3198.3,
          3234.6,
          3219,
          3286.4,
          3291.6,
          3296.8,
          3260.5,
          3245,
          3182.7,
          3203.5,
          3187.9,
          3245,
          3229.4,
          3234.6,
          3239.8,
          3302,
          3291.6,
          3234.6,
          3255.3,
          3234.6,
          3276.1,
          3203.5
         ]
        },
        {
         "line": {
          "color": "grey",
          "dash": "dash",
          "width": 2
         },
         "marker": {
          "color": "grey",
          "size": 4
         },
         "mode": "lines+markers",
         "name": "PullTest (N)",
         "type": "scatter",
         "x": {
          "bdata": "AAABAAIAAwAEAAUABgAHAAgACQAKAAsADAANAA4ADwAQABEAEgATABQAFQAWABcAGAAZABoAGwAcAB0AHgAfACAAIQAiACMAJAAlACYAJwAoACkAKgArACwALQAuAC8AMAAxADIAMwA0ADUANgA3ADgAOQA6ADsAPAA9AD4APwBAAEEAQgBDAEQARQBGAEcASABJAEoASwBMAE0ATgBPAFAAUQBSAFMAVABVAFYAVwBYAFkAWgBbAFwAXQBeAF8AYABhAGIAYwBkAGUAZgBnAGgAaQBqAGsAbABtAG4AbwBwAHEAcgBzAHQAdQB2AHcAeAB5AHoAewB8AH0AfgB/AIAAgQCCAIMAhACFAIYAhwCIAIkAigCLAIwAjQCOAI8AkACRAJIAkwCUAJUAlgCXAJgAmQCaAJsAnACdAJ4AnwCgAKEAogCjAKQApQCmAKcAqACpAKoAqwCsAK0ArgCvALAAsQCyALMAtAC1ALYAtwC4ALkAugC7ALwAvQC+AL8AwADBAMIAwwDEAMUAxgDHAMgAyQDKAMsAzADNAM4AzwDQANEA0gDTANQA1QDWANcA2ADZANoA2wDcAN0A3gDfAOAA4QDiAOMA5ADlAOYA5wDoAOkA6gDrAOwA7QDuAO8A8ADxAPIA8wD0APUA9gD3APgA+QD6APsA/AD9AP4A/wAAAQEBAgEDAQQBBQEGAQcBCAEJAQoBCwEMAQ0BDgEPARABEQE=",
          "dtype": "i2"
         },
         "y": {
          "bdata": "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",
          "dtype": "f8"
         }
        },
        {
         "line": {
          "color": "black",
          "width": 2
         },
         "marker": {
          "color": "black",
          "size": 4
         },
         "mode": "lines+markers",
         "name": "NuggetDiameter (mm)",
         "type": "scatter",
         "x": {
          "bdata": "AAABAAIAAwAEAAUABgAHAAgACQAKAAsADAANAA4ADwAQABEAEgATABQAFQAWABcAGAAZABoAGwAcAB0AHgAfACAAIQAiACMAJAAlACYAJwAoACkAKgArACwALQAuAC8AMAAxADIAMwA0ADUANgA3ADgAOQA6ADsAPAA9AD4APwBAAEEAQgBDAEQARQBGAEcASABJAEoASwBMAE0ATgBPAFAAUQBSAFMAVABVAFYAVwBYAFkAWgBbAFwAXQBeAF8AYABhAGIAYwBkAGUAZgBnAGgAaQBqAGsAbABtAG4AbwBwAHEAcgBzAHQAdQB2AHcAeAB5AHoAewB8AH0AfgB/AIAAgQCCAIMAhACFAIYAhwCIAIkAigCLAIwAjQCOAI8AkACRAJIAkwCUAJUAlgCXAJgAmQCaAJsAnACdAJ4AnwCgAKEAogCjAKQApQCmAKcAqACpAKoAqwCsAK0ArgCvALAAsQCyALMAtAC1ALYAtwC4ALkAugC7ALwAvQC+AL8AwADBAMIAwwDEAMUAxgDHAMgAyQDKAMsAzADNAM4AzwDQANEA0gDTANQA1QDWANcA2ADZANoA2wDcAN0A3gDfAOAA4QDiAOMA5ADlAOYA5wDoAOkA6gDrAOwA7QDuAO8A8ADxAPIA8wD0APUA9gD3APgA+QD6APsA/AD9AP4A/wAAAQEBAgEDAQQBBQEGAQcBCAEJAQoBCwEMAQ0BDgEPARABEQE=",
          "dtype": "i2"
         },
         "y": {
          "bdata": "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",
          "dtype": "f8"
         },
         "yaxis": "y2"
        }
       ],
       "layout": {
        "legend": {
         "borderwidth": 1,
         "title": {
          "text": "Series"
         },
         "x": 1.1,
         "xanchor": "left",
         "y": 1
        },
        "margin": {
         "r": 200
        },
        "template": {
         "data": {
          "bar": [
           {
            "error_x": {
             "color": "rgb(36,36,36)"
            },
            "error_y": {
             "color": "rgb(36,36,36)"
            },
            "marker": {
             "line": {
              "color": "rgb(234,234,242)",
              "width": 0.5
             },
             "pattern": {
              "fillmode": "overlay",
              "size": 10,
              "solidity": 0.2
             }
            },
            "type": "bar"
           }
          ],
          "barpolar": [
           {
            "marker": {
             "line": {
              "color": "rgb(234,234,242)",
              "width": 0.5
             },
             "pattern": {
              "fillmode": "overlay",
              "size": 10,
              "solidity": 0.2
             }
            },
            "type": "barpolar"
           }
          ],
          "carpet": [
           {
            "aaxis": {
             "endlinecolor": "rgb(36,36,36)",
             "gridcolor": "white",
             "linecolor": "white",
             "minorgridcolor": "white",
             "startlinecolor": "rgb(36,36,36)"
            },
            "baxis": {
             "endlinecolor": "rgb(36,36,36)",
             "gridcolor": "white",
             "linecolor": "white",
             "minorgridcolor": "white",
             "startlinecolor": "rgb(36,36,36)"
            },
            "type": "carpet"
           }
          ],
          "choropleth": [
           {
            "colorbar": {
             "outlinewidth": 0,
             "tickcolor": "rgb(36,36,36)",
             "ticklen": 8,
             "ticks": "outside",
             "tickwidth": 2
            },
            "type": "choropleth"
           }
          ],
          "contour": [
           {
            "colorbar": {
             "outlinewidth": 0,
             "tickcolor": "rgb(36,36,36)",
             "ticklen": 8,
             "ticks": "outside",
             "tickwidth": 2
            },
            "colorscale": [
             [
              0,
              "rgb(2,4,25)"
             ],
             [
              0.06274509803921569,
              "rgb(24,15,41)"
             ],
             [
              0.12549019607843137,
              "rgb(47,23,57)"
             ],
             [
              0.18823529411764706,
              "rgb(71,28,72)"
             ],
             [
              0.25098039215686274,
              "rgb(97,30,82)"
             ],
             [
              0.3137254901960784,
              "rgb(123,30,89)"
             ],
             [
              0.3764705882352941,
              "rgb(150,27,91)"
             ],
             [
              0.4392156862745098,
              "rgb(177,22,88)"
             ],
             [
              0.5019607843137255,
              "rgb(203,26,79)"
             ],
             [
              0.5647058823529412,
              "rgb(223,47,67)"
             ],
             [
              0.6274509803921569,
              "rgb(236,76,61)"
             ],
             [
              0.6901960784313725,
              "rgb(242,107,73)"
             ],
             [
              0.7529411764705882,
              "rgb(244,135,95)"
             ],
             [
              0.8156862745098039,
              "rgb(245,162,122)"
             ],
             [
              0.8784313725490196,
              "rgb(246,188,153)"
             ],
             [
              0.9411764705882353,
              "rgb(247,212,187)"
             ],
             [
              1,
              "rgb(250,234,220)"
             ]
            ],
            "type": "contour"
           }
          ],
          "contourcarpet": [
           {
            "colorbar": {
             "outlinewidth": 0,
             "tickcolor": "rgb(36,36,36)",
             "ticklen": 8,
             "ticks": "outside",
             "tickwidth": 2
            },
            "type": "contourcarpet"
           }
          ],
          "heatmap": [
           {
            "colorbar": {
             "outlinewidth": 0,
             "tickcolor": "rgb(36,36,36)",
             "ticklen": 8,
             "ticks": "outside",
             "tickwidth": 2
            },
            "colorscale": [
             [
              0,
              "rgb(2,4,25)"
             ],
             [
              0.06274509803921569,
              "rgb(24,15,41)"
             ],
             [
              0.12549019607843137,
              "rgb(47,23,57)"
             ],
             [
              0.18823529411764706,
              "rgb(71,28,72)"
             ],
             [
              0.25098039215686274,
              "rgb(97,30,82)"
             ],
             [
              0.3137254901960784,
              "rgb(123,30,89)"
             ],
             [
              0.3764705882352941,
              "rgb(150,27,91)"
             ],
             [
              0.4392156862745098,
              "rgb(177,22,88)"
             ],
             [
              0.5019607843137255,
              "rgb(203,26,79)"
             ],
             [
              0.5647058823529412,
              "rgb(223,47,67)"
             ],
             [
              0.6274509803921569,
              "rgb(236,76,61)"
             ],
             [
              0.6901960784313725,
              "rgb(242,107,73)"
             ],
             [
              0.7529411764705882,
              "rgb(244,135,95)"
             ],
             [
              0.8156862745098039,
              "rgb(245,162,122)"
             ],
             [
              0.8784313725490196,
              "rgb(246,188,153)"
             ],
             [
              0.9411764705882353,
              "rgb(247,212,187)"
             ],
             [
              1,
              "rgb(250,234,220)"
             ]
            ],
            "type": "heatmap"
           }
          ],
          "histogram": [
           {
            "marker": {
             "pattern": {
              "fillmode": "overlay",
              "size": 10,
              "solidity": 0.2
             }
            },
            "type": "histogram"
           }
          ],
          "histogram2d": [
           {
            "colorbar": {
             "outlinewidth": 0,
             "tickcolor": "rgb(36,36,36)",
             "ticklen": 8,
             "ticks": "outside",
             "tickwidth": 2
            },
            "colorscale": [
             [
              0,
              "rgb(2,4,25)"
             ],
             [
              0.06274509803921569,
              "rgb(24,15,41)"
             ],
             [
              0.12549019607843137,
              "rgb(47,23,57)"
             ],
             [
              0.18823529411764706,
              "rgb(71,28,72)"
             ],
             [
              0.25098039215686274,
              "rgb(97,30,82)"
             ],
             [
              0.3137254901960784,
              "rgb(123,30,89)"
             ],
             [
              0.3764705882352941,
              "rgb(150,27,91)"
             ],
             [
              0.4392156862745098,
              "rgb(177,22,88)"
             ],
             [
              0.5019607843137255,
              "rgb(203,26,79)"
             ],
             [
              0.5647058823529412,
              "rgb(223,47,67)"
             ],
             [
              0.6274509803921569,
              "rgb(236,76,61)"
             ],
             [
              0.6901960784313725,
              "rgb(242,107,73)"
             ],
             [
              0.7529411764705882,
              "rgb(244,135,95)"
             ],
             [
              0.8156862745098039,
              "rgb(245,162,122)"
             ],
             [
              0.8784313725490196,
              "rgb(246,188,153)"
             ],
             [
              0.9411764705882353,
              "rgb(247,212,187)"
             ],
             [
              1,
              "rgb(250,234,220)"
             ]
            ],
            "type": "histogram2d"
           }
          ],
          "histogram2dcontour": [
           {
            "colorbar": {
             "outlinewidth": 0,
             "tickcolor": "rgb(36,36,36)",
             "ticklen": 8,
             "ticks": "outside",
             "tickwidth": 2
            },
            "colorscale": [
             [
              0,
              "rgb(2,4,25)"
             ],
             [
              0.06274509803921569,
              "rgb(24,15,41)"
             ],
             [
              0.12549019607843137,
              "rgb(47,23,57)"
             ],
             [
              0.18823529411764706,
              "rgb(71,28,72)"
             ],
             [
              0.25098039215686274,
              "rgb(97,30,82)"
             ],
             [
              0.3137254901960784,
              "rgb(123,30,89)"
             ],
             [
              0.3764705882352941,
              "rgb(150,27,91)"
             ],
             [
              0.4392156862745098,
              "rgb(177,22,88)"
             ],
             [
              0.5019607843137255,
              "rgb(203,26,79)"
             ],
             [
              0.5647058823529412,
              "rgb(223,47,67)"
             ],
             [
              0.6274509803921569,
              "rgb(236,76,61)"
             ],
             [
              0.6901960784313725,
              "rgb(242,107,73)"
             ],
             [
              0.7529411764705882,
              "rgb(244,135,95)"
             ],
             [
              0.8156862745098039,
              "rgb(245,162,122)"
             ],
             [
              0.8784313725490196,
              "rgb(246,188,153)"
             ],
             [
              0.9411764705882353,
              "rgb(247,212,187)"
             ],
             [
              1,
              "rgb(250,234,220)"
             ]
            ],
            "type": "histogram2dcontour"
           }
          ],
          "mesh3d": [
           {
            "colorbar": {
             "outlinewidth": 0,
             "tickcolor": "rgb(36,36,36)",
             "ticklen": 8,
             "ticks": "outside",
             "tickwidth": 2
            },
            "type": "mesh3d"
           }
          ],
          "parcoords": [
           {
            "line": {
             "colorbar": {
              "outlinewidth": 0,
              "tickcolor": "rgb(36,36,36)",
              "ticklen": 8,
              "ticks": "outside",
              "tickwidth": 2
             }
            },
            "type": "parcoords"
           }
          ],
          "pie": [
           {
            "automargin": true,
            "type": "pie"
           }
          ],
          "scatter": [
           {
            "fillpattern": {
             "fillmode": "overlay",
             "size": 10,
             "solidity": 0.2
            },
            "type": "scatter"
           }
          ],
          "scatter3d": [
           {
            "line": {
             "colorbar": {
              "outlinewidth": 0,
              "tickcolor": "rgb(36,36,36)",
              "ticklen": 8,
              "ticks": "outside",
              "tickwidth": 2
             }
            },
            "marker": {
             "colorbar": {
              "outlinewidth": 0,
              "tickcolor": "rgb(36,36,36)",
              "ticklen": 8,
              "ticks": "outside",
              "tickwidth": 2
             }
            },
            "type": "scatter3d"
           }
          ],
          "scattercarpet": [
           {
            "marker": {
             "colorbar": {
              "outlinewidth": 0,
              "tickcolor": "rgb(36,36,36)",
              "ticklen": 8,
              "ticks": "outside",
              "tickwidth": 2
             }
            },
            "type": "scattercarpet"
           }
          ],
          "scattergeo": [
           {
            "marker": {
             "colorbar": {
              "outlinewidth": 0,
              "tickcolor": "rgb(36,36,36)",
              "ticklen": 8,
              "ticks": "outside",
              "tickwidth": 2
             }
            },
            "type": "scattergeo"
           }
          ],
          "scattergl": [
           {
            "marker": {
             "colorbar": {
              "outlinewidth": 0,
              "tickcolor": "rgb(36,36,36)",
              "ticklen": 8,
              "ticks": "outside",
              "tickwidth": 2
             }
            },
            "type": "scattergl"
           }
          ],
          "scattermap": [
           {
            "marker": {
             "colorbar": {
              "outlinewidth": 0,
              "tickcolor": "rgb(36,36,36)",
              "ticklen": 8,
              "ticks": "outside",
              "tickwidth": 2
             }
            },
            "type": "scattermap"
           }
          ],
          "scattermapbox": [
           {
            "marker": {
             "colorbar": {
              "outlinewidth": 0,
              "tickcolor": "rgb(36,36,36)",
              "ticklen": 8,
              "ticks": "outside",
              "tickwidth": 2
             }
            },
            "type": "scattermapbox"
           }
          ],
          "scatterpolar": [
           {
            "marker": {
             "colorbar": {
              "outlinewidth": 0,
              "tickcolor": "rgb(36,36,36)",
              "ticklen": 8,
              "ticks": "outside",
              "tickwidth": 2
             }
            },
            "type": "scatterpolar"
           }
          ],
          "scatterpolargl": [
           {
            "marker": {
             "colorbar": {
              "outlinewidth": 0,
              "tickcolor": "rgb(36,36,36)",
              "ticklen": 8,
              "ticks": "outside",
              "tickwidth": 2
             }
            },
            "type": "scatterpolargl"
           }
          ],
          "scatterternary": [
           {
            "marker": {
             "colorbar": {
              "outlinewidth": 0,
              "tickcolor": "rgb(36,36,36)",
              "ticklen": 8,
              "ticks": "outside",
              "tickwidth": 2
             }
            },
            "type": "scatterternary"
           }
          ],
          "surface": [
           {
            "colorbar": {
             "outlinewidth": 0,
             "tickcolor": "rgb(36,36,36)",
             "ticklen": 8,
             "ticks": "outside",
             "tickwidth": 2
            },
            "colorscale": [
             [
              0,
              "rgb(2,4,25)"
             ],
             [
              0.06274509803921569,
              "rgb(24,15,41)"
             ],
             [
              0.12549019607843137,
              "rgb(47,23,57)"
             ],
             [
              0.18823529411764706,
              "rgb(71,28,72)"
             ],
             [
              0.25098039215686274,
              "rgb(97,30,82)"
             ],
             [
              0.3137254901960784,
              "rgb(123,30,89)"
             ],
             [
              0.3764705882352941,
              "rgb(150,27,91)"
             ],
             [
              0.4392156862745098,
              "rgb(177,22,88)"
             ],
             [
              0.5019607843137255,
              "rgb(203,26,79)"
             ],
             [
              0.5647058823529412,
              "rgb(223,47,67)"
             ],
             [
              0.6274509803921569,
              "rgb(236,76,61)"
             ],
             [
              0.6901960784313725,
              "rgb(242,107,73)"
             ],
             [
              0.7529411764705882,
              "rgb(244,135,95)"
             ],
             [
              0.8156862745098039,
              "rgb(245,162,122)"
             ],
             [
              0.8784313725490196,
              "rgb(246,188,153)"
             ],
             [
              0.9411764705882353,
              "rgb(247,212,187)"
             ],
             [
              1,
              "rgb(250,234,220)"
             ]
            ],
            "type": "surface"
           }
          ],
          "table": [
           {
            "cells": {
             "fill": {
              "color": "rgb(231,231,240)"
             },
             "line": {
              "color": "white"
             }
            },
            "header": {
             "fill": {
              "color": "rgb(183,183,191)"
             },
             "line": {
              "color": "white"
             }
            },
            "type": "table"
           }
          ]
         },
         "layout": {
          "annotationdefaults": {
           "arrowcolor": "rgb(67,103,167)"
          },
          "autotypenumbers": "strict",
          "coloraxis": {
           "colorbar": {
            "outlinewidth": 0,
            "tickcolor": "rgb(36,36,36)",
            "ticklen": 8,
            "ticks": "outside",
            "tickwidth": 2
           }
          },
          "colorscale": {
           "sequential": [
            [
             0,
             "rgb(2,4,25)"
            ],
            [
             0.06274509803921569,
             "rgb(24,15,41)"
            ],
            [
             0.12549019607843137,
             "rgb(47,23,57)"
            ],
            [
             0.18823529411764706,
             "rgb(71,28,72)"
            ],
            [
             0.25098039215686274,
             "rgb(97,30,82)"
            ],
            [
             0.3137254901960784,
             "rgb(123,30,89)"
            ],
            [
             0.3764705882352941,
             "rgb(150,27,91)"
            ],
            [
             0.4392156862745098,
             "rgb(177,22,88)"
            ],
            [
             0.5019607843137255,
             "rgb(203,26,79)"
            ],
            [
             0.5647058823529412,
             "rgb(223,47,67)"
            ],
            [
             0.6274509803921569,
             "rgb(236,76,61)"
            ],
            [
             0.6901960784313725,
             "rgb(242,107,73)"
            ],
            [
             0.7529411764705882,
             "rgb(244,135,95)"
            ],
            [
             0.8156862745098039,
             "rgb(245,162,122)"
            ],
            [
             0.8784313725490196,
             "rgb(246,188,153)"
            ],
            [
             0.9411764705882353,
             "rgb(247,212,187)"
            ],
            [
             1,
             "rgb(250,234,220)"
            ]
           ],
           "sequentialminus": [
            [
             0,
             "rgb(2,4,25)"
            ],
            [
             0.06274509803921569,
             "rgb(24,15,41)"
            ],
            [
             0.12549019607843137,
             "rgb(47,23,57)"
            ],
            [
             0.18823529411764706,
             "rgb(71,28,72)"
            ],
            [
             0.25098039215686274,
             "rgb(97,30,82)"
            ],
            [
             0.3137254901960784,
             "rgb(123,30,89)"
            ],
            [
             0.3764705882352941,
             "rgb(150,27,91)"
            ],
            [
             0.4392156862745098,
             "rgb(177,22,88)"
            ],
            [
             0.5019607843137255,
             "rgb(203,26,79)"
            ],
            [
             0.5647058823529412,
             "rgb(223,47,67)"
            ],
            [
             0.6274509803921569,
             "rgb(236,76,61)"
            ],
            [
             0.6901960784313725,
             "rgb(242,107,73)"
            ],
            [
             0.7529411764705882,
             "rgb(244,135,95)"
            ],
            [
             0.8156862745098039,
             "rgb(245,162,122)"
            ],
            [
             0.8784313725490196,
             "rgb(246,188,153)"
            ],
            [
             0.9411764705882353,
             "rgb(247,212,187)"
            ],
            [
             1,
             "rgb(250,234,220)"
            ]
           ]
          },
          "colorway": [
           "rgb(76,114,176)",
           "rgb(221,132,82)",
           "rgb(85,168,104)",
           "rgb(196,78,82)",
           "rgb(129,114,179)",
           "rgb(147,120,96)",
           "rgb(218,139,195)",
           "rgb(140,140,140)",
           "rgb(204,185,116)",
           "rgb(100,181,205)"
          ],
          "font": {
           "color": "rgb(36,36,36)"
          },
          "geo": {
           "bgcolor": "white",
           "lakecolor": "white",
           "landcolor": "rgb(234,234,242)",
           "showlakes": true,
           "showland": true,
           "subunitcolor": "white"
          },
          "hoverlabel": {
           "align": "left"
          },
          "hovermode": "closest",
          "paper_bgcolor": "white",
          "plot_bgcolor": "rgb(234,234,242)",
          "polar": {
           "angularaxis": {
            "gridcolor": "white",
            "linecolor": "white",
            "showgrid": true,
            "ticks": ""
           },
           "bgcolor": "rgb(234,234,242)",
           "radialaxis": {
            "gridcolor": "white",
            "linecolor": "white",
            "showgrid": true,
            "ticks": ""
           }
          },
          "scene": {
           "xaxis": {
            "backgroundcolor": "rgb(234,234,242)",
            "gridcolor": "white",
            "gridwidth": 2,
            "linecolor": "white",
            "showbackground": true,
            "showgrid": true,
            "ticks": "",
            "zerolinecolor": "white"
           },
           "yaxis": {
            "backgroundcolor": "rgb(234,234,242)",
            "gridcolor": "white",
            "gridwidth": 2,
            "linecolor": "white",
            "showbackground": true,
            "showgrid": true,
            "ticks": "",
            "zerolinecolor": "white"
           },
           "zaxis": {
            "backgroundcolor": "rgb(234,234,242)",
            "gridcolor": "white",
            "gridwidth": 2,
            "linecolor": "white",
            "showbackground": true,
            "showgrid": true,
            "ticks": "",
            "zerolinecolor": "white"
           }
          },
          "shapedefaults": {
           "fillcolor": "rgb(67,103,167)",
           "line": {
            "width": 0
           },
           "opacity": 0.5
          },
          "ternary": {
           "aaxis": {
            "gridcolor": "white",
            "linecolor": "white",
            "showgrid": true,
            "ticks": ""
           },
           "baxis": {
            "gridcolor": "white",
            "linecolor": "white",
            "showgrid": true,
            "ticks": ""
           },
           "bgcolor": "rgb(234,234,242)",
           "caxis": {
            "gridcolor": "white",
            "linecolor": "white",
            "showgrid": true,
            "ticks": ""
           }
          },
          "xaxis": {
           "automargin": true,
           "gridcolor": "white",
           "linecolor": "white",
           "showgrid": true,
           "ticks": "",
           "title": {
            "standoff": 15
           },
           "zerolinecolor": "white"
          },
          "yaxis": {
           "automargin": true,
           "gridcolor": "white",
           "linecolor": "white",
           "showgrid": true,
           "ticks": "",
           "title": {
            "standoff": 15
           },
           "zerolinecolor": "white"
          }
         }
        },
        "title": {
         "text": "Pull Force and Nugget Diameter Over Different MPa Values and Nugget Diameter Recommendations"
        },
        "xaxis": {
         "title": {
          "text": "Row Number"
         }
        },
        "yaxis": {
         "showgrid": true,
         "title": {
          "text": "Force (N) or MPa"
         }
        },
        "yaxis2": {
         "overlaying": "y",
         "showgrid": false,
         "side": "right",
         "title": {
          "text": "Nugget Diameter (mm)"
         }
        }
       }
      }
     },
     "metadata": {},
     "output_type": "display_data"
    }
   ],
   "source": [
    "x = train_df_c.index\n",
    "\n",
    "fig = go.Figure()\n",
    "\n",
    "groups = {\n",
    "    \"310MPa\": {\n",
    "        \"cols\": [\"FPull_4d_310MPa\", \"FPull_5d_310MPa\"],\n",
    "        \"colors\": [\"lightblue\", \"blue\"]\n",
    "    },\n",
    "    \"365MPa\": {\n",
    "        \"cols\": [\"FPull_4d_365MPa\", \"FPull_5d_365MPa\"],\n",
    "        \"colors\": [\"lightgreen\", \"green\"]\n",
    "    },\n",
    "    \"440MPa\": {\n",
    "        \"cols\": [\"FPull_4d_440MPa\", \"FPull_5d_440MPa\"],\n",
    "        \"colors\": [\"lightcoral\", \"red\"]\n",
    "    }\n",
    "}\n",
    "\n",
    "for info in groups.values():\n",
    "    for col, col_color in zip(info[\"cols\"], info[\"colors\"]):\n",
    "        fig.add_trace(\n",
    "            go.Scatter(\n",
    "                x=x,\n",
    "                y=train_df_c[col],\n",
    "                mode=\"lines+markers\",\n",
    "                name=col,\n",
    "                line=dict(color=col_color, width=2),\n",
    "                marker=dict(color=col_color)\n",
    "            )\n",
    "        )\n",
    "\n",
    "fig.add_trace(\n",
    "    go.Scatter(\n",
    "        x=x,\n",
    "        y=train_df_c[\"PullTest (N)\"],\n",
    "        mode=\"lines+markers\",\n",
    "        name=\"PullTest (N)\",\n",
    "        line=dict(color=\"grey\", width=2, dash=\"dash\"),\n",
    "        marker=dict(color=\"grey\", size=4)\n",
    "    )\n",
    ")\n",
    "\n",
    "fig.add_trace(\n",
    "    go.Scatter(\n",
    "        x=x,\n",
    "        y=train_df_c[\"NuggetDiameter (mm)\"],\n",
    "        mode=\"lines+markers\",\n",
    "        name=\"NuggetDiameter (mm)\",\n",
    "        line=dict(color=\"black\", width=2),\n",
    "        marker=dict(color=\"black\", size=4),\n",
    "        yaxis=\"y2\"\n",
    "    )\n",
    ")\n",
    "\n",
    "fig.update_layout(\n",
    "    title=\"Pull Force and Nugget Diameter Over Different MPa Values and Nugget Diameter Recommendations\",\n",
    "    xaxis_title=\"Row Number\",\n",
    "    yaxis=dict(\n",
    "        title=\"Force (N) or MPa\",\n",
    "        showgrid=True\n",
    "    ),\n",
    "    yaxis2=dict(\n",
    "        title=\"Nugget Diameter (mm)\",\n",
    "        overlaying=\"y\",\n",
    "        side=\"right\",\n",
    "        showgrid=False\n",
    "    ),\n",
    "    legend_title=\"Series\",\n",
    "    template=\"seaborn\",\n",
    "    legend=dict(\n",
    "        x=1.1,        # push legend past the right edge\n",
    "        y=1,\n",
    "        xanchor=\"left\",\n",
    "        borderwidth=1\n",
    "    ),\n",
    "    margin=dict(r=200)  # give extra room on right for the legend\n",
    ")\n",
    "\n",
    "fig.show()"
   ]
  }
 ],
 "metadata": {
  "kernelspec": {
   "display_name": "phy_based_mlearning",
   "language": "python",
   "name": "python3"
  },
  "language_info": {
   "codemirror_mode": {
    "name": "ipython",
    "version": 3
   },
   "file_extension": ".py",
   "mimetype": "text/x-python",
   "name": "python",
   "nbconvert_exporter": "python",
   "pygments_lexer": "ipython3",
   "version": "3.10.13"
  }
 },
 "nbformat": 4,
 "nbformat_minor": 5
}

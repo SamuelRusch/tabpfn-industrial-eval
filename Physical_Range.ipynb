{
 "cells": [
  {
   "cell_type": "code",
   "execution_count": 1,
   "id": "23f46bbe-4a49-4145-a918-b3d9e0e1e722",
   "metadata": {},
   "outputs": [],
   "source": [
    "import pandas as pd\n",
    "import numpy as np\n",
    "import matplotlib.pyplot as plt\n",
    "from sklearn.metrics import mean_squared_error, r2_score\n",
    "from sklearn.tree import DecisionTreeRegressor\n",
    "from sklearn.ensemble import RandomForestRegressor\n",
    "from xgboost import XGBRegressor\n",
    "import torch\n",
    "import torch.nn as nn\n",
    "import torch.optim as optim\n",
    "from torch.utils.data import Dataset, DataLoader\n",
    "from tab_transformer_pytorch import TabTransformer, FTTransformer\n",
    "from preprocessing import get_features_and_target\n",
    "from sklearn.preprocessing import LabelEncoder\n",
    "from RMSELoss import RMSELoss\n",
    "import plotly.graph_objects as go"
   ]
  },
  {
   "cell_type": "markdown",
   "id": "af7c8f29",
   "metadata": {},
   "source": [
    "# Get Dataset"
   ]
  },
  {
   "cell_type": "code",
   "execution_count": 2,
   "id": "44fdd5e9",
   "metadata": {},
   "outputs": [],
   "source": [
    "train_df = pd.read_csv(\"data/train_data.csv\")\n",
    "dev_df = pd.read_csv(\"data/development_data.csv\")\n",
    "\n",
    "target_column = \"PullTest (N)\"  \n",
    "\n",
    "x_train, y_train = get_features_and_target(train_df, target_column)\n",
    "x_dev, y_dev = get_features_and_target(dev_df, target_column)\n"
   ]
  },
  {
   "cell_type": "markdown",
   "id": "8ac513d1",
   "metadata": {},
   "source": [
    "# Augment for New Columns"
   ]
  },
  {
   "cell_type": "code",
   "execution_count": 3,
   "id": "103a2d99",
   "metadata": {},
   "outputs": [],
   "source": [
    "# Augment the training DataFrame with empty columns for calculations\n",
    "\n",
    "train_df_c = train_df\n",
    "train_df_c['FPull_4d_310MPa'] = ''\n",
    "train_df_c['FPull_5d_310MPa'] = ''\n",
    "train_df_c['FPull_4d_365MPa'] = ''\n",
    "train_df_c['FPull_5d_365MPa'] = ''\n",
    "train_df_c['FPull_4d_440MPa'] = ''\n",
    "train_df_c['FPull_5d_440MPa'] = ''"
   ]
  },
  {
   "cell_type": "markdown",
   "id": "cb1de63a",
   "metadata": {},
   "source": [
    "# Calculate values\n",
    "\n",
    "Formula: \n",
    "\n",
    "Shear-failure model: \n",
    "\n",
    "F = A * τ \n",
    "\n",
    "A = pi * d² / 4\n",
    "\n",
    "τ ≈ 0.6 * σ\n",
    "\n",
    "Nugget Diameter Relation:\n",
    "\n",
    "d ≈ k * √t           (with k = 4 or 5)\n",
    "\n",
    "# F = (pi / 4) * ((4 or 5) * √t)² * (0.6 * σ)"
   ]
  },
  {
   "cell_type": "code",
   "execution_count": 16,
   "id": "2c40e413",
   "metadata": {},
   "outputs": [],
   "source": [
    "for i in range(train_df_c.shape[0]):\n",
    "\n",
    "    # Calculate the thickness based on the minimum of either Thickness A or Thickness B\n",
    "    if train_df_c['Thickness A (mm)'][i] <= train_df_c['Thickness B (mm)'][i]:\n",
    "        t = train_df_c['Thickness A (mm)'][i]\n",
    "    else:\n",
    "        t = train_df_c['Thickness B (mm)'][i]\n",
    "\n",
    "    # Calculate the pull force for different diameters and yield strengths\n",
    "    f_pull_4d_310MPa = (np.pi/4) * np.square(4 * np.sqrt(t)) * (0.8 * 310)\n",
    "    train_df_c.loc[i, 'FPull_4d_310MPa'] = round(f_pull_4d_310MPa, 1)\n",
    "    f_pull_5d_310MPa = (np.pi/4) * np.square(5 * np.sqrt(t)) * (0.8 * 310)\n",
    "    train_df_c.loc[i, 'FPull_5d_310MPa'] = round(f_pull_5d_310MPa, 1)\n",
    "\n",
    "    f_pull_4d_365MPa = (np.pi/4) * np.square(4 * np.sqrt(t)) * (0.8 * 365)\n",
    "    train_df_c.loc[i, 'FPull_4d_365MPa'] = round(f_pull_4d_365MPa, 1)\n",
    "    f_pull_5d_365MPa = (np.pi/4) * np.square(5 * np.sqrt(t)) * (0.8 * 365)\n",
    "    train_df_c.loc[i, 'FPull_5d_365MPa'] = round(f_pull_5d_365MPa, 1)\n",
    "\n",
    "    f_pull_4d_310MPa = (np.pi/4) * np.square(4 * np.sqrt(t)) * (0.8 * 440)\n",
    "    train_df_c.loc[i, 'FPull_4d_440MPa'] = round(f_pull_4d_310MPa, 1)\n",
    "    f_pull_5d_310MPa = (np.pi/4) * np.square(5 * np.sqrt(t)) * (0.8 * 440)\n",
    "    train_df_c.loc[i, 'FPull_5d_440MPa'] = round(f_pull_5d_310MPa, 1)"
   ]
  },
  {
   "cell_type": "markdown",
   "id": "bb725cf2",
   "metadata": {},
   "source": [
    "# About (0.6·σ)\n",
    "\n",
    "Different sources mention different values for the 0,6. If you go with Tresca or von Mises criterion you get 0,5-0,57 which gets approximated to 0,6.  With 45 degree shear plane theroy the relationship is 1/√2 which is 0,707. It is also typical for 0,5 to be used. austenitic stainless steels can range up to ~ 0.8 this material is low carbon steel though and doesn't fall into this category."
   ]
  },
  {
   "cell_type": "markdown",
   "id": "a2a7610e",
   "metadata": {},
   "source": [
    "# Check Dataset"
   ]
  },
  {
   "cell_type": "code",
   "execution_count": 5,
   "id": "88ad2480",
   "metadata": {},
   "outputs": [
    {
     "data": {
      "text/html": [
       "<div>\n",
       "<style scoped>\n",
       "    .dataframe tbody tr th:only-of-type {\n",
       "        vertical-align: middle;\n",
       "    }\n",
       "\n",
       "    .dataframe tbody tr th {\n",
       "        vertical-align: top;\n",
       "    }\n",
       "\n",
       "    .dataframe thead th {\n",
       "        text-align: right;\n",
       "    }\n",
       "</style>\n",
       "<table border=\"1\" class=\"dataframe\">\n",
       "  <thead>\n",
       "    <tr style=\"text-align: right;\">\n",
       "      <th></th>\n",
       "      <th>Sample ID</th>\n",
       "      <th>Pressure (PSI)</th>\n",
       "      <th>Welding Time (ms)</th>\n",
       "      <th>Angle (Deg)</th>\n",
       "      <th>Force (N)</th>\n",
       "      <th>Current (A)</th>\n",
       "      <th>Thickness A (mm)</th>\n",
       "      <th>Thickness B (mm)</th>\n",
       "      <th>Material</th>\n",
       "      <th>PullTest (N)</th>\n",
       "      <th>NuggetDiameter (mm)</th>\n",
       "      <th>Category</th>\n",
       "      <th>Comments</th>\n",
       "      <th>Thickness A+B (mm)</th>\n",
       "      <th>FPull_4d_310MPa</th>\n",
       "      <th>FPull_5d_310MPa</th>\n",
       "      <th>FPull_4d_365MPa</th>\n",
       "      <th>FPull_5d_365MPa</th>\n",
       "      <th>FPull_4d_440MPa</th>\n",
       "      <th>FPull_5d_440MPa</th>\n",
       "    </tr>\n",
       "  </thead>\n",
       "  <tbody>\n",
       "    <tr>\n",
       "      <th>0</th>\n",
       "      <td>101</td>\n",
       "      <td>80</td>\n",
       "      <td>800</td>\n",
       "      <td>0</td>\n",
       "      <td>115.54</td>\n",
       "      <td>2929.03</td>\n",
       "      <td>0.625</td>\n",
       "      <td>0.631</td>\n",
       "      <td>AISI 1010 carbon steel</td>\n",
       "      <td>2683.1</td>\n",
       "      <td>3.41</td>\n",
       "      <td>Good</td>\n",
       "      <td>NaN</td>\n",
       "      <td>1.256</td>\n",
       "      <td>1460.8</td>\n",
       "      <td>2282.6</td>\n",
       "      <td>1720.0</td>\n",
       "      <td>2687.5</td>\n",
       "      <td>2073.5</td>\n",
       "      <td>3239.8</td>\n",
       "    </tr>\n",
       "    <tr>\n",
       "      <th>1</th>\n",
       "      <td>31</td>\n",
       "      <td>95</td>\n",
       "      <td>200</td>\n",
       "      <td>15</td>\n",
       "      <td>8.31</td>\n",
       "      <td>1075.09</td>\n",
       "      <td>0.946</td>\n",
       "      <td>0.939</td>\n",
       "      <td>AISI 1010 carbon steel</td>\n",
       "      <td>2667.3</td>\n",
       "      <td>2.81</td>\n",
       "      <td>Bad</td>\n",
       "      <td>DOE</td>\n",
       "      <td>1.885</td>\n",
       "      <td>2194.8</td>\n",
       "      <td>3429.3</td>\n",
       "      <td>2584.2</td>\n",
       "      <td>4037.8</td>\n",
       "      <td>3115.2</td>\n",
       "      <td>4867.4</td>\n",
       "    </tr>\n",
       "    <tr>\n",
       "      <th>2</th>\n",
       "      <td>493</td>\n",
       "      <td>60</td>\n",
       "      <td>1200</td>\n",
       "      <td>0</td>\n",
       "      <td>97.09</td>\n",
       "      <td>4161.74</td>\n",
       "      <td>0.615</td>\n",
       "      <td>0.619</td>\n",
       "      <td>AISI 1010 carbon steel</td>\n",
       "      <td>2730.3</td>\n",
       "      <td>3.58</td>\n",
       "      <td>Good</td>\n",
       "      <td>NaN</td>\n",
       "      <td>1.234</td>\n",
       "      <td>1437.5</td>\n",
       "      <td>2246.0</td>\n",
       "      <td>1692.5</td>\n",
       "      <td>2644.5</td>\n",
       "      <td>2040.3</td>\n",
       "      <td>3187.9</td>\n",
       "    </tr>\n",
       "    <tr>\n",
       "      <th>3</th>\n",
       "      <td>219</td>\n",
       "      <td>60</td>\n",
       "      <td>400</td>\n",
       "      <td>0</td>\n",
       "      <td>93.01</td>\n",
       "      <td>3140.98</td>\n",
       "      <td>0.621</td>\n",
       "      <td>0.632</td>\n",
       "      <td>AISI 1010 carbon steel</td>\n",
       "      <td>2748.3</td>\n",
       "      <td>3.38</td>\n",
       "      <td>Good</td>\n",
       "      <td>NaN</td>\n",
       "      <td>1.253</td>\n",
       "      <td>1451.5</td>\n",
       "      <td>2268.0</td>\n",
       "      <td>1709.0</td>\n",
       "      <td>2670.3</td>\n",
       "      <td>2060.2</td>\n",
       "      <td>3219.0</td>\n",
       "    </tr>\n",
       "    <tr>\n",
       "      <th>4</th>\n",
       "      <td>60</td>\n",
       "      <td>80</td>\n",
       "      <td>1000</td>\n",
       "      <td>0</td>\n",
       "      <td>96.29</td>\n",
       "      <td>3615.49</td>\n",
       "      <td>0.631</td>\n",
       "      <td>0.640</td>\n",
       "      <td>AISI 1010 carbon steel</td>\n",
       "      <td>2946.9</td>\n",
       "      <td>3.73</td>\n",
       "      <td>Good</td>\n",
       "      <td>NaN</td>\n",
       "      <td>1.271</td>\n",
       "      <td>1474.9</td>\n",
       "      <td>2304.5</td>\n",
       "      <td>1736.5</td>\n",
       "      <td>2713.3</td>\n",
       "      <td>2093.4</td>\n",
       "      <td>3270.9</td>\n",
       "    </tr>\n",
       "  </tbody>\n",
       "</table>\n",
       "</div>"
      ],
      "text/plain": [
       "   Sample ID  Pressure (PSI)  Welding Time (ms)  Angle (Deg)  Force (N)  \\\n",
       "0        101              80                800            0     115.54   \n",
       "1         31              95                200           15       8.31   \n",
       "2        493              60               1200            0      97.09   \n",
       "3        219              60                400            0      93.01   \n",
       "4         60              80               1000            0      96.29   \n",
       "\n",
       "   Current (A)  Thickness A (mm)  Thickness B (mm)                Material  \\\n",
       "0      2929.03             0.625             0.631  AISI 1010 carbon steel   \n",
       "1      1075.09             0.946             0.939  AISI 1010 carbon steel   \n",
       "2      4161.74             0.615             0.619  AISI 1010 carbon steel   \n",
       "3      3140.98             0.621             0.632  AISI 1010 carbon steel   \n",
       "4      3615.49             0.631             0.640  AISI 1010 carbon steel   \n",
       "\n",
       "   PullTest (N)  NuggetDiameter (mm) Category Comments  Thickness A+B (mm)  \\\n",
       "0        2683.1                 3.41     Good      NaN               1.256   \n",
       "1        2667.3                 2.81      Bad      DOE               1.885   \n",
       "2        2730.3                 3.58     Good      NaN               1.234   \n",
       "3        2748.3                 3.38     Good      NaN               1.253   \n",
       "4        2946.9                 3.73     Good      NaN               1.271   \n",
       "\n",
       "  FPull_4d_310MPa FPull_5d_310MPa FPull_4d_365MPa FPull_5d_365MPa  \\\n",
       "0          1460.8          2282.6          1720.0          2687.5   \n",
       "1          2194.8          3429.3          2584.2          4037.8   \n",
       "2          1437.5          2246.0          1692.5          2644.5   \n",
       "3          1451.5          2268.0          1709.0          2670.3   \n",
       "4          1474.9          2304.5          1736.5          2713.3   \n",
       "\n",
       "  FPull_4d_440MPa FPull_5d_440MPa  \n",
       "0          2073.5          3239.8  \n",
       "1          3115.2          4867.4  \n",
       "2          2040.3          3187.9  \n",
       "3          2060.2          3219.0  \n",
       "4          2093.4          3270.9  "
      ]
     },
     "execution_count": 5,
     "metadata": {},
     "output_type": "execute_result"
    }
   ],
   "source": [
    "train_df_c.head()"
   ]
  },
  {
   "cell_type": "markdown",
   "id": "36b94c8c",
   "metadata": {},
   "source": [
    "# Graph"
   ]
  },
  {
   "cell_type": "code",
   "execution_count": 17,
   "id": "9e747d6e",
   "metadata": {},
   "outputs": [
    {
     "data": {
      "application/vnd.plotly.v1+json": {
       "config": {
        "plotlyServerURL": "https://plot.ly"
       },
       "data": [
        {
         "line": {
          "color": "lightblue",
          "width": 2
         },
         "marker": {
          "color": "lightblue"
         },
         "mode": "lines+markers",
         "name": "FPull_4d_310MPa",
         "type": "scatter",
         "x": {
          "bdata": "AAABAAIAAwAEAAUABgAHAAgACQAKAAsADAANAA4ADwAQABEAEgATABQAFQAWABcAGAAZABoAGwAcAB0AHgAfACAAIQAiACMAJAAlACYAJwAoACkAKgArACwALQAuAC8AMAAxADIAMwA0ADUANgA3ADgAOQA6ADsAPAA9AD4APwBAAEEAQgBDAEQARQBGAEcASABJAEoASwBMAE0ATgBPAFAAUQBSAFMAVABVAFYAVwBYAFkAWgBbAFwAXQBeAF8AYABhAGIAYwBkAGUAZgBnAGgAaQBqAGsAbABtAG4AbwBwAHEAcgBzAHQAdQB2AHcAeAB5AHoAewB8AH0AfgB/AIAAgQCCAIMAhACFAIYAhwCIAIkAigCLAIwAjQCOAI8AkACRAJIAkwCUAJUAlgCXAJgAmQCaAJsAnACdAJ4AnwCgAKEAogCjAKQApQCmAKcAqACpAKoAqwCsAK0ArgCvALAAsQCyALMAtAC1ALYAtwC4ALkAugC7ALwAvQC+AL8AwADBAMIAwwDEAMUAxgDHAMgAyQDKAMsAzADNAM4AzwDQANEA0gDTANQA1QDWANcA2ADZANoA2wDcAN0A3gDfAOAA4QDiAOMA5ADlAOYA5wDoAOkA6gDrAOwA7QDuAO8A8ADxAPIA8wD0APUA9gD3APgA+QD6APsA/AD9AP4A/wAAAQEBAgEDAQQBBQEGAQcBCAEJAQoBCwEMAQ0BDgEPARABEQE=",
          "dtype": "i2"
         },
         "y": [
          1947.8,
          2926.4,
          1916.6,
          1935.3,
          1966.5,
          1954,
          1988.3,
          1979,
          2044.4,
          1963.4,
          1938.4,
          1950.9,
          1938.4,
          1938.4,
          1969.6,
          1969.6,
          1944.7,
          1982.1,
          1947.8,
          1932.2,
          1969.6,
          1926,
          1975.8,
          1901,
          1907.3,
          1963.4,
          1966.5,
          1960.3,
          1941.6,
          1972.7,
          1954,
          1979,
          1932.2,
          2867.1,
          1988.3,
          1950.9,
          1947.8,
          1985.2,
          1932.2,
          2010.1,
          1954,
          1957.1,
          1907.3,
          1941.6,
          1926,
          1954,
          1926,
          1950.9,
          1966.5,
          1919.7,
          1947.8,
          1919.7,
          1972.7,
          1929.1,
          1916.6,
          2898.3,
          1932.2,
          1922.9,
          1972.7,
          1938.4,
          1963.4,
          1935.3,
          1916.6,
          1947.8,
          1947.8,
          1954,
          1932.2,
          1985.2,
          1972.7,
          1982.1,
          1975.8,
          1919.7,
          1932.2,
          1944.7,
          1957.1,
          1935.3,
          1910.4,
          1954,
          1975.8,
          1929.1,
          1941.6,
          1935.3,
          1979,
          1979,
          1929.1,
          1957.1,
          1966.5,
          1975.8,
          1944.7,
          1982.1,
          1941.6,
          1919.7,
          2901.4,
          1960.3,
          1929.1,
          1947.8,
          1969.6,
          1966.5,
          1991.4,
          2000.8,
          1935.3,
          1922.9,
          1932.2,
          1947.8,
          1960.3,
          1969.6,
          1975.8,
          1966.5,
          1941.6,
          1982.1,
          2892.1,
          1913.5,
          1926,
          2926.4,
          1941.6,
          1938.4,
          1969.6,
          1988.3,
          1947.8,
          1910.4,
          1966.5,
          1913.5,
          2889,
          1938.4,
          1932.2,
          1972.7,
          1941.6,
          1960.3,
          1972.7,
          1941.6,
          1932.2,
          1922.9,
          1972.7,
          1932.2,
          1988.3,
          1979,
          1960.3,
          1894.8,
          1901,
          1944.7,
          1932.2,
          1919.7,
          1972.7,
          1913.5,
          1982.1,
          1991.4,
          1954,
          1963.4,
          1969.6,
          2000.8,
          1975.8,
          1922.9,
          1985.2,
          1969.6,
          1922.9,
          1938.4,
          1941.6,
          1950.9,
          1988.3,
          1972.7,
          1932.2,
          2013.2,
          2842.2,
          1972.7,
          1944.7,
          1929.1,
          1966.5,
          1919.7,
          1929.1,
          1975.8,
          1985.2,
          1979,
          2889,
          1922.9,
          1988.3,
          1969.6,
          2951.3,
          1947.8,
          1975.8,
          1910.4,
          1969.6,
          1966.5,
          1979,
          2873.4,
          1904.2,
          1957.1,
          1994.5,
          1926,
          2882.7,
          1957.1,
          1947.8,
          1944.7,
          1935.3,
          1991.4,
          1910.4,
          1929.1,
          1947.8,
          1926,
          1954,
          1985.2,
          2000.8,
          1932.2,
          1938.4,
          1935.3,
          1929.1,
          1907.3,
          1966.5,
          1963.4,
          1979,
          1935.3,
          1935.3,
          1963.4,
          1938.4,
          1954,
          1975.8,
          1963.4,
          1957.1,
          1960.3,
          1966.5,
          1935.3,
          1907.3,
          1916.6,
          1910.4,
          1929.1,
          1957.1,
          1944.7,
          1985.2,
          1941.6,
          1969.6,
          1938.4,
          1922.9,
          1975.8,
          1954,
          1935.3,
          1957.1,
          1960.3,
          1935.3,
          1938.4,
          1941.6,
          1975.8,
          1916.6,
          1994.5,
          1966.5,
          1929.1,
          1966.5,
          1972.7,
          1963.4,
          1966.5,
          1979,
          1919.7,
          1938.4,
          1919.7,
          1922.9,
          1944.7,
          1935.3,
          1975.8,
          1979,
          1982.1,
          1960.3,
          1950.9,
          1913.5,
          1926,
          1916.6,
          1950.9,
          1941.6,
          1944.7,
          1947.8,
          1985.2,
          1979,
          1944.7,
          1957.1,
          1944.7,
          1969.6,
          1926
         ]
        },
        {
         "line": {
          "color": "blue",
          "width": 2
         },
         "marker": {
          "color": "blue"
         },
         "mode": "lines+markers",
         "name": "FPull_5d_310MPa",
         "type": "scatter",
         "x": {
          "bdata": "AAABAAIAAwAEAAUABgAHAAgACQAKAAsADAANAA4ADwAQABEAEgATABQAFQAWABcAGAAZABoAGwAcAB0AHgAfACAAIQAiACMAJAAlACYAJwAoACkAKgArACwALQAuAC8AMAAxADIAMwA0ADUANgA3ADgAOQA6ADsAPAA9AD4APwBAAEEAQgBDAEQARQBGAEcASABJAEoASwBMAE0ATgBPAFAAUQBSAFMAVABVAFYAVwBYAFkAWgBbAFwAXQBeAF8AYABhAGIAYwBkAGUAZgBnAGgAaQBqAGsAbABtAG4AbwBwAHEAcgBzAHQAdQB2AHcAeAB5AHoAewB8AH0AfgB/AIAAgQCCAIMAhACFAIYAhwCIAIkAigCLAIwAjQCOAI8AkACRAJIAkwCUAJUAlgCXAJgAmQCaAJsAnACdAJ4AnwCgAKEAogCjAKQApQCmAKcAqACpAKoAqwCsAK0ArgCvALAAsQCyALMAtAC1ALYAtwC4ALkAugC7ALwAvQC+AL8AwADBAMIAwwDEAMUAxgDHAMgAyQDKAMsAzADNAM4AzwDQANEA0gDTANQA1QDWANcA2ADZANoA2wDcAN0A3gDfAOAA4QDiAOMA5ADlAOYA5wDoAOkA6gDrAOwA7QDuAO8A8ADxAPIA8wD0APUA9gD3APgA+QD6APsA/AD9AP4A/wAAAQEBAgEDAQQBBQEGAQcBCAEJAQoBCwEMAQ0BDgEPARABEQE=",
          "dtype": "i2"
         },
         "y": [
          3043.4,
          4572.4,
          2994.7,
          3023.9,
          3072.6,
          3053.2,
          3106.7,
          3092.1,
          3194.4,
          3067.8,
          3028.8,
          3048.3,
          3028.8,
          3028.8,
          3077.5,
          3077.5,
          3038.5,
          3097,
          3043.4,
          3019.1,
          3077.5,
          3009.3,
          3087.2,
          2970.4,
          2980.1,
          3067.8,
          3072.6,
          3062.9,
          3033.7,
          3082.4,
          3053.2,
          3092.1,
          3019.1,
          4479.9,
          3106.7,
          3048.3,
          3043.4,
          3101.9,
          3019.1,
          3140.8,
          3053.2,
          3058,
          2980.1,
          3033.7,
          3009.3,
          3053.2,
          3009.3,
          3048.3,
          3072.6,
          2999.6,
          3043.4,
          2999.6,
          3082.4,
          3014.2,
          2994.7,
          4528.6,
          3019.1,
          3004.5,
          3082.4,
          3028.8,
          3067.8,
          3023.9,
          2994.7,
          3043.4,
          3043.4,
          3053.2,
          3019.1,
          3101.9,
          3082.4,
          3097,
          3087.2,
          2999.6,
          3019.1,
          3038.5,
          3058,
          3023.9,
          2985,
          3053.2,
          3087.2,
          3014.2,
          3033.7,
          3023.9,
          3092.1,
          3092.1,
          3014.2,
          3058,
          3072.6,
          3087.2,
          3038.5,
          3097,
          3033.7,
          2999.6,
          4533.5,
          3062.9,
          3014.2,
          3043.4,
          3077.5,
          3072.6,
          3111.6,
          3126.2,
          3023.9,
          3004.5,
          3019.1,
          3043.4,
          3062.9,
          3077.5,
          3087.2,
          3072.6,
          3033.7,
          3097,
          4518.9,
          2989.9,
          3009.3,
          4572.4,
          3033.7,
          3028.8,
          3077.5,
          3106.7,
          3043.4,
          2985,
          3072.6,
          2989.9,
          4514,
          3028.8,
          3019.1,
          3082.4,
          3033.7,
          3062.9,
          3082.4,
          3033.7,
          3019.1,
          3004.5,
          3082.4,
          3019.1,
          3106.7,
          3092.1,
          3062.9,
          2960.6,
          2970.4,
          3038.5,
          3019.1,
          2999.6,
          3082.4,
          2989.9,
          3097,
          3111.6,
          3053.2,
          3067.8,
          3077.5,
          3126.2,
          3087.2,
          3004.5,
          3101.9,
          3077.5,
          3004.5,
          3028.8,
          3033.7,
          3048.3,
          3106.7,
          3082.4,
          3019.1,
          3145.7,
          4441,
          3082.4,
          3038.5,
          3014.2,
          3072.6,
          2999.6,
          3014.2,
          3087.2,
          3101.9,
          3092.1,
          4514,
          3004.5,
          3106.7,
          3077.5,
          4611.4,
          3043.4,
          3087.2,
          2985,
          3077.5,
          3072.6,
          3092.1,
          4489.7,
          2975.2,
          3058,
          3116.5,
          3009.3,
          4504.3,
          3058,
          3043.4,
          3038.5,
          3023.9,
          3111.6,
          2985,
          3014.2,
          3043.4,
          3009.3,
          3053.2,
          3101.9,
          3126.2,
          3019.1,
          3028.8,
          3023.9,
          3014.2,
          2980.1,
          3072.6,
          3067.8,
          3092.1,
          3023.9,
          3023.9,
          3067.8,
          3028.8,
          3053.2,
          3087.2,
          3067.8,
          3058,
          3062.9,
          3072.6,
          3023.9,
          2980.1,
          2994.7,
          2985,
          3014.2,
          3058,
          3038.5,
          3101.9,
          3033.7,
          3077.5,
          3028.8,
          3004.5,
          3087.2,
          3053.2,
          3023.9,
          3058,
          3062.9,
          3023.9,
          3028.8,
          3033.7,
          3087.2,
          2994.7,
          3116.5,
          3072.6,
          3014.2,
          3072.6,
          3082.4,
          3067.8,
          3072.6,
          3092.1,
          2999.6,
          3028.8,
          2999.6,
          3004.5,
          3038.5,
          3023.9,
          3087.2,
          3092.1,
          3097,
          3062.9,
          3048.3,
          2989.9,
          3009.3,
          2994.7,
          3048.3,
          3033.7,
          3038.5,
          3043.4,
          3101.9,
          3092.1,
          3038.5,
          3058,
          3038.5,
          3077.5,
          3009.3
         ]
        },
        {
         "line": {
          "color": "lightgreen",
          "width": 2
         },
         "marker": {
          "color": "lightgreen"
         },
         "mode": "lines+markers",
         "name": "FPull_4d_365MPa",
         "type": "scatter",
         "x": {
          "bdata": "AAABAAIAAwAEAAUABgAHAAgACQAKAAsADAANAA4ADwAQABEAEgATABQAFQAWABcAGAAZABoAGwAcAB0AHgAfACAAIQAiACMAJAAlACYAJwAoACkAKgArACwALQAuAC8AMAAxADIAMwA0ADUANgA3ADgAOQA6ADsAPAA9AD4APwBAAEEAQgBDAEQARQBGAEcASABJAEoASwBMAE0ATgBPAFAAUQBSAFMAVABVAFYAVwBYAFkAWgBbAFwAXQBeAF8AYABhAGIAYwBkAGUAZgBnAGgAaQBqAGsAbABtAG4AbwBwAHEAcgBzAHQAdQB2AHcAeAB5AHoAewB8AH0AfgB/AIAAgQCCAIMAhACFAIYAhwCIAIkAigCLAIwAjQCOAI8AkACRAJIAkwCUAJUAlgCXAJgAmQCaAJsAnACdAJ4AnwCgAKEAogCjAKQApQCmAKcAqACpAKoAqwCsAK0ArgCvALAAsQCyALMAtAC1ALYAtwC4ALkAugC7ALwAvQC+AL8AwADBAMIAwwDEAMUAxgDHAMgAyQDKAMsAzADNAM4AzwDQANEA0gDTANQA1QDWANcA2ADZANoA2wDcAN0A3gDfAOAA4QDiAOMA5ADlAOYA5wDoAOkA6gDrAOwA7QDuAO8A8ADxAPIA8wD0APUA9gD3APgA+QD6APsA/AD9AP4A/wAAAQEBAgEDAQQBBQEGAQcBCAEJAQoBCwEMAQ0BDgEPARABEQE=",
          "dtype": "i2"
         },
         "y": [
          2293.4,
          3445.5,
          2256.7,
          2278.7,
          2315.4,
          2300.7,
          2341.1,
          2330.1,
          2407.1,
          2311.7,
          2282.4,
          2297,
          2282.4,
          2282.4,
          2319,
          2319,
          2289.7,
          2333.7,
          2293.4,
          2275,
          2319,
          2267.7,
          2326.4,
          2238.3,
          2245.7,
          2311.7,
          2315.4,
          2308,
          2286,
          2322.7,
          2300.7,
          2330.1,
          2275,
          3375.8,
          2341.1,
          2297,
          2293.4,
          2337.4,
          2275,
          2366.8,
          2300.7,
          2304.4,
          2245.7,
          2286,
          2267.7,
          2300.7,
          2267.7,
          2297,
          2315.4,
          2260.3,
          2293.4,
          2260.3,
          2322.7,
          2271.3,
          2256.7,
          3412.5,
          2275,
          2264,
          2322.7,
          2282.4,
          2311.7,
          2278.7,
          2256.7,
          2293.4,
          2293.4,
          2300.7,
          2275,
          2337.4,
          2322.7,
          2333.7,
          2326.4,
          2260.3,
          2275,
          2289.7,
          2304.4,
          2278.7,
          2249.3,
          2300.7,
          2326.4,
          2271.3,
          2286,
          2278.7,
          2330.1,
          2330.1,
          2271.3,
          2304.4,
          2315.4,
          2326.4,
          2289.7,
          2333.7,
          2286,
          2260.3,
          3416.2,
          2308,
          2271.3,
          2293.4,
          2319,
          2315.4,
          2344.7,
          2355.7,
          2278.7,
          2264,
          2275,
          2293.4,
          2308,
          2319,
          2326.4,
          2315.4,
          2286,
          2333.7,
          3405.2,
          2253,
          2267.7,
          3445.5,
          2286,
          2282.4,
          2319,
          2341.1,
          2293.4,
          2249.3,
          2315.4,
          2253,
          3401.5,
          2282.4,
          2275,
          2322.7,
          2286,
          2308,
          2322.7,
          2286,
          2275,
          2264,
          2322.7,
          2275,
          2341.1,
          2330.1,
          2308,
          2231,
          2238.3,
          2289.7,
          2275,
          2260.3,
          2322.7,
          2253,
          2333.7,
          2344.7,
          2300.7,
          2311.7,
          2319,
          2355.7,
          2326.4,
          2264,
          2337.4,
          2319,
          2264,
          2282.4,
          2286,
          2297,
          2341.1,
          2322.7,
          2275,
          2370.4,
          3346.5,
          2322.7,
          2289.7,
          2271.3,
          2315.4,
          2260.3,
          2271.3,
          2326.4,
          2337.4,
          2330.1,
          3401.5,
          2264,
          2341.1,
          2319,
          3474.9,
          2293.4,
          2326.4,
          2249.3,
          2319,
          2315.4,
          2330.1,
          3383.2,
          2242,
          2304.4,
          2348.4,
          2267.7,
          3394.2,
          2304.4,
          2293.4,
          2289.7,
          2278.7,
          2344.7,
          2249.3,
          2271.3,
          2293.4,
          2267.7,
          2300.7,
          2337.4,
          2355.7,
          2275,
          2282.4,
          2278.7,
          2271.3,
          2245.7,
          2315.4,
          2311.7,
          2330.1,
          2278.7,
          2278.7,
          2311.7,
          2282.4,
          2300.7,
          2326.4,
          2311.7,
          2304.4,
          2308,
          2315.4,
          2278.7,
          2245.7,
          2256.7,
          2249.3,
          2271.3,
          2304.4,
          2289.7,
          2337.4,
          2286,
          2319,
          2282.4,
          2264,
          2326.4,
          2300.7,
          2278.7,
          2304.4,
          2308,
          2278.7,
          2282.4,
          2286,
          2326.4,
          2256.7,
          2348.4,
          2315.4,
          2271.3,
          2315.4,
          2322.7,
          2311.7,
          2315.4,
          2330.1,
          2260.3,
          2282.4,
          2260.3,
          2264,
          2289.7,
          2278.7,
          2326.4,
          2330.1,
          2333.7,
          2308,
          2297,
          2253,
          2267.7,
          2256.7,
          2297,
          2286,
          2289.7,
          2293.4,
          2337.4,
          2330.1,
          2289.7,
          2304.4,
          2289.7,
          2319,
          2267.7
         ]
        },
        {
         "line": {
          "color": "green",
          "width": 2
         },
         "marker": {
          "color": "green"
         },
         "mode": "lines+markers",
         "name": "FPull_5d_365MPa",
         "type": "scatter",
         "x": {
          "bdata": "AAABAAIAAwAEAAUABgAHAAgACQAKAAsADAANAA4ADwAQABEAEgATABQAFQAWABcAGAAZABoAGwAcAB0AHgAfACAAIQAiACMAJAAlACYAJwAoACkAKgArACwALQAuAC8AMAAxADIAMwA0ADUANgA3ADgAOQA6ADsAPAA9AD4APwBAAEEAQgBDAEQARQBGAEcASABJAEoASwBMAE0ATgBPAFAAUQBSAFMAVABVAFYAVwBYAFkAWgBbAFwAXQBeAF8AYABhAGIAYwBkAGUAZgBnAGgAaQBqAGsAbABtAG4AbwBwAHEAcgBzAHQAdQB2AHcAeAB5AHoAewB8AH0AfgB/AIAAgQCCAIMAhACFAIYAhwCIAIkAigCLAIwAjQCOAI8AkACRAJIAkwCUAJUAlgCXAJgAmQCaAJsAnACdAJ4AnwCgAKEAogCjAKQApQCmAKcAqACpAKoAqwCsAK0ArgCvALAAsQCyALMAtAC1ALYAtwC4ALkAugC7ALwAvQC+AL8AwADBAMIAwwDEAMUAxgDHAMgAyQDKAMsAzADNAM4AzwDQANEA0gDTANQA1QDWANcA2ADZANoA2wDcAN0A3gDfAOAA4QDiAOMA5ADlAOYA5wDoAOkA6gDrAOwA7QDuAO8A8ADxAPIA8wD0APUA9gD3APgA+QD6APsA/AD9AP4A/wAAAQEBAgEDAQQBBQEGAQcBCAEJAQoBCwEMAQ0BDgEPARABEQE=",
          "dtype": "i2"
         },
         "y": [
          3583.4,
          5383.7,
          3526,
          3560.4,
          3617.8,
          3594.8,
          3657.9,
          3640.7,
          3761.1,
          3612,
          3566.2,
          3589.1,
          3566.2,
          3566.2,
          3623.5,
          3623.5,
          3577.6,
          3646.4,
          3583.4,
          3554.7,
          3623.5,
          3543.2,
          3635,
          3497.4,
          3508.8,
          3612,
          3617.8,
          3606.3,
          3571.9,
          3629.2,
          3594.8,
          3640.7,
          3554.7,
          5274.7,
          3657.9,
          3589.1,
          3583.4,
          3652.2,
          3554.7,
          3698,
          3594.8,
          3600.6,
          3508.8,
          3571.9,
          3543.2,
          3594.8,
          3543.2,
          3589.1,
          3617.8,
          3531.8,
          3583.4,
          3531.8,
          3629.2,
          3549,
          3526,
          5332.1,
          3554.7,
          3537.5,
          3629.2,
          3566.2,
          3612,
          3560.4,
          3526,
          3583.4,
          3583.4,
          3594.8,
          3554.7,
          3652.2,
          3629.2,
          3646.4,
          3635,
          3531.8,
          3554.7,
          3577.6,
          3600.6,
          3560.4,
          3514.6,
          3594.8,
          3635,
          3549,
          3571.9,
          3560.4,
          3640.7,
          3640.7,
          3549,
          3600.6,
          3617.8,
          3635,
          3577.6,
          3646.4,
          3571.9,
          3531.8,
          5337.8,
          3606.3,
          3549,
          3583.4,
          3623.5,
          3617.8,
          3663.6,
          3680.8,
          3560.4,
          3537.5,
          3554.7,
          3583.4,
          3606.3,
          3623.5,
          3635,
          3617.8,
          3571.9,
          3646.4,
          5320.6,
          3520.3,
          3543.2,
          5383.7,
          3571.9,
          3566.2,
          3623.5,
          3657.9,
          3583.4,
          3514.6,
          3617.8,
          3520.3,
          5314.9,
          3566.2,
          3554.7,
          3629.2,
          3571.9,
          3606.3,
          3629.2,
          3571.9,
          3554.7,
          3537.5,
          3629.2,
          3554.7,
          3657.9,
          3640.7,
          3606.3,
          3485.9,
          3497.4,
          3577.6,
          3554.7,
          3531.8,
          3629.2,
          3520.3,
          3646.4,
          3663.6,
          3594.8,
          3612,
          3623.5,
          3680.8,
          3635,
          3537.5,
          3652.2,
          3623.5,
          3537.5,
          3566.2,
          3571.9,
          3589.1,
          3657.9,
          3629.2,
          3554.7,
          3703.8,
          5228.9,
          3629.2,
          3577.6,
          3549,
          3617.8,
          3531.8,
          3549,
          3635,
          3652.2,
          3640.7,
          5314.9,
          3537.5,
          3657.9,
          3623.5,
          5429.5,
          3583.4,
          3635,
          3514.6,
          3623.5,
          3617.8,
          3640.7,
          5286.2,
          3503.1,
          3600.6,
          3669.4,
          3543.2,
          5303.4,
          3600.6,
          3583.4,
          3577.6,
          3560.4,
          3663.6,
          3514.6,
          3549,
          3583.4,
          3543.2,
          3594.8,
          3652.2,
          3680.8,
          3554.7,
          3566.2,
          3560.4,
          3549,
          3508.8,
          3617.8,
          3612,
          3640.7,
          3560.4,
          3560.4,
          3612,
          3566.2,
          3594.8,
          3635,
          3612,
          3600.6,
          3606.3,
          3617.8,
          3560.4,
          3508.8,
          3526,
          3514.6,
          3549,
          3600.6,
          3577.6,
          3652.2,
          3571.9,
          3623.5,
          3566.2,
          3537.5,
          3635,
          3594.8,
          3560.4,
          3600.6,
          3606.3,
          3560.4,
          3566.2,
          3571.9,
          3635,
          3526,
          3669.4,
          3617.8,
          3549,
          3617.8,
          3629.2,
          3612,
          3617.8,
          3640.7,
          3531.8,
          3566.2,
          3531.8,
          3537.5,
          3577.6,
          3560.4,
          3635,
          3640.7,
          3646.4,
          3606.3,
          3589.1,
          3520.3,
          3543.2,
          3526,
          3589.1,
          3571.9,
          3577.6,
          3583.4,
          3652.2,
          3640.7,
          3577.6,
          3600.6,
          3577.6,
          3623.5,
          3543.2
         ]
        },
        {
         "line": {
          "color": "lightcoral",
          "width": 2
         },
         "marker": {
          "color": "lightcoral"
         },
         "mode": "lines+markers",
         "name": "FPull_4d_440MPa",
         "type": "scatter",
         "x": {
          "bdata": "AAABAAIAAwAEAAUABgAHAAgACQAKAAsADAANAA4ADwAQABEAEgATABQAFQAWABcAGAAZABoAGwAcAB0AHgAfACAAIQAiACMAJAAlACYAJwAoACkAKgArACwALQAuAC8AMAAxADIAMwA0ADUANgA3ADgAOQA6ADsAPAA9AD4APwBAAEEAQgBDAEQARQBGAEcASABJAEoASwBMAE0ATgBPAFAAUQBSAFMAVABVAFYAVwBYAFkAWgBbAFwAXQBeAF8AYABhAGIAYwBkAGUAZgBnAGgAaQBqAGsAbABtAG4AbwBwAHEAcgBzAHQAdQB2AHcAeAB5AHoAewB8AH0AfgB/AIAAgQCCAIMAhACFAIYAhwCIAIkAigCLAIwAjQCOAI8AkACRAJIAkwCUAJUAlgCXAJgAmQCaAJsAnACdAJ4AnwCgAKEAogCjAKQApQCmAKcAqACpAKoAqwCsAK0ArgCvALAAsQCyALMAtAC1ALYAtwC4ALkAugC7ALwAvQC+AL8AwADBAMIAwwDEAMUAxgDHAMgAyQDKAMsAzADNAM4AzwDQANEA0gDTANQA1QDWANcA2ADZANoA2wDcAN0A3gDfAOAA4QDiAOMA5ADlAOYA5wDoAOkA6gDrAOwA7QDuAO8A8ADxAPIA8wD0APUA9gD3APgA+QD6APsA/AD9AP4A/wAAAQEBAgEDAQQBBQEGAQcBCAEJAQoBCwEMAQ0BDgEPARABEQE=",
          "dtype": "i2"
         },
         "y": [
          2764.6,
          4153.5,
          2720.4,
          2746.9,
          2791.1,
          2773.4,
          2822.1,
          2808.8,
          2901.7,
          2786.7,
          2751.3,
          2769,
          2751.3,
          2751.3,
          2795.6,
          2795.6,
          2760.2,
          2813.3,
          2764.6,
          2742.5,
          2795.6,
          2733.6,
          2804.4,
          2698.3,
          2707.1,
          2786.7,
          2791.1,
          2782.3,
          2755.8,
          2800,
          2773.4,
          2808.8,
          2742.5,
          4069.5,
          2822.1,
          2769,
          2764.6,
          2817.7,
          2742.5,
          2853.1,
          2773.4,
          2777.9,
          2707.1,
          2755.8,
          2733.6,
          2773.4,
          2733.6,
          2769,
          2791.1,
          2724.8,
          2764.6,
          2724.8,
          2800,
          2738.1,
          2720.4,
          4113.7,
          2742.5,
          2729.2,
          2800,
          2751.3,
          2786.7,
          2746.9,
          2720.4,
          2764.6,
          2764.6,
          2773.4,
          2742.5,
          2817.7,
          2800,
          2813.3,
          2804.4,
          2724.8,
          2742.5,
          2760.2,
          2777.9,
          2746.9,
          2711.5,
          2773.4,
          2804.4,
          2738.1,
          2755.8,
          2746.9,
          2808.8,
          2808.8,
          2738.1,
          2777.9,
          2791.1,
          2804.4,
          2760.2,
          2813.3,
          2755.8,
          2724.8,
          4118.2,
          2782.3,
          2738.1,
          2764.6,
          2795.6,
          2791.1,
          2826.5,
          2839.8,
          2746.9,
          2729.2,
          2742.5,
          2764.6,
          2782.3,
          2795.6,
          2804.4,
          2791.1,
          2755.8,
          2813.3,
          4104.9,
          2715.9,
          2733.6,
          4153.5,
          2755.8,
          2751.3,
          2795.6,
          2822.1,
          2764.6,
          2711.5,
          2791.1,
          2715.9,
          4100.5,
          2751.3,
          2742.5,
          2800,
          2755.8,
          2782.3,
          2800,
          2755.8,
          2742.5,
          2729.2,
          2800,
          2742.5,
          2822.1,
          2808.8,
          2782.3,
          2689.4,
          2698.3,
          2760.2,
          2742.5,
          2724.8,
          2800,
          2715.9,
          2813.3,
          2826.5,
          2773.4,
          2786.7,
          2795.6,
          2839.8,
          2804.4,
          2729.2,
          2817.7,
          2795.6,
          2729.2,
          2751.3,
          2755.8,
          2769,
          2822.1,
          2800,
          2742.5,
          2857.5,
          4034.1,
          2800,
          2760.2,
          2738.1,
          2791.1,
          2724.8,
          2738.1,
          2804.4,
          2817.7,
          2808.8,
          4100.5,
          2729.2,
          2822.1,
          2795.6,
          4188.9,
          2764.6,
          2804.4,
          2711.5,
          2795.6,
          2791.1,
          2808.8,
          4078.3,
          2702.7,
          2777.9,
          2831,
          2733.6,
          4091.6,
          2777.9,
          2764.6,
          2760.2,
          2746.9,
          2826.5,
          2711.5,
          2738.1,
          2764.6,
          2733.6,
          2773.4,
          2817.7,
          2839.8,
          2742.5,
          2751.3,
          2746.9,
          2738.1,
          2707.1,
          2791.1,
          2786.7,
          2808.8,
          2746.9,
          2746.9,
          2786.7,
          2751.3,
          2773.4,
          2804.4,
          2786.7,
          2777.9,
          2782.3,
          2791.1,
          2746.9,
          2707.1,
          2720.4,
          2711.5,
          2738.1,
          2777.9,
          2760.2,
          2817.7,
          2755.8,
          2795.6,
          2751.3,
          2729.2,
          2804.4,
          2773.4,
          2746.9,
          2777.9,
          2782.3,
          2746.9,
          2751.3,
          2755.8,
          2804.4,
          2720.4,
          2831,
          2791.1,
          2738.1,
          2791.1,
          2800,
          2786.7,
          2791.1,
          2808.8,
          2724.8,
          2751.3,
          2724.8,
          2729.2,
          2760.2,
          2746.9,
          2804.4,
          2808.8,
          2813.3,
          2782.3,
          2769,
          2715.9,
          2733.6,
          2720.4,
          2769,
          2755.8,
          2760.2,
          2764.6,
          2817.7,
          2808.8,
          2760.2,
          2777.9,
          2760.2,
          2795.6,
          2733.6
         ]
        },
        {
         "line": {
          "color": "red",
          "width": 2
         },
         "marker": {
          "color": "red"
         },
         "mode": "lines+markers",
         "name": "FPull_5d_440MPa",
         "type": "scatter",
         "x": {
          "bdata": "AAABAAIAAwAEAAUABgAHAAgACQAKAAsADAANAA4ADwAQABEAEgATABQAFQAWABcAGAAZABoAGwAcAB0AHgAfACAAIQAiACMAJAAlACYAJwAoACkAKgArACwALQAuAC8AMAAxADIAMwA0ADUANgA3ADgAOQA6ADsAPAA9AD4APwBAAEEAQgBDAEQARQBGAEcASABJAEoASwBMAE0ATgBPAFAAUQBSAFMAVABVAFYAVwBYAFkAWgBbAFwAXQBeAF8AYABhAGIAYwBkAGUAZgBnAGgAaQBqAGsAbABtAG4AbwBwAHEAcgBzAHQAdQB2AHcAeAB5AHoAewB8AH0AfgB/AIAAgQCCAIMAhACFAIYAhwCIAIkAigCLAIwAjQCOAI8AkACRAJIAkwCUAJUAlgCXAJgAmQCaAJsAnACdAJ4AnwCgAKEAogCjAKQApQCmAKcAqACpAKoAqwCsAK0ArgCvALAAsQCyALMAtAC1ALYAtwC4ALkAugC7ALwAvQC+AL8AwADBAMIAwwDEAMUAxgDHAMgAyQDKAMsAzADNAM4AzwDQANEA0gDTANQA1QDWANcA2ADZANoA2wDcAN0A3gDfAOAA4QDiAOMA5ADlAOYA5wDoAOkA6gDrAOwA7QDuAO8A8ADxAPIA8wD0APUA9gD3APgA+QD6APsA/AD9AP4A/wAAAQEBAgEDAQQBBQEGAQcBCAEJAQoBCwEMAQ0BDgEPARABEQE=",
          "dtype": "i2"
         },
         "y": [
          4319.7,
          6489.9,
          4250.6,
          4292,
          4361.2,
          4333.5,
          4409.5,
          4388.8,
          4533.9,
          4354.2,
          4299,
          4326.6,
          4299,
          4299,
          4368.1,
          4368.1,
          4312.8,
          4395.7,
          4319.7,
          4285.1,
          4368.1,
          4271.3,
          4381.9,
          4216,
          4229.8,
          4354.2,
          4361.2,
          4347.3,
          4305.9,
          4375,
          4333.5,
          4388.8,
          4285.1,
          6358.6,
          4409.5,
          4326.6,
          4319.7,
          4402.6,
          4285.1,
          4457.9,
          4333.5,
          4340.4,
          4229.8,
          4305.9,
          4271.3,
          4333.5,
          4271.3,
          4326.6,
          4361.2,
          4257.5,
          4319.7,
          4257.5,
          4375,
          4278.2,
          4250.6,
          6427.7,
          4285.1,
          4264.4,
          4375,
          4299,
          4354.2,
          4292,
          4250.6,
          4319.7,
          4319.7,
          4333.5,
          4285.1,
          4402.6,
          4375,
          4395.7,
          4381.9,
          4257.5,
          4285.1,
          4312.8,
          4340.4,
          4292,
          4236.8,
          4333.5,
          4381.9,
          4278.2,
          4305.9,
          4292,
          4388.8,
          4388.8,
          4278.2,
          4340.4,
          4361.2,
          4381.9,
          4312.8,
          4395.7,
          4305.9,
          4257.5,
          6434.6,
          4347.3,
          4278.2,
          4319.7,
          4368.1,
          4361.2,
          4416.5,
          4437.2,
          4292,
          4264.4,
          4285.1,
          4319.7,
          4347.3,
          4368.1,
          4381.9,
          4361.2,
          4305.9,
          4395.7,
          6413.9,
          4243.7,
          4271.3,
          6489.9,
          4305.9,
          4299,
          4368.1,
          4409.5,
          4319.7,
          4236.8,
          4361.2,
          4243.7,
          6407,
          4299,
          4285.1,
          4375,
          4305.9,
          4347.3,
          4375,
          4305.9,
          4285.1,
          4264.4,
          4375,
          4285.1,
          4409.5,
          4388.8,
          4347.3,
          4202.2,
          4216,
          4312.8,
          4285.1,
          4257.5,
          4375,
          4243.7,
          4395.7,
          4416.5,
          4333.5,
          4354.2,
          4368.1,
          4437.2,
          4381.9,
          4264.4,
          4402.6,
          4368.1,
          4264.4,
          4299,
          4305.9,
          4326.6,
          4409.5,
          4375,
          4285.1,
          4464.8,
          6303.3,
          4375,
          4312.8,
          4278.2,
          4361.2,
          4257.5,
          4278.2,
          4381.9,
          4402.6,
          4388.8,
          6407,
          4264.4,
          4409.5,
          4368.1,
          6545.2,
          4319.7,
          4381.9,
          4236.8,
          4368.1,
          4361.2,
          4388.8,
          6372.4,
          4222.9,
          4340.4,
          4423.4,
          4271.3,
          6393.1,
          4340.4,
          4319.7,
          4312.8,
          4292,
          4416.5,
          4236.8,
          4278.2,
          4319.7,
          4271.3,
          4333.5,
          4402.6,
          4437.2,
          4285.1,
          4299,
          4292,
          4278.2,
          4229.8,
          4361.2,
          4354.2,
          4388.8,
          4292,
          4292,
          4354.2,
          4299,
          4333.5,
          4381.9,
          4354.2,
          4340.4,
          4347.3,
          4361.2,
          4292,
          4229.8,
          4250.6,
          4236.8,
          4278.2,
          4340.4,
          4312.8,
          4402.6,
          4305.9,
          4368.1,
          4299,
          4264.4,
          4381.9,
          4333.5,
          4292,
          4340.4,
          4347.3,
          4292,
          4299,
          4305.9,
          4381.9,
          4250.6,
          4423.4,
          4361.2,
          4278.2,
          4361.2,
          4375,
          4354.2,
          4361.2,
          4388.8,
          4257.5,
          4299,
          4257.5,
          4264.4,
          4312.8,
          4292,
          4381.9,
          4388.8,
          4395.7,
          4347.3,
          4326.6,
          4243.7,
          4271.3,
          4250.6,
          4326.6,
          4305.9,
          4312.8,
          4319.7,
          4402.6,
          4388.8,
          4312.8,
          4340.4,
          4312.8,
          4368.1,
          4271.3
         ]
        },
        {
         "line": {
          "color": "grey",
          "dash": "dash",
          "width": 2
         },
         "marker": {
          "color": "grey",
          "size": 4
         },
         "mode": "lines+markers",
         "name": "PullTest (N)",
         "type": "scatter",
         "x": {
          "bdata": "AAABAAIAAwAEAAUABgAHAAgACQAKAAsADAANAA4ADwAQABEAEgATABQAFQAWABcAGAAZABoAGwAcAB0AHgAfACAAIQAiACMAJAAlACYAJwAoACkAKgArACwALQAuAC8AMAAxADIAMwA0ADUANgA3ADgAOQA6ADsAPAA9AD4APwBAAEEAQgBDAEQARQBGAEcASABJAEoASwBMAE0ATgBPAFAAUQBSAFMAVABVAFYAVwBYAFkAWgBbAFwAXQBeAF8AYABhAGIAYwBkAGUAZgBnAGgAaQBqAGsAbABtAG4AbwBwAHEAcgBzAHQAdQB2AHcAeAB5AHoAewB8AH0AfgB/AIAAgQCCAIMAhACFAIYAhwCIAIkAigCLAIwAjQCOAI8AkACRAJIAkwCUAJUAlgCXAJgAmQCaAJsAnACdAJ4AnwCgAKEAogCjAKQApQCmAKcAqACpAKoAqwCsAK0ArgCvALAAsQCyALMAtAC1ALYAtwC4ALkAugC7ALwAvQC+AL8AwADBAMIAwwDEAMUAxgDHAMgAyQDKAMsAzADNAM4AzwDQANEA0gDTANQA1QDWANcA2ADZANoA2wDcAN0A3gDfAOAA4QDiAOMA5ADlAOYA5wDoAOkA6gDrAOwA7QDuAO8A8ADxAPIA8wD0APUA9gD3APgA+QD6APsA/AD9AP4A/wAAAQEBAgEDAQQBBQEGAQcBCAEJAQoBCwEMAQ0BDgEPARABEQE=",
          "dtype": "i2"
         },
         "y": {
          "bdata": "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",
          "dtype": "f8"
         }
        },
        {
         "line": {
          "color": "black",
          "width": 2
         },
         "marker": {
          "color": "black",
          "size": 4
         },
         "mode": "lines+markers",
         "name": "NuggetDiameter (mm)",
         "type": "scatter",
         "x": {
          "bdata": "AAABAAIAAwAEAAUABgAHAAgACQAKAAsADAANAA4ADwAQABEAEgATABQAFQAWABcAGAAZABoAGwAcAB0AHgAfACAAIQAiACMAJAAlACYAJwAoACkAKgArACwALQAuAC8AMAAxADIAMwA0ADUANgA3ADgAOQA6ADsAPAA9AD4APwBAAEEAQgBDAEQARQBGAEcASABJAEoASwBMAE0ATgBPAFAAUQBSAFMAVABVAFYAVwBYAFkAWgBbAFwAXQBeAF8AYABhAGIAYwBkAGUAZgBnAGgAaQBqAGsAbABtAG4AbwBwAHEAcgBzAHQAdQB2AHcAeAB5AHoAewB8AH0AfgB/AIAAgQCCAIMAhACFAIYAhwCIAIkAigCLAIwAjQCOAI8AkACRAJIAkwCUAJUAlgCXAJgAmQCaAJsAnACdAJ4AnwCgAKEAogCjAKQApQCmAKcAqACpAKoAqwCsAK0ArgCvALAAsQCyALMAtAC1ALYAtwC4ALkAugC7ALwAvQC+AL8AwADBAMIAwwDEAMUAxgDHAMgAyQDKAMsAzADNAM4AzwDQANEA0gDTANQA1QDWANcA2ADZANoA2wDcAN0A3gDfAOAA4QDiAOMA5ADlAOYA5wDoAOkA6gDrAOwA7QDuAO8A8ADxAPIA8wD0APUA9gD3APgA+QD6APsA/AD9AP4A/wAAAQEBAgEDAQQBBQEGAQcBCAEJAQoBCwEMAQ0BDgEPARABEQE=",
          "dtype": "i2"
         },
         "y": {
          "bdata": "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",
          "dtype": "f8"
         },
         "yaxis": "y2"
        }
       ],
       "layout": {
        "legend": {
         "borderwidth": 1,
         "title": {
          "text": "Series"
         },
         "x": 1.1,
         "xanchor": "left",
         "y": 1
        },
        "margin": {
         "r": 200
        },
        "template": {
         "data": {
          "bar": [
           {
            "error_x": {
             "color": "rgb(36,36,36)"
            },
            "error_y": {
             "color": "rgb(36,36,36)"
            },
            "marker": {
             "line": {
              "color": "rgb(234,234,242)",
              "width": 0.5
             },
             "pattern": {
              "fillmode": "overlay",
              "size": 10,
              "solidity": 0.2
             }
            },
            "type": "bar"
           }
          ],
          "barpolar": [
           {
            "marker": {
             "line": {
              "color": "rgb(234,234,242)",
              "width": 0.5
             },
             "pattern": {
              "fillmode": "overlay",
              "size": 10,
              "solidity": 0.2
             }
            },
            "type": "barpolar"
           }
          ],
          "carpet": [
           {
            "aaxis": {
             "endlinecolor": "rgb(36,36,36)",
             "gridcolor": "white",
             "linecolor": "white",
             "minorgridcolor": "white",
             "startlinecolor": "rgb(36,36,36)"
            },
            "baxis": {
             "endlinecolor": "rgb(36,36,36)",
             "gridcolor": "white",
             "linecolor": "white",
             "minorgridcolor": "white",
             "startlinecolor": "rgb(36,36,36)"
            },
            "type": "carpet"
           }
          ],
          "choropleth": [
           {
            "colorbar": {
             "outlinewidth": 0,
             "tickcolor": "rgb(36,36,36)",
             "ticklen": 8,
             "ticks": "outside",
             "tickwidth": 2
            },
            "type": "choropleth"
           }
          ],
          "contour": [
           {
            "colorbar": {
             "outlinewidth": 0,
             "tickcolor": "rgb(36,36,36)",
             "ticklen": 8,
             "ticks": "outside",
             "tickwidth": 2
            },
            "colorscale": [
             [
              0,
              "rgb(2,4,25)"
             ],
             [
              0.06274509803921569,
              "rgb(24,15,41)"
             ],
             [
              0.12549019607843137,
              "rgb(47,23,57)"
             ],
             [
              0.18823529411764706,
              "rgb(71,28,72)"
             ],
             [
              0.25098039215686274,
              "rgb(97,30,82)"
             ],
             [
              0.3137254901960784,
              "rgb(123,30,89)"
             ],
             [
              0.3764705882352941,
              "rgb(150,27,91)"
             ],
             [
              0.4392156862745098,
              "rgb(177,22,88)"
             ],
             [
              0.5019607843137255,
              "rgb(203,26,79)"
             ],
             [
              0.5647058823529412,
              "rgb(223,47,67)"
             ],
             [
              0.6274509803921569,
              "rgb(236,76,61)"
             ],
             [
              0.6901960784313725,
              "rgb(242,107,73)"
             ],
             [
              0.7529411764705882,
              "rgb(244,135,95)"
             ],
             [
              0.8156862745098039,
              "rgb(245,162,122)"
             ],
             [
              0.8784313725490196,
              "rgb(246,188,153)"
             ],
             [
              0.9411764705882353,
              "rgb(247,212,187)"
             ],
             [
              1,
              "rgb(250,234,220)"
             ]
            ],
            "type": "contour"
           }
          ],
          "contourcarpet": [
           {
            "colorbar": {
             "outlinewidth": 0,
             "tickcolor": "rgb(36,36,36)",
             "ticklen": 8,
             "ticks": "outside",
             "tickwidth": 2
            },
            "type": "contourcarpet"
           }
          ],
          "heatmap": [
           {
            "colorbar": {
             "outlinewidth": 0,
             "tickcolor": "rgb(36,36,36)",
             "ticklen": 8,
             "ticks": "outside",
             "tickwidth": 2
            },
            "colorscale": [
             [
              0,
              "rgb(2,4,25)"
             ],
             [
              0.06274509803921569,
              "rgb(24,15,41)"
             ],
             [
              0.12549019607843137,
              "rgb(47,23,57)"
             ],
             [
              0.18823529411764706,
              "rgb(71,28,72)"
             ],
             [
              0.25098039215686274,
              "rgb(97,30,82)"
             ],
             [
              0.3137254901960784,
              "rgb(123,30,89)"
             ],
             [
              0.3764705882352941,
              "rgb(150,27,91)"
             ],
             [
              0.4392156862745098,
              "rgb(177,22,88)"
             ],
             [
              0.5019607843137255,
              "rgb(203,26,79)"
             ],
             [
              0.5647058823529412,
              "rgb(223,47,67)"
             ],
             [
              0.6274509803921569,
              "rgb(236,76,61)"
             ],
             [
              0.6901960784313725,
              "rgb(242,107,73)"
             ],
             [
              0.7529411764705882,
              "rgb(244,135,95)"
             ],
             [
              0.8156862745098039,
              "rgb(245,162,122)"
             ],
             [
              0.8784313725490196,
              "rgb(246,188,153)"
             ],
             [
              0.9411764705882353,
              "rgb(247,212,187)"
             ],
             [
              1,
              "rgb(250,234,220)"
             ]
            ],
            "type": "heatmap"
           }
          ],
          "histogram": [
           {
            "marker": {
             "pattern": {
              "fillmode": "overlay",
              "size": 10,
              "solidity": 0.2
             }
            },
            "type": "histogram"
           }
          ],
          "histogram2d": [
           {
            "colorbar": {
             "outlinewidth": 0,
             "tickcolor": "rgb(36,36,36)",
             "ticklen": 8,
             "ticks": "outside",
             "tickwidth": 2
            },
            "colorscale": [
             [
              0,
              "rgb(2,4,25)"
             ],
             [
              0.06274509803921569,
              "rgb(24,15,41)"
             ],
             [
              0.12549019607843137,
              "rgb(47,23,57)"
             ],
             [
              0.18823529411764706,
              "rgb(71,28,72)"
             ],
             [
              0.25098039215686274,
              "rgb(97,30,82)"
             ],
             [
              0.3137254901960784,
              "rgb(123,30,89)"
             ],
             [
              0.3764705882352941,
              "rgb(150,27,91)"
             ],
             [
              0.4392156862745098,
              "rgb(177,22,88)"
             ],
             [
              0.5019607843137255,
              "rgb(203,26,79)"
             ],
             [
              0.5647058823529412,
              "rgb(223,47,67)"
             ],
             [
              0.6274509803921569,
              "rgb(236,76,61)"
             ],
             [
              0.6901960784313725,
              "rgb(242,107,73)"
             ],
             [
              0.7529411764705882,
              "rgb(244,135,95)"
             ],
             [
              0.8156862745098039,
              "rgb(245,162,122)"
             ],
             [
              0.8784313725490196,
              "rgb(246,188,153)"
             ],
             [
              0.9411764705882353,
              "rgb(247,212,187)"
             ],
             [
              1,
              "rgb(250,234,220)"
             ]
            ],
            "type": "histogram2d"
           }
          ],
          "histogram2dcontour": [
           {
            "colorbar": {
             "outlinewidth": 0,
             "tickcolor": "rgb(36,36,36)",
             "ticklen": 8,
             "ticks": "outside",
             "tickwidth": 2
            },
            "colorscale": [
             [
              0,
              "rgb(2,4,25)"
             ],
             [
              0.06274509803921569,
              "rgb(24,15,41)"
             ],
             [
              0.12549019607843137,
              "rgb(47,23,57)"
             ],
             [
              0.18823529411764706,
              "rgb(71,28,72)"
             ],
             [
              0.25098039215686274,
              "rgb(97,30,82)"
             ],
             [
              0.3137254901960784,
              "rgb(123,30,89)"
             ],
             [
              0.3764705882352941,
              "rgb(150,27,91)"
             ],
             [
              0.4392156862745098,
              "rgb(177,22,88)"
             ],
             [
              0.5019607843137255,
              "rgb(203,26,79)"
             ],
             [
              0.5647058823529412,
              "rgb(223,47,67)"
             ],
             [
              0.6274509803921569,
              "rgb(236,76,61)"
             ],
             [
              0.6901960784313725,
              "rgb(242,107,73)"
             ],
             [
              0.7529411764705882,
              "rgb(244,135,95)"
             ],
             [
              0.8156862745098039,
              "rgb(245,162,122)"
             ],
             [
              0.8784313725490196,
              "rgb(246,188,153)"
             ],
             [
              0.9411764705882353,
              "rgb(247,212,187)"
             ],
             [
              1,
              "rgb(250,234,220)"
             ]
            ],
            "type": "histogram2dcontour"
           }
          ],
          "mesh3d": [
           {
            "colorbar": {
             "outlinewidth": 0,
             "tickcolor": "rgb(36,36,36)",
             "ticklen": 8,
             "ticks": "outside",
             "tickwidth": 2
            },
            "type": "mesh3d"
           }
          ],
          "parcoords": [
           {
            "line": {
             "colorbar": {
              "outlinewidth": 0,
              "tickcolor": "rgb(36,36,36)",
              "ticklen": 8,
              "ticks": "outside",
              "tickwidth": 2
             }
            },
            "type": "parcoords"
           }
          ],
          "pie": [
           {
            "automargin": true,
            "type": "pie"
           }
          ],
          "scatter": [
           {
            "fillpattern": {
             "fillmode": "overlay",
             "size": 10,
             "solidity": 0.2
            },
            "type": "scatter"
           }
          ],
          "scatter3d": [
           {
            "line": {
             "colorbar": {
              "outlinewidth": 0,
              "tickcolor": "rgb(36,36,36)",
              "ticklen": 8,
              "ticks": "outside",
              "tickwidth": 2
             }
            },
            "marker": {
             "colorbar": {
              "outlinewidth": 0,
              "tickcolor": "rgb(36,36,36)",
              "ticklen": 8,
              "ticks": "outside",
              "tickwidth": 2
             }
            },
            "type": "scatter3d"
           }
          ],
          "scattercarpet": [
           {
            "marker": {
             "colorbar": {
              "outlinewidth": 0,
              "tickcolor": "rgb(36,36,36)",
              "ticklen": 8,
              "ticks": "outside",
              "tickwidth": 2
             }
            },
            "type": "scattercarpet"
           }
          ],
          "scattergeo": [
           {
            "marker": {
             "colorbar": {
              "outlinewidth": 0,
              "tickcolor": "rgb(36,36,36)",
              "ticklen": 8,
              "ticks": "outside",
              "tickwidth": 2
             }
            },
            "type": "scattergeo"
           }
          ],
          "scattergl": [
           {
            "marker": {
             "colorbar": {
              "outlinewidth": 0,
              "tickcolor": "rgb(36,36,36)",
              "ticklen": 8,
              "ticks": "outside",
              "tickwidth": 2
             }
            },
            "type": "scattergl"
           }
          ],
          "scattermap": [
           {
            "marker": {
             "colorbar": {
              "outlinewidth": 0,
              "tickcolor": "rgb(36,36,36)",
              "ticklen": 8,
              "ticks": "outside",
              "tickwidth": 2
             }
            },
            "type": "scattermap"
           }
          ],
          "scattermapbox": [
           {
            "marker": {
             "colorbar": {
              "outlinewidth": 0,
              "tickcolor": "rgb(36,36,36)",
              "ticklen": 8,
              "ticks": "outside",
              "tickwidth": 2
             }
            },
            "type": "scattermapbox"
           }
          ],
          "scatterpolar": [
           {
            "marker": {
             "colorbar": {
              "outlinewidth": 0,
              "tickcolor": "rgb(36,36,36)",
              "ticklen": 8,
              "ticks": "outside",
              "tickwidth": 2
             }
            },
            "type": "scatterpolar"
           }
          ],
          "scatterpolargl": [
           {
            "marker": {
             "colorbar": {
              "outlinewidth": 0,
              "tickcolor": "rgb(36,36,36)",
              "ticklen": 8,
              "ticks": "outside",
              "tickwidth": 2
             }
            },
            "type": "scatterpolargl"
           }
          ],
          "scatterternary": [
           {
            "marker": {
             "colorbar": {
              "outlinewidth": 0,
              "tickcolor": "rgb(36,36,36)",
              "ticklen": 8,
              "ticks": "outside",
              "tickwidth": 2
             }
            },
            "type": "scatterternary"
           }
          ],
          "surface": [
           {
            "colorbar": {
             "outlinewidth": 0,
             "tickcolor": "rgb(36,36,36)",
             "ticklen": 8,
             "ticks": "outside",
             "tickwidth": 2
            },
            "colorscale": [
             [
              0,
              "rgb(2,4,25)"
             ],
             [
              0.06274509803921569,
              "rgb(24,15,41)"
             ],
             [
              0.12549019607843137,
              "rgb(47,23,57)"
             ],
             [
              0.18823529411764706,
              "rgb(71,28,72)"
             ],
             [
              0.25098039215686274,
              "rgb(97,30,82)"
             ],
             [
              0.3137254901960784,
              "rgb(123,30,89)"
             ],
             [
              0.3764705882352941,
              "rgb(150,27,91)"
             ],
             [
              0.4392156862745098,
              "rgb(177,22,88)"
             ],
             [
              0.5019607843137255,
              "rgb(203,26,79)"
             ],
             [
              0.5647058823529412,
              "rgb(223,47,67)"
             ],
             [
              0.6274509803921569,
              "rgb(236,76,61)"
             ],
             [
              0.6901960784313725,
              "rgb(242,107,73)"
             ],
             [
              0.7529411764705882,
              "rgb(244,135,95)"
             ],
             [
              0.8156862745098039,
              "rgb(245,162,122)"
             ],
             [
              0.8784313725490196,
              "rgb(246,188,153)"
             ],
             [
              0.9411764705882353,
              "rgb(247,212,187)"
             ],
             [
              1,
              "rgb(250,234,220)"
             ]
            ],
            "type": "surface"
           }
          ],
          "table": [
           {
            "cells": {
             "fill": {
              "color": "rgb(231,231,240)"
             },
             "line": {
              "color": "white"
             }
            },
            "header": {
             "fill": {
              "color": "rgb(183,183,191)"
             },
             "line": {
              "color": "white"
             }
            },
            "type": "table"
           }
          ]
         },
         "layout": {
          "annotationdefaults": {
           "arrowcolor": "rgb(67,103,167)"
          },
          "autotypenumbers": "strict",
          "coloraxis": {
           "colorbar": {
            "outlinewidth": 0,
            "tickcolor": "rgb(36,36,36)",
            "ticklen": 8,
            "ticks": "outside",
            "tickwidth": 2
           }
          },
          "colorscale": {
           "sequential": [
            [
             0,
             "rgb(2,4,25)"
            ],
            [
             0.06274509803921569,
             "rgb(24,15,41)"
            ],
            [
             0.12549019607843137,
             "rgb(47,23,57)"
            ],
            [
             0.18823529411764706,
             "rgb(71,28,72)"
            ],
            [
             0.25098039215686274,
             "rgb(97,30,82)"
            ],
            [
             0.3137254901960784,
             "rgb(123,30,89)"
            ],
            [
             0.3764705882352941,
             "rgb(150,27,91)"
            ],
            [
             0.4392156862745098,
             "rgb(177,22,88)"
            ],
            [
             0.5019607843137255,
             "rgb(203,26,79)"
            ],
            [
             0.5647058823529412,
             "rgb(223,47,67)"
            ],
            [
             0.6274509803921569,
             "rgb(236,76,61)"
            ],
            [
             0.6901960784313725,
             "rgb(242,107,73)"
            ],
            [
             0.7529411764705882,
             "rgb(244,135,95)"
            ],
            [
             0.8156862745098039,
             "rgb(245,162,122)"
            ],
            [
             0.8784313725490196,
             "rgb(246,188,153)"
            ],
            [
             0.9411764705882353,
             "rgb(247,212,187)"
            ],
            [
             1,
             "rgb(250,234,220)"
            ]
           ],
           "sequentialminus": [
            [
             0,
             "rgb(2,4,25)"
            ],
            [
             0.06274509803921569,
             "rgb(24,15,41)"
            ],
            [
             0.12549019607843137,
             "rgb(47,23,57)"
            ],
            [
             0.18823529411764706,
             "rgb(71,28,72)"
            ],
            [
             0.25098039215686274,
             "rgb(97,30,82)"
            ],
            [
             0.3137254901960784,
             "rgb(123,30,89)"
            ],
            [
             0.3764705882352941,
             "rgb(150,27,91)"
            ],
            [
             0.4392156862745098,
             "rgb(177,22,88)"
            ],
            [
             0.5019607843137255,
             "rgb(203,26,79)"
            ],
            [
             0.5647058823529412,
             "rgb(223,47,67)"
            ],
            [
             0.6274509803921569,
             "rgb(236,76,61)"
            ],
            [
             0.6901960784313725,
             "rgb(242,107,73)"
            ],
            [
             0.7529411764705882,
             "rgb(244,135,95)"
            ],
            [
             0.8156862745098039,
             "rgb(245,162,122)"
            ],
            [
             0.8784313725490196,
             "rgb(246,188,153)"
            ],
            [
             0.9411764705882353,
             "rgb(247,212,187)"
            ],
            [
             1,
             "rgb(250,234,220)"
            ]
           ]
          },
          "colorway": [
           "rgb(76,114,176)",
           "rgb(221,132,82)",
           "rgb(85,168,104)",
           "rgb(196,78,82)",
           "rgb(129,114,179)",
           "rgb(147,120,96)",
           "rgb(218,139,195)",
           "rgb(140,140,140)",
           "rgb(204,185,116)",
           "rgb(100,181,205)"
          ],
          "font": {
           "color": "rgb(36,36,36)"
          },
          "geo": {
           "bgcolor": "white",
           "lakecolor": "white",
           "landcolor": "rgb(234,234,242)",
           "showlakes": true,
           "showland": true,
           "subunitcolor": "white"
          },
          "hoverlabel": {
           "align": "left"
          },
          "hovermode": "closest",
          "paper_bgcolor": "white",
          "plot_bgcolor": "rgb(234,234,242)",
          "polar": {
           "angularaxis": {
            "gridcolor": "white",
            "linecolor": "white",
            "showgrid": true,
            "ticks": ""
           },
           "bgcolor": "rgb(234,234,242)",
           "radialaxis": {
            "gridcolor": "white",
            "linecolor": "white",
            "showgrid": true,
            "ticks": ""
           }
          },
          "scene": {
           "xaxis": {
            "backgroundcolor": "rgb(234,234,242)",
            "gridcolor": "white",
            "gridwidth": 2,
            "linecolor": "white",
            "showbackground": true,
            "showgrid": true,
            "ticks": "",
            "zerolinecolor": "white"
           },
           "yaxis": {
            "backgroundcolor": "rgb(234,234,242)",
            "gridcolor": "white",
            "gridwidth": 2,
            "linecolor": "white",
            "showbackground": true,
            "showgrid": true,
            "ticks": "",
            "zerolinecolor": "white"
           },
           "zaxis": {
            "backgroundcolor": "rgb(234,234,242)",
            "gridcolor": "white",
            "gridwidth": 2,
            "linecolor": "white",
            "showbackground": true,
            "showgrid": true,
            "ticks": "",
            "zerolinecolor": "white"
           }
          },
          "shapedefaults": {
           "fillcolor": "rgb(67,103,167)",
           "line": {
            "width": 0
           },
           "opacity": 0.5
          },
          "ternary": {
           "aaxis": {
            "gridcolor": "white",
            "linecolor": "white",
            "showgrid": true,
            "ticks": ""
           },
           "baxis": {
            "gridcolor": "white",
            "linecolor": "white",
            "showgrid": true,
            "ticks": ""
           },
           "bgcolor": "rgb(234,234,242)",
           "caxis": {
            "gridcolor": "white",
            "linecolor": "white",
            "showgrid": true,
            "ticks": ""
           }
          },
          "xaxis": {
           "automargin": true,
           "gridcolor": "white",
           "linecolor": "white",
           "showgrid": true,
           "ticks": "",
           "title": {
            "standoff": 15
           },
           "zerolinecolor": "white"
          },
          "yaxis": {
           "automargin": true,
           "gridcolor": "white",
           "linecolor": "white",
           "showgrid": true,
           "ticks": "",
           "title": {
            "standoff": 15
           },
           "zerolinecolor": "white"
          }
         }
        },
        "title": {
         "text": "Pull Force and Nugget Diameter Over Different MPa Values and Nugget Diameter Recommendations"
        },
        "xaxis": {
         "title": {
          "text": "Row Number"
         }
        },
        "yaxis": {
         "showgrid": true,
         "title": {
          "text": "Force (N) or MPa"
         }
        },
        "yaxis2": {
         "overlaying": "y",
         "showgrid": false,
         "side": "right",
         "title": {
          "text": "Nugget Diameter (mm)"
         }
        }
       }
      }
     },
     "metadata": {},
     "output_type": "display_data"
    }
   ],
   "source": [
    "x = train_df_c.index\n",
    "\n",
    "fig = go.Figure()\n",
    "\n",
    "groups = {\n",
    "    \"310MPa\": {\n",
    "        \"cols\": [\"FPull_4d_310MPa\", \"FPull_5d_310MPa\"],\n",
    "        \"colors\": [\"lightblue\", \"blue\"]\n",
    "    },\n",
    "    \"365MPa\": {\n",
    "        \"cols\": [\"FPull_4d_365MPa\", \"FPull_5d_365MPa\"],\n",
    "        \"colors\": [\"lightgreen\", \"green\"]\n",
    "    },\n",
    "    \"440MPa\": {\n",
    "        \"cols\": [\"FPull_4d_440MPa\", \"FPull_5d_440MPa\"],\n",
    "        \"colors\": [\"lightcoral\", \"red\"]\n",
    "    }\n",
    "}\n",
    "\n",
    "for info in groups.values():\n",
    "    for col, col_color in zip(info[\"cols\"], info[\"colors\"]):\n",
    "        fig.add_trace(\n",
    "            go.Scatter(\n",
    "                x=x,\n",
    "                y=train_df_c[col],\n",
    "                mode=\"lines+markers\",\n",
    "                name=col,\n",
    "                line=dict(color=col_color, width=2),\n",
    "                marker=dict(color=col_color)\n",
    "            )\n",
    "        )\n",
    "\n",
    "fig.add_trace(\n",
    "    go.Scatter(\n",
    "        x=x,\n",
    "        y=train_df_c[\"PullTest (N)\"],\n",
    "        mode=\"lines+markers\",\n",
    "        name=\"PullTest (N)\",\n",
    "        line=dict(color=\"grey\", width=2, dash=\"dash\"),\n",
    "        marker=dict(color=\"grey\", size=4)\n",
    "    )\n",
    ")\n",
    "\n",
    "fig.add_trace(\n",
    "    go.Scatter(\n",
    "        x=x,\n",
    "        y=train_df_c[\"NuggetDiameter (mm)\"],\n",
    "        mode=\"lines+markers\",\n",
    "        name=\"NuggetDiameter (mm)\",\n",
    "        line=dict(color=\"black\", width=2),\n",
    "        marker=dict(color=\"black\", size=4),\n",
    "        yaxis=\"y2\"\n",
    "    )\n",
    ")\n",
    "\n",
    "fig.update_layout(\n",
    "    title=\"Pull Force and Nugget Diameter Over Different MPa Values and Nugget Diameter Recommendations\",\n",
    "    xaxis_title=\"Row Number\",\n",
    "    yaxis=dict(\n",
    "        title=\"Force (N) or MPa\",\n",
    "        showgrid=True\n",
    "    ),\n",
    "    yaxis2=dict(\n",
    "        title=\"Nugget Diameter (mm)\",\n",
    "        overlaying=\"y\",\n",
    "        side=\"right\",\n",
    "        showgrid=False\n",
    "    ),\n",
    "    legend_title=\"Series\",\n",
    "    template=\"seaborn\",\n",
    "    legend=dict(\n",
    "        x=1.1,        # push legend past the right edge\n",
    "        y=1,\n",
    "        xanchor=\"left\",\n",
    "        borderwidth=1\n",
    "    ),\n",
    "    margin=dict(r=200)  # give extra room on right for the legend\n",
    ")\n",
    "\n",
    "fig.show()"
   ]
  }
 ],
 "metadata": {
  "kernelspec": {
   "display_name": "phy_based_mlearning",
   "language": "python",
   "name": "python3"
  },
  "language_info": {
   "codemirror_mode": {
    "name": "ipython",
    "version": 3
   },
   "file_extension": ".py",
   "mimetype": "text/x-python",
   "name": "python",
   "nbconvert_exporter": "python",
   "pygments_lexer": "ipython3",
   "version": "3.10.13"
  }
 },
 "nbformat": 4,
 "nbformat_minor": 5
}

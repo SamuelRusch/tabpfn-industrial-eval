{
 "cells": [
  {
   "cell_type": "code",
   "execution_count": 4,
   "id": "23f46bbe-4a49-4145-a918-b3d9e0e1e722",
   "metadata": {},
   "outputs": [],
   "source": [
    "import torch\n",
    "from tab_transformer_pytorch import FTTransformer\n",
    "\n",
    "model = FTTransformer(\n",
    "    categories = (1,1),      # tuple containing the number of unique values within each category\n",
    "    num_continuous = 10,                # number of continuous values\n",
    "    dim = 32,                           # dimension, paper set at 32\n",
    "    dim_out = 1,                        # binary prediction, but could be anything\n",
    "    depth = 6,                          # depth, paper recommended 6\n",
    "    heads = 8,                          # heads, paper recommends 8\n",
    "    attn_dropout = 0.1,                 # post-attention dropout\n",
    "    ff_dropout = 0.1                    # feed forward dropout\n",
    ")\n",
    "\n",
    "x_categ = torch.randint(0, 1, (1, 2))     # category values, from 0 - max number of categories, in the order as passed into the constructor above\n",
    "x_numer = torch.randn(1, 10)              # numerical value\n",
    "\n",
    "pred = model(x_categ, x_numer) # (1, 1)"
   ]
  }
 ],
 "metadata": {
  "kernelspec": {
   "display_name": "phy_based_mlearning",
   "language": "python",
   "name": "python3"
  },
  "language_info": {
   "codemirror_mode": {
    "name": "ipython",
    "version": 3
   },
   "file_extension": ".py",
   "mimetype": "text/x-python",
   "name": "python",
   "nbconvert_exporter": "python",
   "pygments_lexer": "ipython3",
   "version": "3.10.13"
  }
 },
 "nbformat": 4,
 "nbformat_minor": 5
}
